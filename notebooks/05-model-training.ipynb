{
 "cells": [
  {
   "cell_type": "markdown",
   "metadata": {},
   "source": [
    "# Feature Imporatnce Analysis"
   ]
  },
  {
   "cell_type": "code",
   "execution_count": 146,
   "metadata": {},
   "outputs": [
    {
     "name": "stdout",
     "output_type": "stream",
     "text": [
      "The autoreload extension is already loaded. To reload it, use:\n",
      "  %reload_ext autoreload\n"
     ]
    }
   ],
   "source": [
    "# imports\n",
    "import matplotlib.pyplot as plt\n",
    "import pandas as pd\n",
    "import seaborn as sns\n",
    "import configparser\n",
    "from sklearn.ensemble import RandomForestClassifier\n",
    "from sklearn.metrics import roc_auc_score\n",
    "\n",
    "from src.utils import utils\n",
    "from src.modelling import training as train\n",
    "from src.modelling import models, training\n",
    "\n",
    "\n",
    "\n",
    "%matplotlib inline\n",
    "\n",
    "%load_ext autoreload\n",
    "%autoreload 2"
   ]
  },
  {
   "cell_type": "markdown",
   "metadata": {},
   "source": [
    "## Read data"
   ]
  },
  {
   "cell_type": "code",
   "execution_count": 147,
   "metadata": {},
   "outputs": [],
   "source": [
    "proj_root = utils.get_proj_root()\n",
    "config = configparser.ConfigParser(interpolation=None)\n",
    "config.read(proj_root.joinpath('config/data_config.ini'))\n",
    "\n",
    "final_year = int(config['year_limits']['end_year'])\n",
    "training_data_rel_path = config['data_paths']['preprocessed_data_path']\n",
    "\n",
    "training_data_path =  proj_root.joinpath(training_data_rel_path)\n",
    "training_data_subset_path  = proj_root.joinpath(config['data_paths']['training_subset_path'])\n",
    "testing_data_subset_path  = proj_root.joinpath(config['data_paths']['testing_subset_path'])\n",
    "\n",
    "\n",
    "\n",
    "model_output_path = proj_root.joinpath(config['modelling_paths']['logistic_regression_model_path'])"
   ]
  },
  {
   "cell_type": "code",
   "execution_count": 148,
   "metadata": {},
   "outputs": [
    {
     "data": {
      "text/html": [
       "<div>\n",
       "<style scoped>\n",
       "    .dataframe tbody tr th:only-of-type {\n",
       "        vertical-align: middle;\n",
       "    }\n",
       "\n",
       "    .dataframe tbody tr th {\n",
       "        vertical-align: top;\n",
       "    }\n",
       "\n",
       "    .dataframe thead th {\n",
       "        text-align: right;\n",
       "    }\n",
       "</style>\n",
       "<table border=\"1\" class=\"dataframe\">\n",
       "  <thead>\n",
       "    <tr style=\"text-align: right;\">\n",
       "      <th></th>\n",
       "      <th>year</th>\n",
       "      <th>industry</th>\n",
       "      <th>symbol</th>\n",
       "      <th>currentRatio</th>\n",
       "      <th>currentRatio_percentage_change</th>\n",
       "      <th>quickRatio</th>\n",
       "      <th>quickRatio_percentage_change</th>\n",
       "      <th>daysOfSalesOutstanding</th>\n",
       "      <th>daysOfSalesOutstanding_percentage_change</th>\n",
       "      <th>daysOfInventoryOutstanding</th>\n",
       "      <th>...</th>\n",
       "      <th>priceEarningsToGrowthRatio_percentage_change</th>\n",
       "      <th>dividendYield</th>\n",
       "      <th>dividendYield_percentage_change</th>\n",
       "      <th>enterpriseValueMultiple</th>\n",
       "      <th>enterpriseValueMultiple_percentage_change</th>\n",
       "      <th>interestRate</th>\n",
       "      <th>interestRate_percentage_change</th>\n",
       "      <th>adjDividend</th>\n",
       "      <th>dps_growth</th>\n",
       "      <th>dps_change_next_year</th>\n",
       "    </tr>\n",
       "  </thead>\n",
       "  <tbody>\n",
       "    <tr>\n",
       "      <th>0</th>\n",
       "      <td>2012</td>\n",
       "      <td>24</td>\n",
       "      <td>291</td>\n",
       "      <td>2.198387</td>\n",
       "      <td>-2.275946</td>\n",
       "      <td>1.385806</td>\n",
       "      <td>-0.090461</td>\n",
       "      <td>49.567449</td>\n",
       "      <td>3.987852</td>\n",
       "      <td>89.289449</td>\n",
       "      <td>...</td>\n",
       "      <td>6.939145</td>\n",
       "      <td>0.025377</td>\n",
       "      <td>-5.500411</td>\n",
       "      <td>8.692139</td>\n",
       "      <td>5.900833</td>\n",
       "      <td>0.14</td>\n",
       "      <td>40.000000</td>\n",
       "      <td>2.36</td>\n",
       "      <td>7.272727</td>\n",
       "      <td>0</td>\n",
       "    </tr>\n",
       "    <tr>\n",
       "      <th>1</th>\n",
       "      <td>2013</td>\n",
       "      <td>24</td>\n",
       "      <td>291</td>\n",
       "      <td>1.698186</td>\n",
       "      <td>-22.753086</td>\n",
       "      <td>1.012270</td>\n",
       "      <td>-26.954450</td>\n",
       "      <td>50.284895</td>\n",
       "      <td>1.447414</td>\n",
       "      <td>87.567366</td>\n",
       "      <td>...</td>\n",
       "      <td>21.913077</td>\n",
       "      <td>0.018089</td>\n",
       "      <td>-28.717392</td>\n",
       "      <td>12.326051</td>\n",
       "      <td>41.806877</td>\n",
       "      <td>0.11</td>\n",
       "      <td>-21.428571</td>\n",
       "      <td>2.54</td>\n",
       "      <td>7.627119</td>\n",
       "      <td>0</td>\n",
       "    </tr>\n",
       "    <tr>\n",
       "      <th>2</th>\n",
       "      <td>2014</td>\n",
       "      <td>24</td>\n",
       "      <td>291</td>\n",
       "      <td>1.961487</td>\n",
       "      <td>15.504836</td>\n",
       "      <td>1.127209</td>\n",
       "      <td>11.354593</td>\n",
       "      <td>48.611609</td>\n",
       "      <td>-3.327613</td>\n",
       "      <td>82.245394</td>\n",
       "      <td>...</td>\n",
       "      <td>-39.851336</td>\n",
       "      <td>0.020773</td>\n",
       "      <td>14.836058</td>\n",
       "      <td>13.065263</td>\n",
       "      <td>5.997151</td>\n",
       "      <td>0.09</td>\n",
       "      <td>-18.181818</td>\n",
       "      <td>3.42</td>\n",
       "      <td>34.645669</td>\n",
       "      <td>0</td>\n",
       "    </tr>\n",
       "    <tr>\n",
       "      <th>3</th>\n",
       "      <td>2015</td>\n",
       "      <td>24</td>\n",
       "      <td>291</td>\n",
       "      <td>1.543411</td>\n",
       "      <td>-21.314241</td>\n",
       "      <td>0.852768</td>\n",
       "      <td>-24.346986</td>\n",
       "      <td>50.082909</td>\n",
       "      <td>3.026645</td>\n",
       "      <td>83.473315</td>\n",
       "      <td>...</td>\n",
       "      <td>799.567847</td>\n",
       "      <td>0.027175</td>\n",
       "      <td>30.819267</td>\n",
       "      <td>12.318266</td>\n",
       "      <td>-5.717433</td>\n",
       "      <td>0.13</td>\n",
       "      <td>44.444444</td>\n",
       "      <td>4.10</td>\n",
       "      <td>19.883041</td>\n",
       "      <td>0</td>\n",
       "    </tr>\n",
       "    <tr>\n",
       "      <th>4</th>\n",
       "      <td>2016</td>\n",
       "      <td>24</td>\n",
       "      <td>291</td>\n",
       "      <td>1.885512</td>\n",
       "      <td>22.165260</td>\n",
       "      <td>1.136839</td>\n",
       "      <td>33.311664</td>\n",
       "      <td>53.242552</td>\n",
       "      <td>6.308824</td>\n",
       "      <td>82.149269</td>\n",
       "      <td>...</td>\n",
       "      <td>-84.149916</td>\n",
       "      <td>0.024801</td>\n",
       "      <td>-8.738086</td>\n",
       "      <td>13.479738</td>\n",
       "      <td>9.428861</td>\n",
       "      <td>0.40</td>\n",
       "      <td>207.692308</td>\n",
       "      <td>4.44</td>\n",
       "      <td>8.292683</td>\n",
       "      <td>0</td>\n",
       "    </tr>\n",
       "  </tbody>\n",
       "</table>\n",
       "<p>5 rows × 89 columns</p>\n",
       "</div>"
      ],
      "text/plain": [
       "   year  industry  symbol  currentRatio  currentRatio_percentage_change  \\\n",
       "0  2012        24     291      2.198387                       -2.275946   \n",
       "1  2013        24     291      1.698186                      -22.753086   \n",
       "2  2014        24     291      1.961487                       15.504836   \n",
       "3  2015        24     291      1.543411                      -21.314241   \n",
       "4  2016        24     291      1.885512                       22.165260   \n",
       "\n",
       "   quickRatio  quickRatio_percentage_change  daysOfSalesOutstanding  \\\n",
       "0    1.385806                     -0.090461               49.567449   \n",
       "1    1.012270                    -26.954450               50.284895   \n",
       "2    1.127209                     11.354593               48.611609   \n",
       "3    0.852768                    -24.346986               50.082909   \n",
       "4    1.136839                     33.311664               53.242552   \n",
       "\n",
       "   daysOfSalesOutstanding_percentage_change  daysOfInventoryOutstanding  ...  \\\n",
       "0                                  3.987852                   89.289449  ...   \n",
       "1                                  1.447414                   87.567366  ...   \n",
       "2                                 -3.327613                   82.245394  ...   \n",
       "3                                  3.026645                   83.473315  ...   \n",
       "4                                  6.308824                   82.149269  ...   \n",
       "\n",
       "   priceEarningsToGrowthRatio_percentage_change  dividendYield  \\\n",
       "0                                      6.939145       0.025377   \n",
       "1                                     21.913077       0.018089   \n",
       "2                                    -39.851336       0.020773   \n",
       "3                                    799.567847       0.027175   \n",
       "4                                    -84.149916       0.024801   \n",
       "\n",
       "   dividendYield_percentage_change  enterpriseValueMultiple  \\\n",
       "0                        -5.500411                 8.692139   \n",
       "1                       -28.717392                12.326051   \n",
       "2                        14.836058                13.065263   \n",
       "3                        30.819267                12.318266   \n",
       "4                        -8.738086                13.479738   \n",
       "\n",
       "   enterpriseValueMultiple_percentage_change  interestRate  \\\n",
       "0                                   5.900833          0.14   \n",
       "1                                  41.806877          0.11   \n",
       "2                                   5.997151          0.09   \n",
       "3                                  -5.717433          0.13   \n",
       "4                                   9.428861          0.40   \n",
       "\n",
       "   interestRate_percentage_change  adjDividend  dps_growth  \\\n",
       "0                       40.000000         2.36    7.272727   \n",
       "1                      -21.428571         2.54    7.627119   \n",
       "2                      -18.181818         3.42   34.645669   \n",
       "3                       44.444444         4.10   19.883041   \n",
       "4                      207.692308         4.44    8.292683   \n",
       "\n",
       "   dps_change_next_year  \n",
       "0                     0  \n",
       "1                     0  \n",
       "2                     0  \n",
       "3                     0  \n",
       "4                     0  \n",
       "\n",
       "[5 rows x 89 columns]"
      ]
     },
     "execution_count": 148,
     "metadata": {},
     "output_type": "execute_result"
    }
   ],
   "source": [
    "\n",
    "train_data =  pd.read_csv(training_data_subset_path)\n",
    "test_data = pd.read_csv(testing_data_subset_path)\n",
    "train_data.head()"
   ]
  },
  {
   "cell_type": "code",
   "execution_count": 149,
   "metadata": {},
   "outputs": [
    {
     "data": {
      "text/html": [
       "<div>\n",
       "<style scoped>\n",
       "    .dataframe tbody tr th:only-of-type {\n",
       "        vertical-align: middle;\n",
       "    }\n",
       "\n",
       "    .dataframe tbody tr th {\n",
       "        vertical-align: top;\n",
       "    }\n",
       "\n",
       "    .dataframe thead th {\n",
       "        text-align: right;\n",
       "    }\n",
       "</style>\n",
       "<table border=\"1\" class=\"dataframe\">\n",
       "  <thead>\n",
       "    <tr style=\"text-align: right;\">\n",
       "      <th></th>\n",
       "      <th>year</th>\n",
       "      <th>industry</th>\n",
       "      <th>symbol</th>\n",
       "      <th>currentRatio</th>\n",
       "      <th>currentRatio_percentage_change</th>\n",
       "      <th>quickRatio</th>\n",
       "      <th>quickRatio_percentage_change</th>\n",
       "      <th>daysOfSalesOutstanding</th>\n",
       "      <th>daysOfSalesOutstanding_percentage_change</th>\n",
       "      <th>daysOfInventoryOutstanding</th>\n",
       "      <th>...</th>\n",
       "      <th>priceEarningsToGrowthRatio_percentage_change</th>\n",
       "      <th>dividendYield</th>\n",
       "      <th>dividendYield_percentage_change</th>\n",
       "      <th>enterpriseValueMultiple</th>\n",
       "      <th>enterpriseValueMultiple_percentage_change</th>\n",
       "      <th>interestRate</th>\n",
       "      <th>interestRate_percentage_change</th>\n",
       "      <th>adjDividend</th>\n",
       "      <th>dps_growth</th>\n",
       "      <th>dps_change_next_year</th>\n",
       "    </tr>\n",
       "  </thead>\n",
       "  <tbody>\n",
       "    <tr>\n",
       "      <th>0</th>\n",
       "      <td>2021</td>\n",
       "      <td>24</td>\n",
       "      <td>291</td>\n",
       "      <td>1.704815</td>\n",
       "      <td>-9.559027</td>\n",
       "      <td>1.043165</td>\n",
       "      <td>-14.902195</td>\n",
       "      <td>48.109178</td>\n",
       "      <td>-9.839675</td>\n",
       "      <td>96.808992</td>\n",
       "      <td>...</td>\n",
       "      <td>67.702091</td>\n",
       "      <td>0.033253</td>\n",
       "      <td>-0.909598</td>\n",
       "      <td>15.729376</td>\n",
       "      <td>-12.979421</td>\n",
       "      <td>0.08</td>\n",
       "      <td>-78.947368</td>\n",
       "      <td>5.92</td>\n",
       "      <td>0.680272</td>\n",
       "      <td>0</td>\n",
       "    </tr>\n",
       "    <tr>\n",
       "      <th>1</th>\n",
       "      <td>2021</td>\n",
       "      <td>96</td>\n",
       "      <td>36</td>\n",
       "      <td>1.566500</td>\n",
       "      <td>-14.191051</td>\n",
       "      <td>1.131391</td>\n",
       "      <td>-21.328131</td>\n",
       "      <td>65.431631</td>\n",
       "      <td>-11.277742</td>\n",
       "      <td>73.344031</td>\n",
       "      <td>...</td>\n",
       "      <td>-112.480300</td>\n",
       "      <td>0.012391</td>\n",
       "      <td>-30.862468</td>\n",
       "      <td>19.078414</td>\n",
       "      <td>21.967224</td>\n",
       "      <td>0.08</td>\n",
       "      <td>-78.947368</td>\n",
       "      <td>1.06</td>\n",
       "      <td>8.163265</td>\n",
       "      <td>0</td>\n",
       "    </tr>\n",
       "    <tr>\n",
       "      <th>2</th>\n",
       "      <td>2021</td>\n",
       "      <td>63</td>\n",
       "      <td>4</td>\n",
       "      <td>1.849599</td>\n",
       "      <td>7.740228</td>\n",
       "      <td>1.277070</td>\n",
       "      <td>12.122625</td>\n",
       "      <td>54.968195</td>\n",
       "      <td>-18.741994</td>\n",
       "      <td>101.543130</td>\n",
       "      <td>...</td>\n",
       "      <td>-69.722616</td>\n",
       "      <td>0.012897</td>\n",
       "      <td>-2.300018</td>\n",
       "      <td>23.954222</td>\n",
       "      <td>-12.035499</td>\n",
       "      <td>0.08</td>\n",
       "      <td>-78.947368</td>\n",
       "      <td>1.80</td>\n",
       "      <td>25.000000</td>\n",
       "      <td>0</td>\n",
       "    </tr>\n",
       "    <tr>\n",
       "      <th>3</th>\n",
       "      <td>2021</td>\n",
       "      <td>31</td>\n",
       "      <td>3</td>\n",
       "      <td>0.793544</td>\n",
       "      <td>-5.912486</td>\n",
       "      <td>0.562795</td>\n",
       "      <td>-6.766883</td>\n",
       "      <td>64.800701</td>\n",
       "      <td>-7.822868</td>\n",
       "      <td>65.443082</td>\n",
       "      <td>...</td>\n",
       "      <td>-118.942510</td>\n",
       "      <td>0.038643</td>\n",
       "      <td>-10.545641</td>\n",
       "      <td>11.593723</td>\n",
       "      <td>-68.566197</td>\n",
       "      <td>0.08</td>\n",
       "      <td>-78.947368</td>\n",
       "      <td>5.20</td>\n",
       "      <td>10.169492</td>\n",
       "      <td>0</td>\n",
       "    </tr>\n",
       "    <tr>\n",
       "      <th>4</th>\n",
       "      <td>2021</td>\n",
       "      <td>49</td>\n",
       "      <td>6</td>\n",
       "      <td>1.251937</td>\n",
       "      <td>-10.687424</td>\n",
       "      <td>1.139527</td>\n",
       "      <td>-11.782243</td>\n",
       "      <td>70.266362</td>\n",
       "      <td>8.749094</td>\n",
       "      <td>0.000000</td>\n",
       "      <td>...</td>\n",
       "      <td>-45.271038</td>\n",
       "      <td>0.010467</td>\n",
       "      <td>-21.579906</td>\n",
       "      <td>21.516834</td>\n",
       "      <td>24.968678</td>\n",
       "      <td>0.08</td>\n",
       "      <td>-78.947368</td>\n",
       "      <td>3.61</td>\n",
       "      <td>10.060976</td>\n",
       "      <td>0</td>\n",
       "    </tr>\n",
       "  </tbody>\n",
       "</table>\n",
       "<p>5 rows × 89 columns</p>\n",
       "</div>"
      ],
      "text/plain": [
       "   year  industry  symbol  currentRatio  currentRatio_percentage_change  \\\n",
       "0  2021        24     291      1.704815                       -9.559027   \n",
       "1  2021        96      36      1.566500                      -14.191051   \n",
       "2  2021        63       4      1.849599                        7.740228   \n",
       "3  2021        31       3      0.793544                       -5.912486   \n",
       "4  2021        49       6      1.251937                      -10.687424   \n",
       "\n",
       "   quickRatio  quickRatio_percentage_change  daysOfSalesOutstanding  \\\n",
       "0    1.043165                    -14.902195               48.109178   \n",
       "1    1.131391                    -21.328131               65.431631   \n",
       "2    1.277070                     12.122625               54.968195   \n",
       "3    0.562795                     -6.766883               64.800701   \n",
       "4    1.139527                    -11.782243               70.266362   \n",
       "\n",
       "   daysOfSalesOutstanding_percentage_change  daysOfInventoryOutstanding  ...  \\\n",
       "0                                 -9.839675                   96.808992  ...   \n",
       "1                                -11.277742                   73.344031  ...   \n",
       "2                                -18.741994                  101.543130  ...   \n",
       "3                                 -7.822868                   65.443082  ...   \n",
       "4                                  8.749094                    0.000000  ...   \n",
       "\n",
       "   priceEarningsToGrowthRatio_percentage_change  dividendYield  \\\n",
       "0                                     67.702091       0.033253   \n",
       "1                                   -112.480300       0.012391   \n",
       "2                                    -69.722616       0.012897   \n",
       "3                                   -118.942510       0.038643   \n",
       "4                                    -45.271038       0.010467   \n",
       "\n",
       "   dividendYield_percentage_change  enterpriseValueMultiple  \\\n",
       "0                        -0.909598                15.729376   \n",
       "1                       -30.862468                19.078414   \n",
       "2                        -2.300018                23.954222   \n",
       "3                       -10.545641                11.593723   \n",
       "4                       -21.579906                21.516834   \n",
       "\n",
       "   enterpriseValueMultiple_percentage_change  interestRate  \\\n",
       "0                                 -12.979421          0.08   \n",
       "1                                  21.967224          0.08   \n",
       "2                                 -12.035499          0.08   \n",
       "3                                 -68.566197          0.08   \n",
       "4                                  24.968678          0.08   \n",
       "\n",
       "   interestRate_percentage_change  adjDividend  dps_growth  \\\n",
       "0                      -78.947368         5.92    0.680272   \n",
       "1                      -78.947368         1.06    8.163265   \n",
       "2                      -78.947368         1.80   25.000000   \n",
       "3                      -78.947368         5.20   10.169492   \n",
       "4                      -78.947368         3.61   10.060976   \n",
       "\n",
       "   dps_change_next_year  \n",
       "0                     0  \n",
       "1                     0  \n",
       "2                     0  \n",
       "3                     0  \n",
       "4                     0  \n",
       "\n",
       "[5 rows x 89 columns]"
      ]
     },
     "execution_count": 149,
     "metadata": {},
     "output_type": "execute_result"
    }
   ],
   "source": [
    "test_data.head()"
   ]
  },
  {
   "cell_type": "code",
   "execution_count": 150,
   "metadata": {},
   "outputs": [],
   "source": [
    "label_col_name = 'dps_change_next_year'\n",
    "optimal_features  = utils.load_value(proj_root.joinpath(config['modelling_paths']['optimal_features']))\n",
    "X_train, y_train = train.split_Xy(train_data, label_col_name=label_col_name)\n",
    "X_train = X_train[optimal_features]\n",
    "\n",
    "X_test, y_test = train.split_Xy(test_data, label_col_name=label_col_name)\n",
    "X_test = X_test[optimal_features]"
   ]
  },
  {
   "cell_type": "markdown",
   "metadata": {},
   "source": [
    "# modelling"
   ]
  },
  {
   "cell_type": "code",
   "execution_count": 151,
   "metadata": {},
   "outputs": [
    {
     "data": {
      "text/plain": [
       "['feature_importance',\n",
       " 'model_performance_with_feature_drop',\n",
       " 'optimal_features',\n",
       " 'logistic_regression_model_path']"
      ]
     },
     "execution_count": 151,
     "metadata": {},
     "output_type": "execute_result"
    }
   ],
   "source": [
    "list(config['modelling_paths'].keys())"
   ]
  },
  {
   "cell_type": "code",
   "execution_count": 158,
   "metadata": {},
   "outputs": [
    {
     "data": {
      "text/plain": [
       "{'fmp_base_url': 'https://financialmodelingprep.com/api/v3',\n",
       " 'fred_base_url': 'https://api.stlouisfed.org/fred/series/observations?series_id=FEDFUNDS&'}"
      ]
     },
     "execution_count": 158,
     "metadata": {},
     "output_type": "execute_result"
    }
   ],
   "source": [
    "config._sections['API']"
   ]
  },
  {
   "cell_type": "code",
   "execution_count": 224,
   "metadata": {},
   "outputs": [
    {
     "name": "stderr",
     "output_type": "stream",
     "text": [
      "[I 2023-11-17 13:48:51,075] A new study created in memory with name: no-name-3b180ddf-51e5-4e79-81f0-c7f987c66bae\n"
     ]
    },
    {
     "name": "stdout",
     "output_type": "stream",
     "text": [
      "{'n_jobs': '-1'}\n",
      "/home/aroge/projects/dividend-cut-predictor/models/random_forest.pkl\n"
     ]
    },
    {
     "name": "stderr",
     "output_type": "stream",
     "text": [
      "[I 2023-11-17 13:48:53,472] Trial 0 finished with value: 0.975554609126014 and parameters: {'n_estimators': 119, 'max_depth': 44, 'min_samples_split': 5, 'min_samples_leaf': 15}. Best is trial 0 with value: 0.975554609126014.\n"
     ]
    },
    {
     "name": "stdout",
     "output_type": "stream",
     "text": [
      "Trial 0, n_estimators: 119, max_depth: 44, min_samples_split: 5, min_samples_leaf: 15, ROC-AUC: 0.975554609126014\n",
      "best score is: 0.975554609126014\n",
      "<class 'sklearn.ensemble._forest.RandomForestClassifier'>\n"
     ]
    }
   ],
   "source": [
    "import logging\n",
    "from src.data_processing import augmentation as aug\n",
    "logger = logging.getLogger(__name__)\n",
    "proj_root = utils.get_proj_root()\n",
    "\n",
    "config = configparser.ConfigParser(interpolation=None)\n",
    "config.read(proj_root.joinpath('config/data_config.ini'))\n",
    "\n",
    "final_year = int(config['year_limits']['end_year'])\n",
    "training_data_rel_path = config['data_paths']['preprocessed_data_path']\n",
    "\n",
    "\n",
    "\n",
    "training_data_path =  proj_root.joinpath(training_data_rel_path)\n",
    "training_data_subset_path  = proj_root.joinpath(config['data_paths']['training_subset_path'])\n",
    "testing_data_subset_path  = proj_root.joinpath(config['data_paths']['testing_subset_path'])\n",
    "feature_set_path = proj_root.joinpath(config['modelling_paths']['optimal_features'])\n",
    "model_output_dir = proj_root.joinpath(config['modelling_paths']['model_output'])\n",
    "\n",
    "\n",
    "label_col_name = 'dps_change_next_year'\n",
    "optimal_features = train.get_features(feature_set_path)\n",
    "\n",
    "# MODEL_LIST = ['logistic_regression']\n",
    "##=====================\n",
    "model_name =  'logistic_regression'\n",
    "model_name = 'random_forest'\n",
    "tune_trials = 1\n",
    "\n",
    "def get_model_class(model_name:str):\n",
    "    if model_name == 'logistic_regression':\n",
    "        model = models.LogisticWrapper\n",
    "    elif model_name == 'random_forest':\n",
    "        model = models.RandomForestWrapper\n",
    "\n",
    "    return model\n",
    "\n",
    "model_params = config._sections[model_name]\n",
    "print(model_params)\n",
    "model_class = get_model_class(model_name=model_name)\n",
    "model = model_class(**model_params)\n",
    "\n",
    "# get data\n",
    "training_data = train.get_training_data(file_path=training_data_path)\n",
    "\n",
    "# split dataset\n",
    "training_data_subset, testing_data_subset = train.train_test_split(df=training_data, final_year=final_year)\n",
    "\n",
    "training_data_subset_resampled = aug.balance_data(training_data_subset, label_col_name=label_col_name)\n",
    "\n",
    "training_data_subset = training_data_subset_resampled[optimal_features+[label_col_name]]\n",
    "testing_data_subset = testing_data_subset[optimal_features+[label_col_name]]\n",
    "\n",
    "\n",
    "X_train, y_train = train.split_Xy(training_data_subset, label_col_name=label_col_name)\n",
    "\n",
    "model_output_path = model_output_dir.joinpath(model_name+'.pkl')\n",
    "print(model_output_path)\n",
    "# trainer = training.ModelTrainer(model_class=model, X=X_train, y=y_train,\n",
    "#                                 training_data_path=training_data_subset_path,\n",
    "#                                 model_output_path=model_output_path)\n",
    "trainer = training.ModelTrainer(model_class=model,\n",
    "                                training_data=training_data_subset,\n",
    "                                testing_data=testing_data_subset,\n",
    "                                label_col_name=label_col_name,\n",
    "                                model_output_path=model_output_path)\n",
    "\n",
    "trainer.tune_model(n_trials=tune_trials)\n",
    "model = trainer.train_model(save_model=True)"
   ]
  },
  {
   "cell_type": "code",
   "execution_count": 226,
   "metadata": {},
   "outputs": [
    {
     "name": "stdout",
     "output_type": "stream",
     "text": [
      "[0 1]\n",
      "              precision    recall  f1-score   support\n",
      "\n",
      "           0       0.99      0.95      0.97       465\n",
      "           1       0.22      0.55      0.32        11\n",
      "\n",
      "    accuracy                           0.95       476\n",
      "   macro avg       0.61      0.75      0.64       476\n",
      "weighted avg       0.97      0.95      0.96       476\n",
      "\n"
     ]
    },
    {
     "data": {
      "text/plain": [
       "0.9116324535679374"
      ]
     },
     "execution_count": 226,
     "metadata": {},
     "output_type": "execute_result"
    }
   ],
   "source": [
    "trainer.evaluate_model(show_report=True)"
   ]
  },
  {
   "cell_type": "code",
   "execution_count": 213,
   "metadata": {},
   "outputs": [
    {
     "data": {
      "text/plain": [
       "0.9516806722689075"
      ]
     },
     "execution_count": 213,
     "metadata": {},
     "output_type": "execute_result"
    }
   ],
   "source": [
    "model = utils.load_value(model_output_path)\n",
    "test_predicted_values = model.predict(testing_data_subset[optimal_features])\n",
    "model.score(testing_data_subset[optimal_features], testing_data_subset[label_col_name])"
   ]
  },
  {
   "cell_type": "code",
   "execution_count": 215,
   "metadata": {},
   "outputs": [
    {
     "data": {
      "text/plain": [
       "<sklearn.metrics._plot.confusion_matrix.ConfusionMatrixDisplay at 0x7f9bd56c2d40>"
      ]
     },
     "execution_count": 215,
     "metadata": {},
     "output_type": "execute_result"
    },
    {
     "data": {
      "image/png": "[encoded data removed]",
      "text/plain": [
       "<Figure size 640x480 with 2 Axes>"
      ]
     },
     "metadata": {},
     "output_type": "display_data"
    }
   ],
   "source": [
    "from sklearn.metrics import ConfusionMatrixDisplay, confusion_matrix\n",
    "\n",
    "cm = confusion_matrix(y_true=testing_data_subset[label_col_name],\n",
    "                      y_pred=test_predicted_values)\n",
    "\n",
    "disp = ConfusionMatrixDisplay(confusion_matrix=cm, display_labels=model.classes_)\n",
    "disp.plot()"
   ]
  },
  {
   "cell_type": "code",
   "execution_count": 107,
   "metadata": {},
   "outputs": [],
   "source": [
    "\n",
    "\n",
    "solver='liblinear'; n_jobs=-1; n_trials=100\n",
    "\n",
    "log_reg = models.LogisticWrapper(solver=solver, n_jobs=n_jobs)\n",
    "rf = models.RandomForestWrapper(n_jobs=-1)\n",
    "\n",
    "model_output_path = proj_root.joinpath(config['modelling_paths']['logistic_regression_model_path'])\n",
    "optimal_features  = utils.load_value(proj_root.joinpath(config['modelling_paths']['optimal_features']))\n",
    "\n",
    "trainer = training.ModelTrainer(model_class=rf, X=X_train, y=y_train,\n",
    "                                training_data_path=training_data_subset_path,\n",
    "                                model_output_path=model_output_path)"
   ]
  },
  {
   "cell_type": "code",
   "execution_count": 108,
   "metadata": {},
   "outputs": [
    {
     "name": "stderr",
     "output_type": "stream",
     "text": [
      "[I 2023-11-15 13:03:44,512] A new study created in memory with name: no-name-adc1882b-7f55-43d0-887b-8eccc43cb3d5\n"
     ]
    },
    {
     "name": "stderr",
     "output_type": "stream",
     "text": [
      "[I 2023-11-15 13:03:45,445] Trial 0 finished with value: 0.9797277449179986 and parameters: {'n_estimators': 47, 'max_depth': 29, 'min_samples_split': 13, 'min_samples_leaf': 6}. Best is trial 0 with value: 0.9797277449179986.\n"
     ]
    },
    {
     "name": "stdout",
     "output_type": "stream",
     "text": [
      "Trial 0, n_estimators: 47, max_depth: 29, min_samples_split: 13, min_samples_leaf: 6, ROC-AUC: 0.9797277449179986\n"
     ]
    },
    {
     "name": "stderr",
     "output_type": "stream",
     "text": [
      "[I 2023-11-15 13:03:46,143] Trial 1 finished with value: 0.9801894027530913 and parameters: {'n_estimators': 33, 'max_depth': 25, 'min_samples_split': 13, 'min_samples_leaf': 5}. Best is trial 1 with value: 0.9801894027530913.\n"
     ]
    },
    {
     "name": "stdout",
     "output_type": "stream",
     "text": [
      "Trial 1, n_estimators: 33, max_depth: 25, min_samples_split: 13, min_samples_leaf: 5, ROC-AUC: 0.9801894027530913\n"
     ]
    },
    {
     "name": "stderr",
     "output_type": "stream",
     "text": [
      "[I 2023-11-15 13:03:47,795] Trial 2 finished with value: 0.9579000745737674 and parameters: {'n_estimators': 93, 'max_depth': 7, 'min_samples_split': 12, 'min_samples_leaf': 5}. Best is trial 1 with value: 0.9801894027530913.\n"
     ]
    },
    {
     "name": "stdout",
     "output_type": "stream",
     "text": [
      "Trial 2, n_estimators: 93, max_depth: 7, min_samples_split: 12, min_samples_leaf: 5, ROC-AUC: 0.9579000745737674\n"
     ]
    },
    {
     "name": "stderr",
     "output_type": "stream",
     "text": [
      "[I 2023-11-15 13:03:49,262] Trial 3 finished with value: 0.9768563374598509 and parameters: {'n_estimators': 77, 'max_depth': 22, 'min_samples_split': 5, 'min_samples_leaf': 11}. Best is trial 1 with value: 0.9801894027530913.\n"
     ]
    },
    {
     "name": "stdout",
     "output_type": "stream",
     "text": [
      "Trial 3, n_estimators: 77, max_depth: 22, min_samples_split: 5, min_samples_leaf: 11, ROC-AUC: 0.9768563374598509\n"
     ]
    },
    {
     "name": "stderr",
     "output_type": "stream",
     "text": [
      "[I 2023-11-15 13:03:51,653] Trial 4 finished with value: 0.9770174610326381 and parameters: {'n_estimators': 130, 'max_depth': 34, 'min_samples_split': 14, 'min_samples_leaf': 10}. Best is trial 1 with value: 0.9801894027530913.\n"
     ]
    },
    {
     "name": "stdout",
     "output_type": "stream",
     "text": [
      "Trial 4, n_estimators: 130, max_depth: 34, min_samples_split: 14, min_samples_leaf: 10, ROC-AUC: 0.9770174610326381\n"
     ]
    },
    {
     "name": "stderr",
     "output_type": "stream",
     "text": [
      "[I 2023-11-15 13:03:53,328] Trial 5 finished with value: 0.9792003635460096 and parameters: {'n_estimators': 89, 'max_depth': 11, 'min_samples_split': 10, 'min_samples_leaf': 3}. Best is trial 1 with value: 0.9801894027530913.\n"
     ]
    },
    {
     "name": "stdout",
     "output_type": "stream",
     "text": [
      "Trial 5, n_estimators: 89, max_depth: 11, min_samples_split: 10, min_samples_leaf: 3, ROC-AUC: 0.9792003635460096\n"
     ]
    },
    {
     "name": "stderr",
     "output_type": "stream",
     "text": [
      "[I 2023-11-15 13:03:54,945] Trial 6 finished with value: 0.9722731580185782 and parameters: {'n_estimators': 87, 'max_depth': 10, 'min_samples_split': 6, 'min_samples_leaf': 14}. Best is trial 1 with value: 0.9801894027530913.\n"
     ]
    },
    {
     "name": "stdout",
     "output_type": "stream",
     "text": [
      "Trial 6, n_estimators: 87, max_depth: 10, min_samples_split: 6, min_samples_leaf: 14, ROC-AUC: 0.9722731580185782\n"
     ]
    },
    {
     "name": "stderr",
     "output_type": "stream",
     "text": [
      "[I 2023-11-15 13:03:55,921] Trial 7 finished with value: 0.917819268686537 and parameters: {'n_estimators': 56, 'max_depth': 4, 'min_samples_split': 8, 'min_samples_leaf': 7}. Best is trial 1 with value: 0.9801894027530913.\n"
     ]
    },
    {
     "name": "stdout",
     "output_type": "stream",
     "text": [
      "Trial 7, n_estimators: 56, max_depth: 4, min_samples_split: 8, min_samples_leaf: 7, ROC-AUC: 0.917819268686537\n"
     ]
    },
    {
     "name": "stderr",
     "output_type": "stream",
     "text": [
      "[I 2023-11-15 13:03:56,351] Trial 8 finished with value: 0.9488985030975409 and parameters: {'n_estimators': 21, 'max_depth': 6, 'min_samples_split': 4, 'min_samples_leaf': 14}. Best is trial 1 with value: 0.9801894027530913.\n"
     ]
    },
    {
     "name": "stdout",
     "output_type": "stream",
     "text": [
      "Trial 8, n_estimators: 21, max_depth: 6, min_samples_split: 4, min_samples_leaf: 14, ROC-AUC: 0.9488985030975409\n"
     ]
    },
    {
     "name": "stderr",
     "output_type": "stream",
     "text": [
      "[I 2023-11-15 13:03:57,977] Trial 9 finished with value: 0.9752258939603508 and parameters: {'n_estimators': 86, 'max_depth': 33, 'min_samples_split': 11, 'min_samples_leaf': 13}. Best is trial 1 with value: 0.9801894027530913.\n"
     ]
    },
    {
     "name": "stdout",
     "output_type": "stream",
     "text": [
      "Trial 9, n_estimators: 86, max_depth: 33, min_samples_split: 11, min_samples_leaf: 13, ROC-AUC: 0.9752258939603508\n"
     ]
    },
    {
     "name": "stderr",
     "output_type": "stream",
     "text": [
      "[I 2023-11-15 13:03:58,273] Trial 10 finished with value: 0.9762580370913376 and parameters: {'n_estimators': 9, 'max_depth': 48, 'min_samples_split': 15, 'min_samples_leaf': 2}. Best is trial 1 with value: 0.9801894027530913.\n"
     ]
    },
    {
     "name": "stdout",
     "output_type": "stream",
     "text": [
      "Trial 10, n_estimators: 9, max_depth: 48, min_samples_split: 15, min_samples_leaf: 2, ROC-AUC: 0.9762580370913376\n"
     ]
    },
    {
     "name": "stderr",
     "output_type": "stream",
     "text": [
      "[I 2023-11-15 13:03:59,100] Trial 11 finished with value: 0.9794505592776124 and parameters: {'n_estimators': 38, 'max_depth': 23, 'min_samples_split': 13, 'min_samples_leaf': 6}. Best is trial 1 with value: 0.9801894027530913.\n"
     ]
    },
    {
     "name": "stdout",
     "output_type": "stream",
     "text": [
      "Trial 11, n_estimators: 38, max_depth: 23, min_samples_split: 13, min_samples_leaf: 6, ROC-AUC: 0.9794505592776124\n"
     ]
    },
    {
     "name": "stderr",
     "output_type": "stream",
     "text": [
      "[I 2023-11-15 13:04:00,066] Trial 12 finished with value: 0.9811572441135337 and parameters: {'n_estimators': 48, 'max_depth': 32, 'min_samples_split': 9, 'min_samples_leaf': 4}. Best is trial 12 with value: 0.9811572441135337.\n"
     ]
    },
    {
     "name": "stdout",
     "output_type": "stream",
     "text": [
      "Trial 12, n_estimators: 48, max_depth: 32, min_samples_split: 9, min_samples_leaf: 4, ROC-AUC: 0.9811572441135337\n"
     ]
    },
    {
     "name": "stderr",
     "output_type": "stream",
     "text": [
      "[I 2023-11-15 13:04:00,732] Trial 13 finished with value: 0.9812391851149693 and parameters: {'n_estimators': 28, 'max_depth': 43, 'min_samples_split': 2, 'min_samples_leaf': 1}. Best is trial 13 with value: 0.9812391851149693.\n"
     ]
    },
    {
     "name": "stdout",
     "output_type": "stream",
     "text": [
      "Trial 13, n_estimators: 28, max_depth: 43, min_samples_split: 2, min_samples_leaf: 1, ROC-AUC: 0.9812391851149693\n"
     ]
    },
    {
     "name": "stderr",
     "output_type": "stream",
     "text": [
      "[I 2023-11-15 13:04:01,952] Trial 14 finished with value: 0.9830301737104932 and parameters: {'n_estimators': 59, 'max_depth': 45, 'min_samples_split': 2, 'min_samples_leaf': 1}. Best is trial 14 with value: 0.9830301737104932.\n"
     ]
    },
    {
     "name": "stdout",
     "output_type": "stream",
     "text": [
      "Trial 14, n_estimators: 59, max_depth: 45, min_samples_split: 2, min_samples_leaf: 1, ROC-AUC: 0.9830301737104932\n"
     ]
    },
    {
     "name": "stderr",
     "output_type": "stream",
     "text": [
      "[I 2023-11-15 13:04:04,257] Trial 15 finished with value: 0.9829598683370089 and parameters: {'n_estimators': 119, 'max_depth': 50, 'min_samples_split': 2, 'min_samples_leaf': 1}. Best is trial 14 with value: 0.9830301737104932.\n"
     ]
    },
    {
     "name": "stdout",
     "output_type": "stream",
     "text": [
      "Trial 15, n_estimators: 119, max_depth: 50, min_samples_split: 2, min_samples_leaf: 1, ROC-AUC: 0.9829598683370089\n"
     ]
    },
    {
     "name": "stderr",
     "output_type": "stream",
     "text": [
      "[I 2023-11-15 13:04:06,585] Trial 16 finished with value: 0.9834028917931825 and parameters: {'n_estimators': 118, 'max_depth': 41, 'min_samples_split': 2, 'min_samples_leaf': 1}. Best is trial 16 with value: 0.9834028917931825.\n"
     ]
    },
    {
     "name": "stdout",
     "output_type": "stream",
     "text": [
      "Trial 16, n_estimators: 118, max_depth: 41, min_samples_split: 2, min_samples_leaf: 1, ROC-AUC: 0.9834028917931825\n"
     ]
    },
    {
     "name": "stderr",
     "output_type": "stream",
     "text": [
      "[I 2023-11-15 13:04:08,697] Trial 17 finished with value: 0.9782024986447242 and parameters: {'n_estimators': 112, 'max_depth': 40, 'min_samples_split': 4, 'min_samples_leaf': 9}. Best is trial 16 with value: 0.9834028917931825.\n"
     ]
    },
    {
     "name": "stdout",
     "output_type": "stream",
     "text": [
      "Trial 17, n_estimators: 112, max_depth: 40, min_samples_split: 4, min_samples_leaf: 9, ROC-AUC: 0.9782024986447242\n"
     ]
    },
    {
     "name": "stderr",
     "output_type": "stream",
     "text": [
      "[I 2023-11-15 13:04:11,507] Trial 18 finished with value: 0.9823194686975857 and parameters: {'n_estimators': 143, 'max_depth': 40, 'min_samples_split': 7, 'min_samples_leaf': 3}. Best is trial 16 with value: 0.9834028917931825.\n"
     ]
    },
    {
     "name": "stdout",
     "output_type": "stream",
     "text": [
      "Trial 18, n_estimators: 143, max_depth: 40, min_samples_split: 7, min_samples_leaf: 3, ROC-AUC: 0.9823194686975857\n"
     ]
    },
    {
     "name": "stderr",
     "output_type": "stream",
     "text": [
      "[I 2023-11-15 13:04:12,755] Trial 19 finished with value: 0.9825349721807717 and parameters: {'n_estimators': 60, 'max_depth': 46, 'min_samples_split': 3, 'min_samples_leaf': 1}. Best is trial 16 with value: 0.9834028917931825.\n"
     ]
    },
    {
     "name": "stdout",
     "output_type": "stream",
     "text": [
      "Trial 19, n_estimators: 60, max_depth: 46, min_samples_split: 3, min_samples_leaf: 1, ROC-AUC: 0.9825349721807717\n"
     ]
    },
    {
     "name": "stderr",
     "output_type": "stream",
     "text": [
      "[I 2023-11-15 13:04:14,821] Trial 20 finished with value: 0.9819587129484859 and parameters: {'n_estimators': 105, 'max_depth': 39, 'min_samples_split': 6, 'min_samples_leaf': 3}. Best is trial 16 with value: 0.9834028917931825.\n"
     ]
    },
    {
     "name": "stdout",
     "output_type": "stream",
     "text": [
      "Trial 20, n_estimators: 105, max_depth: 39, min_samples_split: 6, min_samples_leaf: 3, ROC-AUC: 0.9819587129484859\n"
     ]
    },
    {
     "name": "stderr",
     "output_type": "stream",
     "text": [
      "[I 2023-11-15 13:04:17,218] Trial 21 finished with value: 0.983168878158797 and parameters: {'n_estimators': 121, 'max_depth': 50, 'min_samples_split': 2, 'min_samples_leaf': 1}. Best is trial 16 with value: 0.9834028917931825.\n"
     ]
    },
    {
     "name": "stdout",
     "output_type": "stream",
     "text": [
      "Trial 21, n_estimators: 121, max_depth: 50, min_samples_split: 2, min_samples_leaf: 1, ROC-AUC: 0.983168878158797\n"
     ]
    },
    {
     "name": "stderr",
     "output_type": "stream",
     "text": [
      "[I 2023-11-15 13:04:20,145] Trial 22 finished with value: 0.983441997883407 and parameters: {'n_estimators': 149, 'max_depth': 45, 'min_samples_split': 2, 'min_samples_leaf': 2}. Best is trial 22 with value: 0.983441997883407.\n"
     ]
    },
    {
     "name": "stdout",
     "output_type": "stream",
     "text": [
      "Trial 22, n_estimators: 149, max_depth: 45, min_samples_split: 2, min_samples_leaf: 2, ROC-AUC: 0.983441997883407\n"
     ]
    },
    {
     "name": "stderr",
     "output_type": "stream",
     "text": [
      "[I 2023-11-15 13:04:23,104] Trial 23 finished with value: 0.9822349379239833 and parameters: {'n_estimators': 150, 'max_depth': 50, 'min_samples_split': 4, 'min_samples_leaf': 3}. Best is trial 22 with value: 0.983441997883407.\n"
     ]
    },
    {
     "name": "stdout",
     "output_type": "stream",
     "text": [
      "Trial 23, n_estimators: 150, max_depth: 50, min_samples_split: 4, min_samples_leaf: 3, ROC-AUC: 0.9822349379239833\n"
     ]
    },
    {
     "name": "stderr",
     "output_type": "stream",
     "text": [
      "[I 2023-11-15 13:04:25,724] Trial 24 finished with value: 0.983041300049005 and parameters: {'n_estimators': 133, 'max_depth': 37, 'min_samples_split': 3, 'min_samples_leaf': 2}. Best is trial 22 with value: 0.983441997883407.\n"
     ]
    },
    {
     "name": "stdout",
     "output_type": "stream",
     "text": [
      "Trial 24, n_estimators: 133, max_depth: 37, min_samples_split: 3, min_samples_leaf: 2, ROC-AUC: 0.983041300049005\n"
     ]
    },
    {
     "name": "stderr",
     "output_type": "stream",
     "text": [
      "[I 2023-11-15 13:04:28,748] Trial 25 finished with value: 0.9817257590074911 and parameters: {'n_estimators': 132, 'max_depth': 19, 'min_samples_split': 3, 'min_samples_leaf': 4}. Best is trial 22 with value: 0.983441997883407.\n"
     ]
    },
    {
     "name": "stdout",
     "output_type": "stream",
     "text": [
      "Trial 25, n_estimators: 132, max_depth: 19, min_samples_split: 3, min_samples_leaf: 4, ROC-AUC: 0.9817257590074911\n"
     ]
    },
    {
     "name": "stderr",
     "output_type": "stream",
     "text": [
      "[I 2023-11-15 13:04:31,241] Trial 26 finished with value: 0.9830731726376609 and parameters: {'n_estimators': 121, 'max_depth': 43, 'min_samples_split': 5, 'min_samples_leaf': 2}. Best is trial 22 with value: 0.983441997883407.\n"
     ]
    },
    {
     "name": "stdout",
     "output_type": "stream",
     "text": [
      "Trial 26, n_estimators: 121, max_depth: 43, min_samples_split: 5, min_samples_leaf: 2, ROC-AUC: 0.9830731726376609\n"
     ]
    },
    {
     "name": "stderr",
     "output_type": "stream",
     "text": [
      "[I 2023-11-15 13:04:33,272] Trial 27 finished with value: 0.9814644250009052 and parameters: {'n_estimators': 102, 'max_depth': 45, 'min_samples_split': 2, 'min_samples_leaf': 4}. Best is trial 22 with value: 0.983441997883407.\n"
     ]
    },
    {
     "name": "stdout",
     "output_type": "stream",
     "text": [
      "Trial 27, n_estimators: 102, max_depth: 45, min_samples_split: 2, min_samples_leaf: 4, ROC-AUC: 0.9814644250009052\n"
     ]
    },
    {
     "name": "stderr",
     "output_type": "stream",
     "text": [
      "[I 2023-11-15 13:04:35,973] Trial 28 finished with value: 0.9792732525023794 and parameters: {'n_estimators': 142, 'max_depth': 36, 'min_samples_split': 5, 'min_samples_leaf': 7}. Best is trial 22 with value: 0.983441997883407.\n"
     ]
    },
    {
     "name": "stdout",
     "output_type": "stream",
     "text": [
      "Trial 28, n_estimators: 142, max_depth: 36, min_samples_split: 5, min_samples_leaf: 7, ROC-AUC: 0.9792732525023794\n"
     ]
    },
    {
     "name": "stderr",
     "output_type": "stream",
     "text": [
      "[I 2023-11-15 13:04:38,384] Trial 29 finished with value: 0.981114970658562 and parameters: {'n_estimators': 122, 'max_depth': 30, 'min_samples_split': 3, 'min_samples_leaf': 5}. Best is trial 22 with value: 0.983441997883407.\n"
     ]
    },
    {
     "name": "stdout",
     "output_type": "stream",
     "text": [
      "Trial 29, n_estimators: 122, max_depth: 30, min_samples_split: 3, min_samples_leaf: 5, ROC-AUC: 0.981114970658562\n"
     ]
    },
    {
     "name": "stderr",
     "output_type": "stream",
     "text": [
      "[I 2023-11-15 13:04:41,334] Trial 30 finished with value: 0.9826687408982195 and parameters: {'n_estimators': 150, 'max_depth': 42, 'min_samples_split': 7, 'min_samples_leaf': 2}. Best is trial 22 with value: 0.983441997883407.\n"
     ]
    },
    {
     "name": "stdout",
     "output_type": "stream",
     "text": [
      "Trial 30, n_estimators: 150, max_depth: 42, min_samples_split: 7, min_samples_leaf: 2, ROC-AUC: 0.9826687408982195\n"
     ]
    },
    {
     "name": "stderr",
     "output_type": "stream",
     "text": [
      "[I 2023-11-15 13:04:44,334] Trial 31 finished with value: 0.9829829006424402 and parameters: {'n_estimators': 120, 'max_depth': 47, 'min_samples_split': 5, 'min_samples_leaf': 2}. Best is trial 22 with value: 0.983441997883407.\n"
     ]
    },
    {
     "name": "stdout",
     "output_type": "stream",
     "text": [
      "Trial 31, n_estimators: 120, max_depth: 47, min_samples_split: 5, min_samples_leaf: 2, ROC-AUC: 0.9829829006424402\n"
     ]
    },
    {
     "name": "stderr",
     "output_type": "stream",
     "text": [
      "[I 2023-11-15 13:04:47,201] Trial 32 finished with value: 0.9834075898998427 and parameters: {'n_estimators': 106, 'max_depth': 42, 'min_samples_split': 4, 'min_samples_leaf': 1}. Best is trial 22 with value: 0.983441997883407.\n"
     ]
    },
    {
     "name": "stdout",
     "output_type": "stream",
     "text": [
      "Trial 32, n_estimators: 106, max_depth: 42, min_samples_split: 4, min_samples_leaf: 1, ROC-AUC: 0.9834075898998427\n"
     ]
    },
    {
     "name": "stderr",
     "output_type": "stream",
     "text": [
      "[I 2023-11-15 13:04:49,602] Trial 33 finished with value: 0.9833844384507444 and parameters: {'n_estimators': 102, 'max_depth': 50, 'min_samples_split': 2, 'min_samples_leaf': 1}. Best is trial 22 with value: 0.983441997883407.\n"
     ]
    },
    {
     "name": "stdout",
     "output_type": "stream",
     "text": [
      "Trial 33, n_estimators: 102, max_depth: 50, min_samples_split: 2, min_samples_leaf: 1, ROC-AUC: 0.9833844384507444\n"
     ]
    },
    {
     "name": "stderr",
     "output_type": "stream",
     "text": [
      "[I 2023-11-15 13:04:51,696] Trial 34 finished with value: 0.9817675145522383 and parameters: {'n_estimators': 100, 'max_depth': 28, 'min_samples_split': 4, 'min_samples_leaf': 4}. Best is trial 22 with value: 0.983441997883407.\n"
     ]
    },
    {
     "name": "stdout",
     "output_type": "stream",
     "text": [
      "Trial 34, n_estimators: 100, max_depth: 28, min_samples_split: 4, min_samples_leaf: 4, ROC-AUC: 0.9817675145522383\n"
     ]
    },
    {
     "name": "stderr",
     "output_type": "stream",
     "text": [
      "[I 2023-11-15 13:04:53,190] Trial 35 finished with value: 0.9823889970952111 and parameters: {'n_estimators': 69, 'max_depth': 38, 'min_samples_split': 3, 'min_samples_leaf': 1}. Best is trial 22 with value: 0.983441997883407.\n"
     ]
    },
    {
     "name": "stdout",
     "output_type": "stream",
     "text": [
      "Trial 35, n_estimators: 69, max_depth: 38, min_samples_split: 3, min_samples_leaf: 1, ROC-AUC: 0.9823889970952111\n"
     ]
    },
    {
     "name": "stderr",
     "output_type": "stream",
     "text": [
      "[I 2023-11-15 13:04:55,585] Trial 36 finished with value: 0.9759837237196038 and parameters: {'n_estimators': 110, 'max_depth': 42, 'min_samples_split': 2, 'min_samples_leaf': 12}. Best is trial 22 with value: 0.983441997883407.\n"
     ]
    },
    {
     "name": "stdout",
     "output_type": "stream",
     "text": [
      "Trial 36, n_estimators: 110, max_depth: 42, min_samples_split: 2, min_samples_leaf: 12, ROC-AUC: 0.9759837237196038\n"
     ]
    },
    {
     "name": "stderr",
     "output_type": "stream",
     "text": [
      "[I 2023-11-15 13:04:57,309] Trial 37 finished with value: 0.9801500526283438 and parameters: {'n_estimators': 76, 'max_depth': 35, 'min_samples_split': 4, 'min_samples_leaf': 5}. Best is trial 22 with value: 0.983441997883407.\n"
     ]
    },
    {
     "name": "stdout",
     "output_type": "stream",
     "text": [
      "Trial 37, n_estimators: 76, max_depth: 35, min_samples_split: 4, min_samples_leaf: 5, ROC-AUC: 0.9801500526283438\n"
     ]
    },
    {
     "name": "stderr",
     "output_type": "stream",
     "text": [
      "[I 2023-11-15 13:04:59,357] Trial 38 finished with value: 0.9822847589865535 and parameters: {'n_estimators': 95, 'max_depth': 18, 'min_samples_split': 3, 'min_samples_leaf': 3}. Best is trial 22 with value: 0.983441997883407.\n"
     ]
    },
    {
     "name": "stdout",
     "output_type": "stream",
     "text": [
      "Trial 38, n_estimators: 95, max_depth: 18, min_samples_split: 3, min_samples_leaf: 3, ROC-AUC: 0.9822847589865535\n"
     ]
    },
    {
     "name": "stderr",
     "output_type": "stream",
     "text": [
      "[I 2023-11-15 13:05:02,393] Trial 39 finished with value: 0.9803404165768337 and parameters: {'n_estimators': 139, 'max_depth': 47, 'min_samples_split': 6, 'min_samples_leaf': 6}. Best is trial 22 with value: 0.983441997883407.\n"
     ]
    },
    {
     "name": "stdout",
     "output_type": "stream",
     "text": [
      "Trial 39, n_estimators: 139, max_depth: 47, min_samples_split: 6, min_samples_leaf: 6, ROC-AUC: 0.9803404165768337\n"
     ]
    },
    {
     "name": "stderr",
     "output_type": "stream",
     "text": [
      "[I 2023-11-15 13:05:04,101] Trial 40 finished with value: 0.9768050287592918 and parameters: {'n_estimators': 84, 'max_depth': 44, 'min_samples_split': 5, 'min_samples_leaf': 10}. Best is trial 22 with value: 0.983441997883407.\n"
     ]
    },
    {
     "name": "stdout",
     "output_type": "stream",
     "text": [
      "Trial 40, n_estimators: 84, max_depth: 44, min_samples_split: 5, min_samples_leaf: 10, ROC-AUC: 0.9768050287592918\n"
     ]
    },
    {
     "name": "stderr",
     "output_type": "stream",
     "text": [
      "[I 2023-11-15 13:05:06,699] Trial 41 finished with value: 0.983382746124378 and parameters: {'n_estimators': 126, 'max_depth': 50, 'min_samples_split': 2, 'min_samples_leaf': 1}. Best is trial 22 with value: 0.983441997883407.\n"
     ]
    },
    {
     "name": "stdout",
     "output_type": "stream",
     "text": [
      "Trial 41, n_estimators: 126, max_depth: 50, min_samples_split: 2, min_samples_leaf: 1, ROC-AUC: 0.983382746124378\n"
     ]
    },
    {
     "name": "stderr",
     "output_type": "stream",
     "text": [
      "[I 2023-11-15 13:05:08,994] Trial 42 finished with value: 0.9828949867634259 and parameters: {'n_estimators': 112, 'max_depth': 48, 'min_samples_split': 2, 'min_samples_leaf': 2}. Best is trial 22 with value: 0.983441997883407.\n"
     ]
    },
    {
     "name": "stdout",
     "output_type": "stream",
     "text": [
      "Trial 42, n_estimators: 112, max_depth: 48, min_samples_split: 2, min_samples_leaf: 2, ROC-AUC: 0.9828949867634259\n"
     ]
    },
    {
     "name": "stderr",
     "output_type": "stream",
     "text": [
      "[I 2023-11-15 13:05:11,746] Trial 43 finished with value: 0.9835907316200979 and parameters: {'n_estimators': 131, 'max_depth': 50, 'min_samples_split': 3, 'min_samples_leaf': 1}. Best is trial 43 with value: 0.9835907316200979.\n"
     ]
    },
    {
     "name": "stdout",
     "output_type": "stream",
     "text": [
      "Trial 43, n_estimators: 131, max_depth: 50, min_samples_split: 3, min_samples_leaf: 1, ROC-AUC: 0.9835907316200979\n"
     ]
    },
    {
     "name": "stderr",
     "output_type": "stream",
     "text": [
      "[I 2023-11-15 13:05:14,409] Trial 44 finished with value: 0.9740570996751583 and parameters: {'n_estimators': 135, 'max_depth': 40, 'min_samples_split': 3, 'min_samples_leaf': 15}. Best is trial 43 with value: 0.9835907316200979.\n"
     ]
    },
    {
     "name": "stdout",
     "output_type": "stream",
     "text": [
      "Trial 44, n_estimators: 135, max_depth: 40, min_samples_split: 3, min_samples_leaf: 15, ROC-AUC: 0.9740570996751583\n"
     ]
    },
    {
     "name": "stderr",
     "output_type": "stream",
     "text": [
      "[I 2023-11-15 13:05:16,334] Trial 45 finished with value: 0.9823239957148246 and parameters: {'n_estimators': 94, 'max_depth': 47, 'min_samples_split': 4, 'min_samples_leaf': 2}. Best is trial 43 with value: 0.9835907316200979.\n"
     ]
    },
    {
     "name": "stdout",
     "output_type": "stream",
     "text": [
      "Trial 45, n_estimators: 94, max_depth: 47, min_samples_split: 4, min_samples_leaf: 2, ROC-AUC: 0.9823239957148246\n"
     ]
    },
    {
     "name": "stderr",
     "output_type": "stream",
     "text": [
      "[I 2023-11-15 13:05:18,890] Trial 46 finished with value: 0.9815903656036806 and parameters: {'n_estimators': 127, 'max_depth': 42, 'min_samples_split': 10, 'min_samples_leaf': 3}. Best is trial 43 with value: 0.9835907316200979.\n"
     ]
    },
    {
     "name": "stdout",
     "output_type": "stream",
     "text": [
      "Trial 46, n_estimators: 127, max_depth: 42, min_samples_split: 10, min_samples_leaf: 3, ROC-AUC: 0.9815903656036806\n"
     ]
    },
    {
     "name": "stderr",
     "output_type": "stream",
     "text": [
      "[I 2023-11-15 13:05:21,188] Trial 47 finished with value: 0.9834912426796716 and parameters: {'n_estimators': 109, 'max_depth': 45, 'min_samples_split': 3, 'min_samples_leaf': 1}. Best is trial 43 with value: 0.9835907316200979.\n"
     ]
    },
    {
     "name": "stdout",
     "output_type": "stream",
     "text": [
      "Trial 47, n_estimators: 109, max_depth: 45, min_samples_split: 3, min_samples_leaf: 1, ROC-AUC: 0.9834912426796716\n"
     ]
    },
    {
     "name": "stderr",
     "output_type": "stream",
     "text": [
      "[I 2023-11-15 13:05:23,559] Trial 48 finished with value: 0.9830952301312751 and parameters: {'n_estimators': 115, 'max_depth': 32, 'min_samples_split': 4, 'min_samples_leaf': 2}. Best is trial 43 with value: 0.9835907316200979.\n"
     ]
    },
    {
     "name": "stdout",
     "output_type": "stream",
     "text": [
      "Trial 48, n_estimators: 115, max_depth: 32, min_samples_split: 4, min_samples_leaf: 2, ROC-AUC: 0.9830952301312751\n"
     ]
    },
    {
     "name": "stderr",
     "output_type": "stream",
     "text": [
      "[I 2023-11-15 13:05:26,460] Trial 49 finished with value: 0.9837597390110903 and parameters: {'n_estimators': 138, 'max_depth': 27, 'min_samples_split': 3, 'min_samples_leaf': 1}. Best is trial 49 with value: 0.9837597390110903.\n"
     ]
    },
    {
     "name": "stdout",
     "output_type": "stream",
     "text": [
      "Trial 49, n_estimators: 138, max_depth: 27, min_samples_split: 3, min_samples_leaf: 1, ROC-AUC: 0.9837597390110903\n"
     ]
    },
    {
     "name": "stderr",
     "output_type": "stream",
     "text": [
      "[I 2023-11-15 13:05:29,376] Trial 50 finished with value: 0.9818713357685857 and parameters: {'n_estimators': 144, 'max_depth': 27, 'min_samples_split': 7, 'min_samples_leaf': 3}. Best is trial 49 with value: 0.9837597390110903.\n"
     ]
    },
    {
     "name": "stdout",
     "output_type": "stream",
     "text": [
      "Trial 50, n_estimators: 144, max_depth: 27, min_samples_split: 7, min_samples_leaf: 3, ROC-AUC: 0.9818713357685857\n"
     ]
    },
    {
     "name": "stderr",
     "output_type": "stream",
     "text": [
      "[I 2023-11-15 13:05:32,240] Trial 51 finished with value: 0.9837168899529501 and parameters: {'n_estimators': 136, 'max_depth': 16, 'min_samples_split': 3, 'min_samples_leaf': 1}. Best is trial 49 with value: 0.9837597390110903.\n"
     ]
    },
    {
     "name": "stdout",
     "output_type": "stream",
     "text": [
      "Trial 51, n_estimators: 136, max_depth: 16, min_samples_split: 3, min_samples_leaf: 1, ROC-AUC: 0.9837168899529501\n"
     ]
    },
    {
     "name": "stderr",
     "output_type": "stream",
     "text": [
      "[I 2023-11-15 13:05:35,093] Trial 52 finished with value: 0.9815573789443761 and parameters: {'n_estimators': 137, 'max_depth': 12, 'min_samples_split': 3, 'min_samples_leaf': 1}. Best is trial 49 with value: 0.9837597390110903.\n"
     ]
    },
    {
     "name": "stdout",
     "output_type": "stream",
     "text": [
      "Trial 52, n_estimators: 137, max_depth: 12, min_samples_split: 3, min_samples_leaf: 1, ROC-AUC: 0.9815573789443761\n"
     ]
    },
    {
     "name": "stderr",
     "output_type": "stream",
     "text": [
      "[I 2023-11-15 13:05:38,216] Trial 53 finished with value: 0.9825330795869436 and parameters: {'n_estimators': 129, 'max_depth': 13, 'min_samples_split': 5, 'min_samples_leaf': 2}. Best is trial 49 with value: 0.9837597390110903.\n"
     ]
    },
    {
     "name": "stdout",
     "output_type": "stream",
     "text": [
      "Trial 53, n_estimators: 129, max_depth: 13, min_samples_split: 5, min_samples_leaf: 2, ROC-AUC: 0.9825330795869436\n"
     ]
    },
    {
     "name": "stderr",
     "output_type": "stream",
     "text": [
      "[I 2023-11-15 13:05:41,520] Trial 54 finished with value: 0.9739389078316266 and parameters: {'n_estimators': 144, 'max_depth': 9, 'min_samples_split': 3, 'min_samples_leaf': 1}. Best is trial 49 with value: 0.9837597390110903.\n"
     ]
    },
    {
     "name": "stdout",
     "output_type": "stream",
     "text": [
      "Trial 54, n_estimators: 144, max_depth: 9, min_samples_split: 3, min_samples_leaf: 1, ROC-AUC: 0.9739389078316266\n"
     ]
    },
    {
     "name": "stderr",
     "output_type": "stream",
     "text": [
      "[I 2023-11-15 13:05:45,143] Trial 55 finished with value: 0.9818972277430612 and parameters: {'n_estimators': 150, 'max_depth': 23, 'min_samples_split': 12, 'min_samples_leaf': 1}. Best is trial 49 with value: 0.9837597390110903.\n"
     ]
    },
    {
     "name": "stdout",
     "output_type": "stream",
     "text": [
      "Trial 55, n_estimators: 150, max_depth: 23, min_samples_split: 12, min_samples_leaf: 1, ROC-AUC: 0.9818972277430612\n"
     ]
    },
    {
     "name": "stderr",
     "output_type": "stream",
     "text": [
      "[I 2023-11-15 13:05:48,072] Trial 56 finished with value: 0.9824711178068526 and parameters: {'n_estimators': 127, 'max_depth': 17, 'min_samples_split': 4, 'min_samples_leaf': 3}. Best is trial 49 with value: 0.9837597390110903.\n"
     ]
    },
    {
     "name": "stdout",
     "output_type": "stream",
     "text": [
      "Trial 56, n_estimators: 127, max_depth: 17, min_samples_split: 4, min_samples_leaf: 3, ROC-AUC: 0.9824711178068526\n"
     ]
    },
    {
     "name": "stderr",
     "output_type": "stream",
     "text": [
      "[I 2023-11-15 13:05:51,241] Trial 57 finished with value: 0.9785357112074943 and parameters: {'n_estimators': 139, 'max_depth': 15, 'min_samples_split': 4, 'min_samples_leaf': 8}. Best is trial 49 with value: 0.9837597390110903.\n"
     ]
    },
    {
     "name": "stdout",
     "output_type": "stream",
     "text": [
      "Trial 57, n_estimators: 139, max_depth: 15, min_samples_split: 4, min_samples_leaf: 8, ROC-AUC: 0.9785357112074943\n"
     ]
    },
    {
     "name": "stderr",
     "output_type": "stream",
     "text": [
      "[I 2023-11-15 13:05:52,994] Trial 58 finished with value: 0.8223257008176358 and parameters: {'n_estimators': 108, 'max_depth': 1, 'min_samples_split': 15, 'min_samples_leaf': 2}. Best is trial 49 with value: 0.9837597390110903.\n"
     ]
    },
    {
     "name": "stdout",
     "output_type": "stream",
     "text": [
      "Trial 58, n_estimators: 108, max_depth: 1, min_samples_split: 15, min_samples_leaf: 2, ROC-AUC: 0.8223257008176358\n"
     ]
    },
    {
     "name": "stderr",
     "output_type": "stream",
     "text": [
      "[I 2023-11-15 13:05:56,033] Trial 59 finished with value: 0.981741661702863 and parameters: {'n_estimators': 133, 'max_depth': 26, 'min_samples_split': 6, 'min_samples_leaf': 4}. Best is trial 49 with value: 0.9837597390110903.\n"
     ]
    },
    {
     "name": "stdout",
     "output_type": "stream",
     "text": [
      "Trial 59, n_estimators: 133, max_depth: 26, min_samples_split: 6, min_samples_leaf: 4, ROC-AUC: 0.981741661702863\n"
     ]
    },
    {
     "name": "stderr",
     "output_type": "stream",
     "text": [
      "[I 2023-11-15 13:05:59,460] Trial 60 finished with value: 0.9829895530146965 and parameters: {'n_estimators': 146, 'max_depth': 24, 'min_samples_split': 8, 'min_samples_leaf': 1}. Best is trial 49 with value: 0.9837597390110903.\n"
     ]
    },
    {
     "name": "stdout",
     "output_type": "stream",
     "text": [
      "Trial 60, n_estimators: 146, max_depth: 24, min_samples_split: 8, min_samples_leaf: 1, ROC-AUC: 0.9829895530146965\n"
     ]
    },
    {
     "name": "stderr",
     "output_type": "stream",
     "text": [
      "[I 2023-11-15 13:06:02,085] Trial 61 finished with value: 0.9837442041358688 and parameters: {'n_estimators': 116, 'max_depth': 20, 'min_samples_split': 3, 'min_samples_leaf': 1}. Best is trial 49 with value: 0.9837597390110903.\n"
     ]
    },
    {
     "name": "stdout",
     "output_type": "stream",
     "text": [
      "Trial 61, n_estimators: 116, max_depth: 20, min_samples_split: 3, min_samples_leaf: 1, ROC-AUC: 0.9837442041358688\n"
     ]
    },
    {
     "name": "stderr",
     "output_type": "stream",
     "text": [
      "[I 2023-11-15 13:06:04,956] Trial 62 finished with value: 0.9834030648720156 and parameters: {'n_estimators': 125, 'max_depth': 21, 'min_samples_split': 3, 'min_samples_leaf': 1}. Best is trial 49 with value: 0.9837597390110903.\n"
     ]
    },
    {
     "name": "stdout",
     "output_type": "stream",
     "text": [
      "Trial 62, n_estimators: 125, max_depth: 21, min_samples_split: 3, min_samples_leaf: 1, ROC-AUC: 0.9834030648720156\n"
     ]
    },
    {
     "name": "stderr",
     "output_type": "stream",
     "text": [
      "[I 2023-11-15 13:06:07,718] Trial 63 finished with value: 0.9833041426929274 and parameters: {'n_estimators': 115, 'max_depth': 20, 'min_samples_split': 2, 'min_samples_leaf': 2}. Best is trial 49 with value: 0.9837597390110903.\n"
     ]
    },
    {
     "name": "stdout",
     "output_type": "stream",
     "text": [
      "Trial 63, n_estimators: 115, max_depth: 20, min_samples_split: 2, min_samples_leaf: 2, ROC-AUC: 0.9833041426929274\n"
     ]
    },
    {
     "name": "stderr",
     "output_type": "stream",
     "text": [
      "[I 2023-11-15 13:06:11,040] Trial 64 finished with value: 0.9831821411256598 and parameters: {'n_estimators': 132, 'max_depth': 16, 'min_samples_split': 3, 'min_samples_leaf': 2}. Best is trial 49 with value: 0.9837597390110903.\n"
     ]
    },
    {
     "name": "stdout",
     "output_type": "stream",
     "text": [
      "Trial 64, n_estimators: 132, max_depth: 16, min_samples_split: 3, min_samples_leaf: 2, ROC-AUC: 0.9831821411256598\n"
     ]
    },
    {
     "name": "stderr",
     "output_type": "stream",
     "text": [
      "[I 2023-11-15 13:06:14,738] Trial 65 finished with value: 0.9827121443391347 and parameters: {'n_estimators': 138, 'max_depth': 45, 'min_samples_split': 4, 'min_samples_leaf': 3}. Best is trial 49 with value: 0.9837597390110903.\n"
     ]
    },
    {
     "name": "stdout",
     "output_type": "stream",
     "text": [
      "Trial 65, n_estimators: 138, max_depth: 45, min_samples_split: 4, min_samples_leaf: 3, ROC-AUC: 0.9827121443391347\n"
     ]
    },
    {
     "name": "stderr",
     "output_type": "stream",
     "text": [
      "[I 2023-11-15 13:06:17,439] Trial 66 finished with value: 0.983404943097869 and parameters: {'n_estimators': 116, 'max_depth': 14, 'min_samples_split': 2, 'min_samples_leaf': 1}. Best is trial 49 with value: 0.9837597390110903.\n"
     ]
    },
    {
     "name": "stdout",
     "output_type": "stream",
     "text": [
      "Trial 66, n_estimators: 116, max_depth: 14, min_samples_split: 2, min_samples_leaf: 1, ROC-AUC: 0.983404943097869\n"
     ]
    },
    {
     "name": "stderr",
     "output_type": "stream",
     "text": [
      "[I 2023-11-15 13:06:19,898] Trial 67 finished with value: 0.9829341746405831 and parameters: {'n_estimators': 107, 'max_depth': 30, 'min_samples_split': 5, 'min_samples_leaf': 1}. Best is trial 49 with value: 0.9837597390110903.\n"
     ]
    },
    {
     "name": "stdout",
     "output_type": "stream",
     "text": [
      "Trial 67, n_estimators: 107, max_depth: 30, min_samples_split: 5, min_samples_leaf: 1, ROC-AUC: 0.9829341746405831\n"
     ]
    },
    {
     "name": "stderr",
     "output_type": "stream",
     "text": [
      "[I 2023-11-15 13:06:22,319] Trial 68 finished with value: 0.9599325585396381 and parameters: {'n_estimators': 122, 'max_depth': 7, 'min_samples_split': 3, 'min_samples_leaf': 2}. Best is trial 49 with value: 0.9837597390110903.\n"
     ]
    },
    {
     "name": "stdout",
     "output_type": "stream",
     "text": [
      "Trial 68, n_estimators: 122, max_depth: 7, min_samples_split: 3, min_samples_leaf: 2, ROC-AUC: 0.9599325585396381\n"
     ]
    },
    {
     "name": "stderr",
     "output_type": "stream",
     "text": [
      "[I 2023-11-15 13:06:24,539] Trial 69 finished with value: 0.9835385316630194 and parameters: {'n_estimators': 99, 'max_depth': 49, 'min_samples_split': 3, 'min_samples_leaf': 1}. Best is trial 49 with value: 0.9837597390110903.\n"
     ]
    },
    {
     "name": "stdout",
     "output_type": "stream",
     "text": [
      "Trial 69, n_estimators: 99, max_depth: 49, min_samples_split: 3, min_samples_leaf: 1, ROC-AUC: 0.9835385316630194\n"
     ]
    },
    {
     "name": "stderr",
     "output_type": "stream",
     "text": [
      "[I 2023-11-15 13:06:27,326] Trial 70 finished with value: 0.9830817087619146 and parameters: {'n_estimators': 130, 'max_depth': 48, 'min_samples_split': 2, 'min_samples_leaf': 2}. Best is trial 49 with value: 0.9837597390110903.\n"
     ]
    },
    {
     "name": "stdout",
     "output_type": "stream",
     "text": [
      "Trial 70, n_estimators: 130, max_depth: 48, min_samples_split: 2, min_samples_leaf: 2, ROC-AUC: 0.9830817087619146\n"
     ]
    },
    {
     "name": "stderr",
     "output_type": "stream",
     "text": [
      "[I 2023-11-15 13:06:29,608] Trial 71 finished with value: 0.9831617770636407 and parameters: {'n_estimators': 98, 'max_depth': 45, 'min_samples_split': 3, 'min_samples_leaf': 1}. Best is trial 49 with value: 0.9837597390110903.\n"
     ]
    },
    {
     "name": "stdout",
     "output_type": "stream",
     "text": [
      "Trial 71, n_estimators: 98, max_depth: 45, min_samples_split: 3, min_samples_leaf: 1, ROC-AUC: 0.9831617770636407\n"
     ]
    },
    {
     "name": "stderr",
     "output_type": "stream",
     "text": [
      "[I 2023-11-15 13:06:31,897] Trial 72 finished with value: 0.983432930365138 and parameters: {'n_estimators': 105, 'max_depth': 48, 'min_samples_split': 4, 'min_samples_leaf': 1}. Best is trial 49 with value: 0.9837597390110903.\n"
     ]
    },
    {
     "name": "stdout",
     "output_type": "stream",
     "text": [
      "Trial 72, n_estimators: 105, max_depth: 48, min_samples_split: 4, min_samples_leaf: 1, ROC-AUC: 0.983432930365138\n"
     ]
    },
    {
     "name": "stderr",
     "output_type": "stream",
     "text": [
      "[I 2023-11-15 13:06:33,891] Trial 73 finished with value: 0.9833252806361648 and parameters: {'n_estimators': 89, 'max_depth': 48, 'min_samples_split': 2, 'min_samples_leaf': 1}. Best is trial 49 with value: 0.9837597390110903.\n"
     ]
    },
    {
     "name": "stdout",
     "output_type": "stream",
     "text": [
      "Trial 73, n_estimators: 89, max_depth: 48, min_samples_split: 2, min_samples_leaf: 1, ROC-AUC: 0.9833252806361648\n"
     ]
    },
    {
     "name": "stderr",
     "output_type": "stream",
     "text": [
      "[I 2023-11-15 13:06:35,720] Trial 74 finished with value: 0.982643987088381 and parameters: {'n_estimators': 80, 'max_depth': 49, 'min_samples_split': 3, 'min_samples_leaf': 2}. Best is trial 49 with value: 0.9837597390110903.\n"
     ]
    },
    {
     "name": "stdout",
     "output_type": "stream",
     "text": [
      "Trial 74, n_estimators: 80, max_depth: 49, min_samples_split: 3, min_samples_leaf: 2, ROC-AUC: 0.982643987088381\n"
     ]
    },
    {
     "name": "stderr",
     "output_type": "stream",
     "text": [
      "[I 2023-11-15 13:06:38,210] Trial 75 finished with value: 0.9832012125120533 and parameters: {'n_estimators': 112, 'max_depth': 46, 'min_samples_split': 3, 'min_samples_leaf': 1}. Best is trial 49 with value: 0.9837597390110903.\n"
     ]
    },
    {
     "name": "stdout",
     "output_type": "stream",
     "text": [
      "Trial 75, n_estimators: 112, max_depth: 46, min_samples_split: 3, min_samples_leaf: 1, ROC-AUC: 0.9832012125120533\n"
     ]
    },
    {
     "name": "stderr",
     "output_type": "stream",
     "text": [
      "[I 2023-11-15 13:06:40,530] Trial 76 finished with value: 0.982272792895186 and parameters: {'n_estimators': 103, 'max_depth': 44, 'min_samples_split': 4, 'min_samples_leaf': 3}. Best is trial 49 with value: 0.9837597390110903.\n"
     ]
    },
    {
     "name": "stdout",
     "output_type": "stream",
     "text": [
      "Trial 76, n_estimators: 103, max_depth: 44, min_samples_split: 4, min_samples_leaf: 3, ROC-AUC: 0.982272792895186\n"
     ]
    },
    {
     "name": "stderr",
     "output_type": "stream",
     "text": [
      "[I 2023-11-15 13:06:41,018] Trial 77 finished with value: 0.9786335288209015 and parameters: {'n_estimators': 16, 'max_depth': 49, 'min_samples_split': 2, 'min_samples_leaf': 5}. Best is trial 49 with value: 0.9837597390110903.\n"
     ]
    },
    {
     "name": "stdout",
     "output_type": "stream",
     "text": [
      "Trial 77, n_estimators: 16, max_depth: 49, min_samples_split: 2, min_samples_leaf: 5, ROC-AUC: 0.9786335288209015\n"
     ]
    },
    {
     "name": "stderr",
     "output_type": "stream",
     "text": [
      "[I 2023-11-15 13:06:43,625] Trial 78 finished with value: 0.9832891325803488 and parameters: {'n_estimators': 123, 'max_depth': 46, 'min_samples_split': 4, 'min_samples_leaf': 2}. Best is trial 49 with value: 0.9837597390110903.\n"
     ]
    },
    {
     "name": "stdout",
     "output_type": "stream",
     "text": [
      "Trial 78, n_estimators: 123, max_depth: 46, min_samples_split: 4, min_samples_leaf: 2, ROC-AUC: 0.9832891325803488\n"
     ]
    },
    {
     "name": "stderr",
     "output_type": "stream",
     "text": [
      "[I 2023-11-15 13:06:47,138] Trial 79 finished with value: 0.981441579479144 and parameters: {'n_estimators': 141, 'max_depth': 22, 'min_samples_split': 5, 'min_samples_leaf': 4}. Best is trial 49 with value: 0.9837597390110903.\n"
     ]
    },
    {
     "name": "stdout",
     "output_type": "stream",
     "text": [
      "Trial 79, n_estimators: 141, max_depth: 22, min_samples_split: 5, min_samples_leaf: 4, ROC-AUC: 0.981441579479144\n"
     ]
    },
    {
     "name": "stderr",
     "output_type": "stream",
     "text": [
      "[I 2023-11-15 13:06:50,927] Trial 80 finished with value: 0.983863652182475 and parameters: {'n_estimators': 147, 'max_depth': 19, 'min_samples_split': 2, 'min_samples_leaf': 1}. Best is trial 80 with value: 0.983863652182475.\n"
     ]
    },
    {
     "name": "stdout",
     "output_type": "stream",
     "text": [
      "Trial 80, n_estimators: 147, max_depth: 19, min_samples_split: 2, min_samples_leaf: 1, ROC-AUC: 0.983863652182475\n"
     ]
    },
    {
     "name": "stderr",
     "output_type": "stream",
     "text": [
      "[I 2023-11-15 13:06:54,069] Trial 81 finished with value: 0.9835138454931848 and parameters: {'n_estimators': 135, 'max_depth': 19, 'min_samples_split': 2, 'min_samples_leaf': 1}. Best is trial 80 with value: 0.983863652182475.\n"
     ]
    },
    {
     "name": "stdout",
     "output_type": "stream",
     "text": [
      "Trial 81, n_estimators: 135, max_depth: 19, min_samples_split: 2, min_samples_leaf: 1, ROC-AUC: 0.9835138454931848\n"
     ]
    },
    {
     "name": "stderr",
     "output_type": "stream",
     "text": [
      "[I 2023-11-15 13:06:57,390] Trial 82 finished with value: 0.9835924093574435 and parameters: {'n_estimators': 136, 'max_depth': 19, 'min_samples_split': 2, 'min_samples_leaf': 1}. Best is trial 80 with value: 0.983863652182475.\n"
     ]
    },
    {
     "name": "stdout",
     "output_type": "stream",
     "text": [
      "Trial 82, n_estimators: 136, max_depth: 19, min_samples_split: 2, min_samples_leaf: 1, ROC-AUC: 0.9835924093574435\n"
     ]
    },
    {
     "name": "stderr",
     "output_type": "stream",
     "text": [
      "[I 2023-11-15 13:07:00,362] Trial 83 finished with value: 0.9816432134458921 and parameters: {'n_estimators': 135, 'max_depth': 20, 'min_samples_split': 14, 'min_samples_leaf': 1}. Best is trial 80 with value: 0.983863652182475.\n"
     ]
    },
    {
     "name": "stdout",
     "output_type": "stream",
     "text": [
      "Trial 83, n_estimators: 135, max_depth: 20, min_samples_split: 14, min_samples_leaf: 1, ROC-AUC: 0.9816432134458921\n"
     ]
    },
    {
     "name": "stderr",
     "output_type": "stream",
     "text": [
      "[I 2023-11-15 13:07:03,470] Trial 84 finished with value: 0.9834503560658211 and parameters: {'n_estimators': 144, 'max_depth': 17, 'min_samples_split': 2, 'min_samples_leaf': 1}. Best is trial 80 with value: 0.983863652182475.\n"
     ]
    },
    {
     "name": "stdout",
     "output_type": "stream",
     "text": [
      "Trial 84, n_estimators: 144, max_depth: 17, min_samples_split: 2, min_samples_leaf: 1, ROC-AUC: 0.9834503560658211\n"
     ]
    },
    {
     "name": "stderr",
     "output_type": "stream",
     "text": [
      "[I 2023-11-15 13:07:06,729] Trial 85 finished with value: 0.9827357933622469 and parameters: {'n_estimators': 146, 'max_depth': 19, 'min_samples_split': 3, 'min_samples_leaf': 2}. Best is trial 80 with value: 0.983863652182475.\n"
     ]
    },
    {
     "name": "stdout",
     "output_type": "stream",
     "text": [
      "Trial 85, n_estimators: 146, max_depth: 19, min_samples_split: 3, min_samples_leaf: 2, ROC-AUC: 0.9827357933622469\n"
     ]
    },
    {
     "name": "stderr",
     "output_type": "stream",
     "text": [
      "[I 2023-11-15 13:07:09,304] Trial 86 finished with value: 0.9828681608705991 and parameters: {'n_estimators': 118, 'max_depth': 25, 'min_samples_split': 2, 'min_samples_leaf': 3}. Best is trial 80 with value: 0.983863652182475.\n"
     ]
    },
    {
     "name": "stdout",
     "output_type": "stream",
     "text": [
      "Trial 86, n_estimators: 118, max_depth: 25, min_samples_split: 2, min_samples_leaf: 3, ROC-AUC: 0.9828681608705991\n"
     ]
    },
    {
     "name": "stderr",
     "output_type": "stream",
     "text": [
      "[I 2023-11-15 13:07:12,043] Trial 87 finished with value: 0.9766025897438728 and parameters: {'n_estimators': 129, 'max_depth': 15, 'min_samples_split': 2, 'min_samples_leaf': 11}. Best is trial 80 with value: 0.983863652182475.\n"
     ]
    },
    {
     "name": "stdout",
     "output_type": "stream",
     "text": [
      "Trial 87, n_estimators: 129, max_depth: 15, min_samples_split: 2, min_samples_leaf: 11, ROC-AUC: 0.9766025897438728\n"
     ]
    },
    {
     "name": "stderr",
     "output_type": "stream",
     "text": [
      "[I 2023-11-15 13:07:14,985] Trial 88 finished with value: 0.9836692070660515 and parameters: {'n_estimators': 135, 'max_depth': 18, 'min_samples_split': 3, 'min_samples_leaf': 1}. Best is trial 80 with value: 0.983863652182475.\n"
     ]
    },
    {
     "name": "stdout",
     "output_type": "stream",
     "text": [
      "Trial 88, n_estimators: 135, max_depth: 18, min_samples_split: 3, min_samples_leaf: 1, ROC-AUC: 0.9836692070660515\n"
     ]
    },
    {
     "name": "stderr",
     "output_type": "stream",
     "text": [
      "[I 2023-11-15 13:07:17,829] Trial 89 finished with value: 0.9832678281896514 and parameters: {'n_estimators': 135, 'max_depth': 18, 'min_samples_split': 3, 'min_samples_leaf': 2}. Best is trial 80 with value: 0.983863652182475.\n"
     ]
    },
    {
     "name": "stdout",
     "output_type": "stream",
     "text": [
      "Trial 89, n_estimators: 135, max_depth: 18, min_samples_split: 3, min_samples_leaf: 2, ROC-AUC: 0.9832678281896514\n"
     ]
    },
    {
     "name": "stderr",
     "output_type": "stream",
     "text": [
      "[I 2023-11-15 13:07:20,671] Trial 90 finished with value: 0.9810997025855777 and parameters: {'n_estimators': 140, 'max_depth': 11, 'min_samples_split': 2, 'min_samples_leaf': 1}. Best is trial 80 with value: 0.983863652182475.\n"
     ]
    },
    {
     "name": "stdout",
     "output_type": "stream",
     "text": [
      "Trial 90, n_estimators: 140, max_depth: 11, min_samples_split: 2, min_samples_leaf: 1, ROC-AUC: 0.9810997025855777\n"
     ]
    },
    {
     "name": "stderr",
     "output_type": "stream",
     "text": [
      "[I 2023-11-15 13:07:23,473] Trial 91 finished with value: 0.9833774865614785 and parameters: {'n_estimators': 136, 'max_depth': 22, 'min_samples_split': 3, 'min_samples_leaf': 1}. Best is trial 80 with value: 0.983863652182475.\n"
     ]
    },
    {
     "name": "stdout",
     "output_type": "stream",
     "text": [
      "Trial 91, n_estimators: 136, max_depth: 22, min_samples_split: 3, min_samples_leaf: 1, ROC-AUC: 0.9833774865614785\n"
     ]
    },
    {
     "name": "stderr",
     "output_type": "stream",
     "text": [
      "[I 2023-11-15 13:07:26,347] Trial 92 finished with value: 0.9834119716900147 and parameters: {'n_estimators': 146, 'max_depth': 20, 'min_samples_split': 3, 'min_samples_leaf': 1}. Best is trial 80 with value: 0.983863652182475.\n"
     ]
    },
    {
     "name": "stdout",
     "output_type": "stream",
     "text": [
      "Trial 92, n_estimators: 146, max_depth: 20, min_samples_split: 3, min_samples_leaf: 1, ROC-AUC: 0.9834119716900147\n"
     ]
    },
    {
     "name": "stderr",
     "output_type": "stream",
     "text": [
      "[I 2023-11-15 13:07:28,997] Trial 93 finished with value: 0.9829975641552615 and parameters: {'n_estimators': 132, 'max_depth': 17, 'min_samples_split': 2, 'min_samples_leaf': 2}. Best is trial 80 with value: 0.983863652182475.\n"
     ]
    },
    {
     "name": "stdout",
     "output_type": "stream",
     "text": [
      "Trial 93, n_estimators: 132, max_depth: 17, min_samples_split: 2, min_samples_leaf: 2, ROC-AUC: 0.9829975641552615\n"
     ]
    },
    {
     "name": "stderr",
     "output_type": "stream",
     "text": [
      "[I 2023-11-15 13:07:31,835] Trial 94 finished with value: 0.9835551852508505 and parameters: {'n_estimators': 142, 'max_depth': 19, 'min_samples_split': 3, 'min_samples_leaf': 1}. Best is trial 80 with value: 0.983863652182475.\n"
     ]
    },
    {
     "name": "stdout",
     "output_type": "stream",
     "text": [
      "Trial 94, n_estimators: 142, max_depth: 19, min_samples_split: 3, min_samples_leaf: 1, ROC-AUC: 0.9835551852508505\n"
     ]
    },
    {
     "name": "stderr",
     "output_type": "stream",
     "text": [
      "[I 2023-11-15 13:07:34,617] Trial 95 finished with value: 0.9828776415234006 and parameters: {'n_estimators': 141, 'max_depth': 15, 'min_samples_split': 9, 'min_samples_leaf': 1}. Best is trial 80 with value: 0.983863652182475.\n"
     ]
    },
    {
     "name": "stdout",
     "output_type": "stream",
     "text": [
      "Trial 95, n_estimators: 141, max_depth: 15, min_samples_split: 9, min_samples_leaf: 1, ROC-AUC: 0.9828776415234006\n"
     ]
    },
    {
     "name": "stderr",
     "output_type": "stream",
     "text": [
      "[I 2023-11-15 13:07:37,561] Trial 96 finished with value: 0.9834661250285059 and parameters: {'n_estimators': 148, 'max_depth': 18, 'min_samples_split': 4, 'min_samples_leaf': 2}. Best is trial 80 with value: 0.983863652182475.\n"
     ]
    },
    {
     "name": "stdout",
     "output_type": "stream",
     "text": [
      "Trial 96, n_estimators: 148, max_depth: 18, min_samples_split: 4, min_samples_leaf: 2, ROC-AUC: 0.9834661250285059\n"
     ]
    },
    {
     "name": "stderr",
     "output_type": "stream",
     "text": [
      "[I 2023-11-15 13:07:39,990] Trial 97 finished with value: 0.9796114279846341 and parameters: {'n_estimators': 126, 'max_depth': 21, 'min_samples_split': 3, 'min_samples_leaf': 7}. Best is trial 80 with value: 0.983863652182475.\n"
     ]
    },
    {
     "name": "stdout",
     "output_type": "stream",
     "text": [
      "Trial 97, n_estimators: 126, max_depth: 21, min_samples_split: 3, min_samples_leaf: 7, ROC-AUC: 0.9796114279846341\n"
     ]
    },
    {
     "name": "stderr",
     "output_type": "stream",
     "text": [
      "[I 2023-11-15 13:07:42,766] Trial 98 finished with value: 0.9830501834361531 and parameters: {'n_estimators': 138, 'max_depth': 24, 'min_samples_split': 2, 'min_samples_leaf': 1}. Best is trial 80 with value: 0.983863652182475.\n"
     ]
    },
    {
     "name": "stdout",
     "output_type": "stream",
     "text": [
      "Trial 98, n_estimators: 138, max_depth: 24, min_samples_split: 2, min_samples_leaf: 1, ROC-AUC: 0.9830501834361531\n"
     ]
    },
    {
     "name": "stderr",
     "output_type": "stream",
     "text": [
      "[I 2023-11-15 13:07:43,678] Trial 99 finished with value: 0.9818713877143402 and parameters: {'n_estimators': 40, 'max_depth': 13, 'min_samples_split': 3, 'min_samples_leaf': 2}. Best is trial 80 with value: 0.983863652182475.\n"
     ]
    },
    {
     "name": "stdout",
     "output_type": "stream",
     "text": [
      "Trial 99, n_estimators: 40, max_depth: 13, min_samples_split: 3, min_samples_leaf: 2, ROC-AUC: 0.9818713877143402\n",
      "best score is: 0.983863652182475\n"
     ]
    }
   ],
   "source": [
    "trainer.tune_model(n_trials=n_trials)"
   ]
  },
  {
   "cell_type": "code",
   "execution_count": 94,
   "metadata": {},
   "outputs": [
    {
     "data": {
      "text/plain": [
       "array([[0],\n",
       "       [0],\n",
       "       [0],\n",
       "       ...,\n",
       "       [1],\n",
       "       [1],\n",
       "       [1]])"
      ]
     },
     "execution_count": 94,
     "metadata": {},
     "output_type": "execute_result"
    }
   ],
   "source": [
    "y_train.values.reshape(-1, 1)"
   ]
  },
  {
   "cell_type": "code",
   "execution_count": 109,
   "metadata": {},
   "outputs": [
    {
     "name": "stdout",
     "output_type": "stream",
     "text": [
      "<class 'sklearn.ensemble._forest.RandomForestClassifier'>\n"
     ]
    },
    {
     "data": {
      "text/html": [
       "<style>#sk-container-id-5 {color: black;}#sk-container-id-5 pre{padding: 0;}#sk-container-id-5 div.sk-toggleable {background-color: white;}#sk-container-id-5 label.sk-toggleable__label {cursor: pointer;display: block;width: 100%;margin-bottom: 0;padding: 0.3em;box-sizing: border-box;text-align: center;}#sk-container-id-5 label.sk-toggleable__label-arrow:before {content: \"▸\";float: left;margin-right: 0.25em;color: #696969;}#sk-container-id-5 label.sk-toggleable__label-arrow:hover:before {color: black;}#sk-container-id-5 div.sk-estimator:hover label.sk-toggleable__label-arrow:before {color: black;}#sk-container-id-5 div.sk-toggleable__content {max-height: 0;max-width: 0;overflow: hidden;text-align: left;background-color: #f0f8ff;}#sk-container-id-5 div.sk-toggleable__content pre {margin: 0.2em;color: black;border-radius: 0.25em;background-color: #f0f8ff;}#sk-container-id-5 input.sk-toggleable__control:checked~div.sk-toggleable__content {max-height: 200px;max-width: 100%;overflow: auto;}#sk-container-id-5 input.sk-toggleable__control:checked~label.sk-toggleable__label-arrow:before {content: \"▾\";}#sk-container-id-5 div.sk-estimator input.sk-toggleable__control:checked~label.sk-toggleable__label {background-color: #d4ebff;}#sk-container-id-5 div.sk-label input.sk-toggleable__control:checked~label.sk-toggleable__label {background-color: #d4ebff;}#sk-container-id-5 input.sk-hidden--visually {border: 0;clip: rect(1px 1px 1px 1px);clip: rect(1px, 1px, 1px, 1px);height: 1px;margin: -1px;overflow: hidden;padding: 0;position: absolute;width: 1px;}#sk-container-id-5 div.sk-estimator {font-family: monospace;background-color: #f0f8ff;border: 1px dotted black;border-radius: 0.25em;box-sizing: border-box;margin-bottom: 0.5em;}#sk-container-id-5 div.sk-estimator:hover {background-color: #d4ebff;}#sk-container-id-5 div.sk-parallel-item::after {content: \"\";width: 100%;border-bottom: 1px solid gray;flex-grow: 1;}#sk-container-id-5 div.sk-label:hover label.sk-toggleable__label {background-color: #d4ebff;}#sk-container-id-5 div.sk-serial::before {content: \"\";position: absolute;border-left: 1px solid gray;box-sizing: border-box;top: 0;bottom: 0;left: 50%;z-index: 0;}#sk-container-id-5 div.sk-serial {display: flex;flex-direction: column;align-items: center;background-color: white;padding-right: 0.2em;padding-left: 0.2em;position: relative;}#sk-container-id-5 div.sk-item {position: relative;z-index: 1;}#sk-container-id-5 div.sk-parallel {display: flex;align-items: stretch;justify-content: center;background-color: white;position: relative;}#sk-container-id-5 div.sk-item::before, #sk-container-id-5 div.sk-parallel-item::before {content: \"\";position: absolute;border-left: 1px solid gray;box-sizing: border-box;top: 0;bottom: 0;left: 50%;z-index: -1;}#sk-container-id-5 div.sk-parallel-item {display: flex;flex-direction: column;z-index: 1;position: relative;background-color: white;}#sk-container-id-5 div.sk-parallel-item:first-child::after {align-self: flex-end;width: 50%;}#sk-container-id-5 div.sk-parallel-item:last-child::after {align-self: flex-start;width: 50%;}#sk-container-id-5 div.sk-parallel-item:only-child::after {width: 0;}#sk-container-id-5 div.sk-dashed-wrapped {border: 1px dashed gray;margin: 0 0.4em 0.5em 0.4em;box-sizing: border-box;padding-bottom: 0.4em;background-color: white;}#sk-container-id-5 div.sk-label label {font-family: monospace;font-weight: bold;display: inline-block;line-height: 1.2em;}#sk-container-id-5 div.sk-label-container {text-align: center;}#sk-container-id-5 div.sk-container {/* jupyter's `normalize.less` sets `[hidden] { display: none; }` but bootstrap.min.css set `[hidden] { display: none !important; }` so we also need the `!important` here to be able to override the default hidden behavior on the sphinx rendered scikit-learn.org. See: https://github.com/scikit-learn/scikit-learn/issues/21755 */display: inline-block !important;position: relative;}#sk-container-id-5 div.sk-text-repr-fallback {display: none;}</style><div id=\"sk-container-id-5\" class=\"sk-top-container\"><div class=\"sk-text-repr-fallback\"><pre>RandomForestClassifier(max_depth=19, n_estimators=147, n_jobs=-1)</pre><b>In a Jupyter environment, please rerun this cell to show the HTML representation or trust the notebook. <br />On GitHub, the HTML representation is unable to render, please try loading this page with nbviewer.org.</b></div><div class=\"sk-container\" hidden><div class=\"sk-item\"><div class=\"sk-estimator sk-toggleable\"><input class=\"sk-toggleable__control sk-hidden--visually\" id=\"sk-estimator-id-5\" type=\"checkbox\" checked><label for=\"sk-estimator-id-5\" class=\"sk-toggleable__label sk-toggleable__label-arrow\">RandomForestClassifier</label><div class=\"sk-toggleable__content\"><pre>RandomForestClassifier(max_depth=19, n_estimators=147, n_jobs=-1)</pre></div></div></div></div></div>"
      ],
      "text/plain": [
       "RandomForestClassifier(max_depth=19, n_estimators=147, n_jobs=-1)"
      ]
     },
     "execution_count": 109,
     "metadata": {},
     "output_type": "execute_result"
    }
   ],
   "source": [
    "trainer.train_model()"
   ]
  },
  {
   "cell_type": "code",
   "execution_count": 59,
   "metadata": {},
   "outputs": [
    {
     "data": {
      "text/plain": [
       "{'C': 1.0,\n",
       " 'class_weight': None,\n",
       " 'dual': False,\n",
       " 'fit_intercept': True,\n",
       " 'intercept_scaling': 1,\n",
       " 'l1_ratio': None,\n",
       " 'max_iter': 100,\n",
       " 'multi_class': 'auto',\n",
       " 'n_jobs': None,\n",
       " 'penalty': 'l2',\n",
       " 'random_state': None,\n",
       " 'solver': 'lbfgs',\n",
       " 'tol': 0.0001,\n",
       " 'verbose': 0,\n",
       " 'warm_start': False}"
      ]
     },
     "execution_count": 59,
     "metadata": {},
     "output_type": "execute_result"
    }
   ],
   "source": [
    "from sklearn.linear_model import LogisticRegression\n",
    "\n",
    "a = LogisticRegression()\n",
    "a.get_params()"
   ]
  },
  {
   "cell_type": "code",
   "execution_count": 84,
   "metadata": {},
   "outputs": [],
   "source": [
    "a = models.LogisticRegressionWrapper(params={'C':2.0})"
   ]
  },
  {
   "cell_type": "code",
   "execution_count": 86,
   "metadata": {},
   "outputs": [
    {
     "data": {
      "text/plain": [
       "{'C': 1.0}"
      ]
     },
     "execution_count": 86,
     "metadata": {},
     "output_type": "execute_result"
    }
   ],
   "source": [
    "a.params_default_values"
   ]
  },
  {
   "cell_type": "code",
   "execution_count": 128,
   "metadata": {},
   "outputs": [],
   "source": [
    "utils.run_notebook(proj_root.joinpath('notebooks/note.ipynb'))"
   ]
  },
  {
   "cell_type": "code",
   "execution_count": 122,
   "metadata": {},
   "outputs": [
    {
     "data": {
      "text/plain": [
       "PosixPath('/home/aroge/projects/dividend-cut-predictor/notebooks/02-data-preprocessing.ipynb')"
      ]
     },
     "execution_count": 122,
     "metadata": {},
     "output_type": "execute_result"
    }
   ],
   "source": [
    "a = proj_root.joinpath('notebooks/02-data-preprocessing.ipynb')\n",
    "a"
   ]
  }
 ],
 "metadata": {
  "kernelspec": {
   "display_name": ".venv",
   "language": "python",
   "name": "python3"
  },
  "language_info": {
   "codemirror_mode": {
    "name": "ipython",
    "version": 3
   },
   "file_extension": ".py",
   "mimetype": "text/x-python",
   "name": "python",
   "nbconvert_exporter": "python",
   "pygments_lexer": "ipython3",
   "version": "3.10.13"
  }
 },
 "nbformat": 4,
 "nbformat_minor": 2
}

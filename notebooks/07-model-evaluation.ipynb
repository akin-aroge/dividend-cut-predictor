{
 "cells": [
  {
   "cell_type": "markdown",
   "metadata": {},
   "source": [
    "# Evaluation"
   ]
  },
  {
   "cell_type": "code",
   "execution_count": 171,
   "metadata": {},
   "outputs": [
    {
     "name": "stdout",
     "output_type": "stream",
     "text": [
      "The autoreload extension is already loaded. To reload it, use:\n",
      "  %reload_ext autoreload\n"
     ]
    }
   ],
   "source": [
    "# imports\n",
    "\n",
    "from src.utils import utils\n",
    "from src.modelling import training as train\n",
    "import configparser\n",
    "from sklearn.metrics import roc_auc_score, classification_report\n",
    "import numpy as np\n",
    "%matplotlib inline\n",
    "\n",
    "%load_ext autoreload\n",
    "%autoreload 2"
   ]
  },
  {
   "cell_type": "code",
   "execution_count": 172,
   "metadata": {},
   "outputs": [
    {
     "name": "stdout",
     "output_type": "stream",
     "text": [
      "Pipeline(steps=[('select_optimal_cols',\n",
      "                 OptimalColumnSelector(optimal_cols_path=PosixPath('/home/aroge/projects/dividend-cut-predictor/models/artifacts/optimal_features.pkl'))),\n",
      "                ('cat_to_ordinal_cols', ColumnsOrdinalEncoder()),\n",
      "                ['model',\n",
      "                 XGBClassifier(base_score=None, booster=None, callbacks=None,\n",
      "                               colsample_bylevel=None, colsample_bynode=None,\n",
      "                               colsample_bytr...\n",
      "                               grow_policy=None, importance_type=None,\n",
      "                               interaction_constraints=None,\n",
      "                               learning_rate=0.026692793437760223, max_bin=None,\n",
      "                               max_cat_threshold=None, max_cat_to_onehot=None,\n",
      "                               max_delta_step=None, max_depth=50,\n",
      "                               max_leaves=None, min_child_weight=6, missing=nan,\n",
      "                               monotone_constraints=None, multi_strategy=None,\n",
      "                               n_estimators=121, n_jobs=-1,\n",
      "                               num_parallel_tree=None, random_state=None, ...)]])\n"
     ]
    }
   ],
   "source": [
    "proj_root = utils.get_proj_root()\n",
    "\n",
    "config = configparser.ConfigParser(interpolation=None)\n",
    "config.read(proj_root.joinpath('config/data_config.ini'))\n",
    "\n",
    "preprocessed_data_rel_path = config['data_paths']['preprocessed_data_path']\n",
    "preprocessed_data_path=  proj_root.joinpath(preprocessed_data_rel_path)\n",
    "\n",
    "preprocessed_data = train.get_training_data(file_path=preprocessed_data_path)\n",
    "\n",
    "\n",
    "model_output_dir = proj_root.joinpath(config['modelling_paths']['model_output'])\n",
    "model_name = 'xgboost'\n",
    "# model_name = 'random_forest'\n",
    "model_output_path = model_output_dir.joinpath(model_name+'.pkl')\n",
    "model = utils.load_value(model_output_path)\n",
    "print(model)"
   ]
  },
  {
   "cell_type": "markdown",
   "metadata": {},
   "source": [
    "## overall model evaluation"
   ]
  },
  {
   "cell_type": "code",
   "execution_count": 173,
   "metadata": {},
   "outputs": [
    {
     "name": "stdout",
     "output_type": "stream",
     "text": [
      "0.8070872947277442\n",
      "              precision    recall  f1-score   support\n",
      "\n",
      "           0       0.95      1.00      0.97       445\n",
      "           1       0.75      0.12      0.20        26\n",
      "\n",
      "    accuracy                           0.95       471\n",
      "   macro avg       0.85      0.56      0.59       471\n",
      "weighted avg       0.94      0.95      0.93       471\n",
      "\n"
     ]
    }
   ],
   "source": [
    "inf_year = int(config[\"year_limits\"][\"inf_year\"])\n",
    "final_year = inf_year - 2\n",
    "label_col_name = 'dps_change_next_year'\n",
    "training_data, testing_data = train.train_test_split(df=preprocessed_data, final_year=final_year)\n",
    "X_test, y_test = train.split_Xy(testing_data, label_col_name=label_col_name)\n",
    "\n",
    "y_pred_prob = model.predict_proba(X_test)[:, 1]\n",
    "y_pred = model.predict(X_test)\n",
    "score = roc_auc_score(y_true=y_test, y_score=y_pred_prob)\n",
    "\n",
    "print(score)\n",
    "print(classification_report(y_true=y_test, y_pred=y_pred))"
   ]
  },
  {
   "cell_type": "markdown",
   "metadata": {},
   "source": [
    "## Check Top Predictions"
   ]
  },
  {
   "cell_type": "code",
   "execution_count": 175,
   "metadata": {},
   "outputs": [
    {
     "name": "stdout",
     "output_type": "stream",
     "text": [
      "top 10 probabilities of cutting dividends for 2023:\n"
     ]
    },
    {
     "data": {
      "text/html": [
       "<div>\n",
       "<style scoped>\n",
       "    .dataframe tbody tr th:only-of-type {\n",
       "        vertical-align: middle;\n",
       "    }\n",
       "\n",
       "    .dataframe tbody tr th {\n",
       "        vertical-align: top;\n",
       "    }\n",
       "\n",
       "    .dataframe thead th {\n",
       "        text-align: right;\n",
       "    }\n",
       "</style>\n",
       "<table border=\"1\" class=\"dataframe\">\n",
       "  <thead>\n",
       "    <tr style=\"text-align: right;\">\n",
       "      <th></th>\n",
       "      <th>industry</th>\n",
       "      <th>symbol</th>\n",
       "      <th>pred. prob</th>\n",
       "      <th>pred. class</th>\n",
       "      <th>true class</th>\n",
       "    </tr>\n",
       "  </thead>\n",
       "  <tbody>\n",
       "    <tr>\n",
       "      <th>3565</th>\n",
       "      <td>REIT - Industrial</td>\n",
       "      <td>PSA</td>\n",
       "      <td>0.727280</td>\n",
       "      <td>1</td>\n",
       "      <td>1</td>\n",
       "    </tr>\n",
       "    <tr>\n",
       "      <th>2715</th>\n",
       "      <td>Specialty Chemicals</td>\n",
       "      <td>LYB</td>\n",
       "      <td>0.599974</td>\n",
       "      <td>1</td>\n",
       "      <td>1</td>\n",
       "    </tr>\n",
       "    <tr>\n",
       "      <th>4153</th>\n",
       "      <td>Aerospace &amp; Defense</td>\n",
       "      <td>TDG</td>\n",
       "      <td>0.575821</td>\n",
       "      <td>1</td>\n",
       "      <td>0</td>\n",
       "    </tr>\n",
       "    <tr>\n",
       "      <th>1372</th>\n",
       "      <td>Oil &amp; Gas E&amp;P</td>\n",
       "      <td>FANG</td>\n",
       "      <td>0.527459</td>\n",
       "      <td>1</td>\n",
       "      <td>1</td>\n",
       "    </tr>\n",
       "    <tr>\n",
       "      <th>1357</th>\n",
       "      <td>Oil &amp; Gas E&amp;P</td>\n",
       "      <td>DVN</td>\n",
       "      <td>0.484438</td>\n",
       "      <td>0</td>\n",
       "      <td>1</td>\n",
       "    </tr>\n",
       "    <tr>\n",
       "      <th>1170</th>\n",
       "      <td>Oil &amp; Gas E&amp;P</td>\n",
       "      <td>COP</td>\n",
       "      <td>0.477948</td>\n",
       "      <td>0</td>\n",
       "      <td>1</td>\n",
       "    </tr>\n",
       "    <tr>\n",
       "      <th>3444</th>\n",
       "      <td>Oil &amp; Gas E&amp;P</td>\n",
       "      <td>PXD</td>\n",
       "      <td>0.468074</td>\n",
       "      <td>0</td>\n",
       "      <td>1</td>\n",
       "    </tr>\n",
       "    <tr>\n",
       "      <th>1249</th>\n",
       "      <td>Oil &amp; Gas E&amp;P</td>\n",
       "      <td>CTRA</td>\n",
       "      <td>0.428168</td>\n",
       "      <td>0</td>\n",
       "      <td>1</td>\n",
       "    </tr>\n",
       "    <tr>\n",
       "      <th>450</th>\n",
       "      <td>Telecom Services</td>\n",
       "      <td>T</td>\n",
       "      <td>0.350418</td>\n",
       "      <td>0</td>\n",
       "      <td>1</td>\n",
       "    </tr>\n",
       "    <tr>\n",
       "      <th>3484</th>\n",
       "      <td>Utilities - Regulated Electric</td>\n",
       "      <td>PPL</td>\n",
       "      <td>0.320860</td>\n",
       "      <td>0</td>\n",
       "      <td>0</td>\n",
       "    </tr>\n",
       "  </tbody>\n",
       "</table>\n",
       "</div>"
      ],
      "text/plain": [
       "                            industry symbol  pred. prob  pred. class  \\\n",
       "3565               REIT - Industrial    PSA    0.727280            1   \n",
       "2715             Specialty Chemicals    LYB    0.599974            1   \n",
       "4153             Aerospace & Defense    TDG    0.575821            1   \n",
       "1372                   Oil & Gas E&P   FANG    0.527459            1   \n",
       "1357                   Oil & Gas E&P    DVN    0.484438            0   \n",
       "1170                   Oil & Gas E&P    COP    0.477948            0   \n",
       "3444                   Oil & Gas E&P    PXD    0.468074            0   \n",
       "1249                   Oil & Gas E&P   CTRA    0.428168            0   \n",
       "450                 Telecom Services      T    0.350418            0   \n",
       "3484  Utilities - Regulated Electric    PPL    0.320860            0   \n",
       "\n",
       "      true class  \n",
       "3565           1  \n",
       "2715           1  \n",
       "4153           0  \n",
       "1372           1  \n",
       "1357           1  \n",
       "1170           1  \n",
       "3444           1  \n",
       "1249           1  \n",
       "450            1  \n",
       "3484           0  "
      ]
     },
     "metadata": {},
     "output_type": "display_data"
    },
    {
     "name": "stdout",
     "output_type": "stream",
     "text": [
      "roc_auc_score: \n",
      " 0.625\n",
      "classification report: \n",
      "               precision    recall  f1-score   support\n",
      "\n",
      "           0       0.17      0.50      0.25         2\n",
      "           1       0.75      0.38      0.50         8\n",
      "\n",
      "    accuracy                           0.40        10\n",
      "   macro avg       0.46      0.44      0.38        10\n",
      "weighted avg       0.63      0.40      0.45        10\n",
      "\n"
     ]
    }
   ],
   "source": [
    "def get_top_n_idx(a, n=20, order='desc'):\n",
    "\n",
    "    if order == 'asc':\n",
    "\n",
    "        idx_top_n = np.argpartition(a, n)[:n]\n",
    "        idx_top_n = idx_top_n[np.argsort(a[idx_top_n])]\n",
    "    else:\n",
    "        idx_top_n = np.argpartition(a, -n)[-n:]\n",
    "        idx_top_n = idx_top_n[np.argsort(a[idx_top_n])][::-1]\n",
    "\n",
    "    return idx_top_n\n",
    "\n",
    "n = 10\n",
    "top_n_pred_idxs = get_top_n_idx(y_pred_prob, n=n, order='desc')\n",
    "\n",
    "y_pred_prob_top_n = y_pred_prob[top_n_pred_idxs]\n",
    "y_pred_top_n = y_pred[top_n_pred_idxs]\n",
    "y_true = y_test.values[top_n_pred_idxs]\n",
    "\n",
    "\n",
    "print(f'top {n} probabilities of cutting dividends for {final_year+1}:')\n",
    "df = X_test.iloc[top_n_pred_idxs, [1,2]]\n",
    "df['pred. prob'] = y_pred_prob_top_n\n",
    "df['pred. class'] = y_pred_top_n\n",
    "df['true class'] = y_true\n",
    "display(df)\n",
    "print('roc_auc_score: \\n', roc_auc_score(y_true=y_true, y_score=y_pred_prob_top_n))\n",
    "print(f'classification report: \\n',classification_report(y_true=y_true, y_pred=y_pred_top_n))\n"
   ]
  }
 ],
 "metadata": {
  "kernelspec": {
   "display_name": ".venv",
   "language": "python",
   "name": "python3"
  },
  "language_info": {
   "codemirror_mode": {
    "name": "ipython",
    "version": 3
   },
   "file_extension": ".py",
   "mimetype": "text/x-python",
   "name": "python",
   "nbconvert_exporter": "python",
   "pygments_lexer": "ipython3",
   "version": "3.10.13"
  }
 },
 "nbformat": 4,
 "nbformat_minor": 2
}

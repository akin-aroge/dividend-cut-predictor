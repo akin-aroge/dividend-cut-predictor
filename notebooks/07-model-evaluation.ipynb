{
 "cells": [
  {
   "cell_type": "markdown",
   "metadata": {},
   "source": [
    "# Evaluation"
   ]
  },
  {
   "cell_type": "code",
   "execution_count": 107,
   "metadata": {},
   "outputs": [
    {
     "name": "stdout",
     "output_type": "stream",
     "text": [
      "The autoreload extension is already loaded. To reload it, use:\n",
      "  %reload_ext autoreload\n"
     ]
    }
   ],
   "source": [
    "# imports\n",
    "\n",
    "from src.utils import utils\n",
    "from src.modelling import training as train\n",
    "import configparser\n",
    "from sklearn.metrics import roc_auc_score, classification_report\n",
    "import numpy as np\n",
    "%matplotlib inline\n",
    "\n",
    "%load_ext autoreload\n",
    "%autoreload 2"
   ]
  },
  {
   "cell_type": "code",
   "execution_count": 108,
   "metadata": {},
   "outputs": [
    {
     "name": "stdout",
     "output_type": "stream",
     "text": [
      "Pipeline(steps=[('cat_to_ordinal_cols',\n",
      "                 ColumnsOrdinalEncoder(col_names=['industry', 'symbol'])),\n",
      "                ('select_optimal_cols',\n",
      "                 OptimalColumnSelector(optimal_cols_path=PosixPath('/home/aroge/projects/dividend-cut-predictor/models/artifacts/optimal_features.pkl'))),\n",
      "                ['model',\n",
      "                 XGBClassifier(base_score=None, booster=None, callbacks=None,\n",
      "                               colsample_bylevel=None, colsa...\n",
      "                               grow_policy=None, importance_type=None,\n",
      "                               interaction_constraints=None,\n",
      "                               learning_rate=0.05845944217474756, max_bin=None,\n",
      "                               max_cat_threshold=None, max_cat_to_onehot=None,\n",
      "                               max_delta_step=None, max_depth=48,\n",
      "                               max_leaves=None, min_child_weight=1, missing=nan,\n",
      "                               monotone_constraints=None, multi_strategy=None,\n",
      "                               n_estimators=118, n_jobs=-1,\n",
      "                               num_parallel_tree=None, random_state=None, ...)]])\n"
     ]
    }
   ],
   "source": [
    "proj_root = utils.get_proj_root()\n",
    "\n",
    "config = configparser.ConfigParser(interpolation=None)\n",
    "config.read(proj_root.joinpath('config/data_config.ini'))\n",
    "\n",
    "preprocessed_data_rel_path = config['data_paths']['preprocessed_data_path']\n",
    "preprocessed_data_path=  proj_root.joinpath(preprocessed_data_rel_path)\n",
    "\n",
    "preprocessed_data = train.get_training_data(file_path=preprocessed_data_path)\n",
    "\n",
    "\n",
    "model_output_dir = proj_root.joinpath(config['modelling_paths']['model_output'])\n",
    "model_name = 'xgboost'\n",
    "model_output_path = model_output_dir.joinpath(model_name+'.pkl')\n",
    "model = utils.load_value(model_output_path)\n",
    "print(model)"
   ]
  },
  {
   "cell_type": "markdown",
   "metadata": {},
   "source": [
    "## overall model evaluation"
   ]
  },
  {
   "cell_type": "code",
   "execution_count": 109,
   "metadata": {},
   "outputs": [
    {
     "name": "stdout",
     "output_type": "stream",
     "text": [
      "              precision    recall  f1-score   support\n",
      "\n",
      "           0       0.96      0.99      0.98       450\n",
      "           1       0.64      0.35      0.45        26\n",
      "\n",
      "    accuracy                           0.95       476\n",
      "   macro avg       0.80      0.67      0.71       476\n",
      "weighted avg       0.95      0.95      0.95       476\n",
      "\n"
     ]
    }
   ],
   "source": [
    "final_year = int(config['year_limits']['end_year'])\n",
    "label_col_name = 'dps_change_next_year'\n",
    "training_data, testing_data = train.train_test_split(df=preprocessed_data, final_year=final_year)\n",
    "X_test, y_test = train.split_Xy(testing_data, label_col_name=label_col_name)\n",
    "\n",
    "y_pred_prob = model.predict_proba(X_test)[:, 1]\n",
    "y_pred = model.predict(X_test)\n",
    "score = roc_auc_score(y_true=y_test, y_score=y_pred_prob)\n",
    "\n",
    "\n",
    "print(classification_report(y_true=y_test, y_pred=y_pred))"
   ]
  },
  {
   "cell_type": "markdown",
   "metadata": {},
   "source": [
    "## Check Top Predictions"
   ]
  },
  {
   "cell_type": "code",
   "execution_count": 112,
   "metadata": {},
   "outputs": [
    {
     "name": "stdout",
     "output_type": "stream",
     "text": [
      "top 10 probabilities of cutting dividends for 2022:\n"
     ]
    },
    {
     "data": {
      "text/html": [
       "<div>\n",
       "<style scoped>\n",
       "    .dataframe tbody tr th:only-of-type {\n",
       "        vertical-align: middle;\n",
       "    }\n",
       "\n",
       "    .dataframe tbody tr th {\n",
       "        vertical-align: top;\n",
       "    }\n",
       "\n",
       "    .dataframe thead th {\n",
       "        text-align: right;\n",
       "    }\n",
       "</style>\n",
       "<table border=\"1\" class=\"dataframe\">\n",
       "  <thead>\n",
       "    <tr style=\"text-align: right;\">\n",
       "      <th></th>\n",
       "      <th>industry</th>\n",
       "      <th>symbol</th>\n",
       "      <th>pred. prob</th>\n",
       "      <th>pred. class</th>\n",
       "      <th>true class</th>\n",
       "    </tr>\n",
       "  </thead>\n",
       "  <tbody>\n",
       "    <tr>\n",
       "      <th>4130</th>\n",
       "      <td>Aerospace &amp; Defense</td>\n",
       "      <td>TDG</td>\n",
       "      <td>0.965635</td>\n",
       "      <td>1</td>\n",
       "      <td>0</td>\n",
       "    </tr>\n",
       "    <tr>\n",
       "      <th>3422</th>\n",
       "      <td>Oil &amp; Gas E&amp;P</td>\n",
       "      <td>PXD</td>\n",
       "      <td>0.964874</td>\n",
       "      <td>1</td>\n",
       "      <td>1</td>\n",
       "    </tr>\n",
       "    <tr>\n",
       "      <th>1173</th>\n",
       "      <td>Oil &amp; Gas E&amp;P</td>\n",
       "      <td>COP</td>\n",
       "      <td>0.924209</td>\n",
       "      <td>1</td>\n",
       "      <td>1</td>\n",
       "    </tr>\n",
       "    <tr>\n",
       "      <th>1593</th>\n",
       "      <td>Oil &amp; Gas E&amp;P</td>\n",
       "      <td>EOG</td>\n",
       "      <td>0.919763</td>\n",
       "      <td>1</td>\n",
       "      <td>1</td>\n",
       "    </tr>\n",
       "    <tr>\n",
       "      <th>1357</th>\n",
       "      <td>Oil &amp; Gas E&amp;P</td>\n",
       "      <td>DVN</td>\n",
       "      <td>0.916032</td>\n",
       "      <td>1</td>\n",
       "      <td>1</td>\n",
       "    </tr>\n",
       "    <tr>\n",
       "      <th>2702</th>\n",
       "      <td>Specialty Chemicals</td>\n",
       "      <td>LYB</td>\n",
       "      <td>0.904745</td>\n",
       "      <td>1</td>\n",
       "      <td>1</td>\n",
       "    </tr>\n",
       "    <tr>\n",
       "      <th>1371</th>\n",
       "      <td>Oil &amp; Gas E&amp;P</td>\n",
       "      <td>FANG</td>\n",
       "      <td>0.884634</td>\n",
       "      <td>1</td>\n",
       "      <td>1</td>\n",
       "    </tr>\n",
       "    <tr>\n",
       "      <th>1250</th>\n",
       "      <td>Oil &amp; Gas E&amp;P</td>\n",
       "      <td>CTRA</td>\n",
       "      <td>0.825482</td>\n",
       "      <td>1</td>\n",
       "      <td>1</td>\n",
       "    </tr>\n",
       "    <tr>\n",
       "      <th>2593</th>\n",
       "      <td>Diagnostics &amp; Research</td>\n",
       "      <td>LH</td>\n",
       "      <td>0.818853</td>\n",
       "      <td>1</td>\n",
       "      <td>0</td>\n",
       "    </tr>\n",
       "    <tr>\n",
       "      <th>3542</th>\n",
       "      <td>REIT - Industrial</td>\n",
       "      <td>PSA</td>\n",
       "      <td>0.763117</td>\n",
       "      <td>1</td>\n",
       "      <td>1</td>\n",
       "    </tr>\n",
       "  </tbody>\n",
       "</table>\n",
       "</div>"
      ],
      "text/plain": [
       "                    industry symbol  pred. prob  pred. class  true class\n",
       "4130     Aerospace & Defense    TDG    0.965635            1           0\n",
       "3422           Oil & Gas E&P    PXD    0.964874            1           1\n",
       "1173           Oil & Gas E&P    COP    0.924209            1           1\n",
       "1593           Oil & Gas E&P    EOG    0.919763            1           1\n",
       "1357           Oil & Gas E&P    DVN    0.916032            1           1\n",
       "2702     Specialty Chemicals    LYB    0.904745            1           1\n",
       "1371           Oil & Gas E&P   FANG    0.884634            1           1\n",
       "1250           Oil & Gas E&P   CTRA    0.825482            1           1\n",
       "2593  Diagnostics & Research     LH    0.818853            1           0\n",
       "3542       REIT - Industrial    PSA    0.763117            1           1"
      ]
     },
     "metadata": {},
     "output_type": "display_data"
    },
    {
     "name": "stdout",
     "output_type": "stream",
     "text": [
      "roc_auc_score: \n",
      " 0.4375\n",
      "classification report: \n",
      "               precision    recall  f1-score   support\n",
      "\n",
      "           0       0.00      0.00      0.00         2\n",
      "           1       0.80      1.00      0.89         8\n",
      "\n",
      "    accuracy                           0.80        10\n",
      "   macro avg       0.40      0.50      0.44        10\n",
      "weighted avg       0.64      0.80      0.71        10\n",
      "\n"
     ]
    },
    {
     "name": "stderr",
     "output_type": "stream",
     "text": [
      "/home/aroge/projects/dividend-cut-predictor/.venv/lib/python3.10/site-packages/sklearn/metrics/_classification.py:1469: UndefinedMetricWarning: Precision and F-score are ill-defined and being set to 0.0 in labels with no predicted samples. Use `zero_division` parameter to control this behavior.\n",
      "  _warn_prf(average, modifier, msg_start, len(result))\n",
      "/home/aroge/projects/dividend-cut-predictor/.venv/lib/python3.10/site-packages/sklearn/metrics/_classification.py:1469: UndefinedMetricWarning: Precision and F-score are ill-defined and being set to 0.0 in labels with no predicted samples. Use `zero_division` parameter to control this behavior.\n",
      "  _warn_prf(average, modifier, msg_start, len(result))\n",
      "/home/aroge/projects/dividend-cut-predictor/.venv/lib/python3.10/site-packages/sklearn/metrics/_classification.py:1469: UndefinedMetricWarning: Precision and F-score are ill-defined and being set to 0.0 in labels with no predicted samples. Use `zero_division` parameter to control this behavior.\n",
      "  _warn_prf(average, modifier, msg_start, len(result))\n"
     ]
    }
   ],
   "source": [
    "def get_top_n_idx(a, n=20, order='desc'):\n",
    "\n",
    "    if order == 'asc':\n",
    "\n",
    "        idx_top_n = np.argpartition(a, n)[:n]\n",
    "        idx_top_n = idx_top_n[np.argsort(a[idx_top_n])]\n",
    "    else:\n",
    "        idx_top_n = np.argpartition(a, -n)[-n:]\n",
    "        idx_top_n = idx_top_n[np.argsort(a[idx_top_n])][::-1]\n",
    "\n",
    "    return idx_top_n\n",
    "\n",
    "n = 10\n",
    "top_n_pred_idxs = get_top_n_idx(y_pred_prob, n=n, order='desc')\n",
    "\n",
    "y_pred_prob_top_n = y_pred_prob[top_n_pred_idxs]\n",
    "y_pred_top_n = y_pred[top_n_pred_idxs]\n",
    "y_true = y_test.values[top_n_pred_idxs]\n",
    "\n",
    "\n",
    "print(f'top {n} probabilities of cutting dividends for {final_year}:')\n",
    "df = X_test.iloc[top_n_pred_idxs, [1,2]]\n",
    "df['pred. prob'] = y_pred_prob_top_n\n",
    "df['pred. class'] = y_pred_top_n\n",
    "df['true class'] = y_true\n",
    "display(df)\n",
    "print('roc_auc_score: \\n', roc_auc_score(y_true=y_true, y_score=y_pred_prob_top_n))\n",
    "print(f'classification report: \\n',classification_report(y_true=y_true, y_pred=y_pred_top_n))\n"
   ]
  }
 ],
 "metadata": {
  "kernelspec": {
   "display_name": ".venv",
   "language": "python",
   "name": "python3"
  },
  "language_info": {
   "codemirror_mode": {
    "name": "ipython",
    "version": 3
   },
   "file_extension": ".py",
   "mimetype": "text/x-python",
   "name": "python",
   "nbconvert_exporter": "python",
   "pygments_lexer": "ipython3",
   "version": "3.10.13"
  }
 },
 "nbformat": 4,
 "nbformat_minor": 2
}

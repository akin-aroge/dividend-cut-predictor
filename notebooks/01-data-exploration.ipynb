{
 "cells": [
  {
   "cell_type": "markdown",
   "metadata": {},
   "source": [
    "# imports"
   ]
  },
  {
   "cell_type": "code",
   "execution_count": 1,
   "metadata": {},
   "outputs": [],
   "source": [
    "# imports\n",
    "import pandas as pd\n",
    "\n",
    "import numpy as np\n",
    "from sklearn.pipeline import Pipeline\n",
    "\n",
    "from src.utils import utils\n",
    "from src.data_processing import preprocessing as prep\n",
    "import logging\n",
    "\n",
    "%load_ext autoreload\n",
    "%autoreload 2"
   ]
  },
  {
   "cell_type": "markdown",
   "metadata": {},
   "source": [
    "# Read Data"
   ]
  },
  {
   "cell_type": "code",
   "execution_count": 2,
   "metadata": {},
   "outputs": [
    {
     "data": {
      "text/html": [
       "<div>\n",
       "<style scoped>\n",
       "    .dataframe tbody tr th:only-of-type {\n",
       "        vertical-align: middle;\n",
       "    }\n",
       "\n",
       "    .dataframe tbody tr th {\n",
       "        vertical-align: top;\n",
       "    }\n",
       "\n",
       "    .dataframe thead th {\n",
       "        text-align: right;\n",
       "    }\n",
       "</style>\n",
       "<table border=\"1\" class=\"dataframe\">\n",
       "  <thead>\n",
       "    <tr style=\"text-align: right;\">\n",
       "      <th></th>\n",
       "      <th>year</th>\n",
       "      <th>industry</th>\n",
       "      <th>symbol</th>\n",
       "      <th>currentRatio</th>\n",
       "      <th>currentRatio_percentage_change</th>\n",
       "      <th>quickRatio</th>\n",
       "      <th>quickRatio_percentage_change</th>\n",
       "      <th>cashRatio</th>\n",
       "      <th>cashRatio_percentage_change</th>\n",
       "      <th>daysOfSalesOutstanding</th>\n",
       "      <th>...</th>\n",
       "      <th>dividendYield_percentage_change</th>\n",
       "      <th>enterpriseValueMultiple</th>\n",
       "      <th>enterpriseValueMultiple_percentage_change</th>\n",
       "      <th>priceFairValue</th>\n",
       "      <th>priceFairValue_percentage_change</th>\n",
       "      <th>interestRate</th>\n",
       "      <th>interestRate_percentage_change</th>\n",
       "      <th>adjDividend</th>\n",
       "      <th>dps_growth</th>\n",
       "      <th>dps_change_next_year</th>\n",
       "    </tr>\n",
       "  </thead>\n",
       "  <tbody>\n",
       "    <tr>\n",
       "      <th>0</th>\n",
       "      <td>2012</td>\n",
       "      <td>Conglomerates</td>\n",
       "      <td>MMM</td>\n",
       "      <td>2.198387</td>\n",
       "      <td>-2.275946</td>\n",
       "      <td>1.385806</td>\n",
       "      <td>-0.090461</td>\n",
       "      <td>0.465000</td>\n",
       "      <td>14.018251</td>\n",
       "      <td>49.567449</td>\n",
       "      <td>...</td>\n",
       "      <td>-5.500411</td>\n",
       "      <td>8.692139</td>\n",
       "      <td>5.900833</td>\n",
       "      <td>3.571431</td>\n",
       "      <td>-2.168468</td>\n",
       "      <td>0.14</td>\n",
       "      <td>40.000000</td>\n",
       "      <td>2.36</td>\n",
       "      <td>7.272727</td>\n",
       "      <td>2.0</td>\n",
       "    </tr>\n",
       "    <tr>\n",
       "      <th>1</th>\n",
       "      <td>2013</td>\n",
       "      <td>Conglomerates</td>\n",
       "      <td>MMM</td>\n",
       "      <td>1.698186</td>\n",
       "      <td>-22.753086</td>\n",
       "      <td>1.012270</td>\n",
       "      <td>-26.954450</td>\n",
       "      <td>0.344225</td>\n",
       "      <td>-25.973091</td>\n",
       "      <td>50.284895</td>\n",
       "      <td>...</td>\n",
       "      <td>-28.717392</td>\n",
       "      <td>12.326051</td>\n",
       "      <td>41.806877</td>\n",
       "      <td>5.328531</td>\n",
       "      <td>49.198768</td>\n",
       "      <td>0.11</td>\n",
       "      <td>-21.428571</td>\n",
       "      <td>2.54</td>\n",
       "      <td>7.627119</td>\n",
       "      <td>2.0</td>\n",
       "    </tr>\n",
       "    <tr>\n",
       "      <th>2</th>\n",
       "      <td>2014</td>\n",
       "      <td>Conglomerates</td>\n",
       "      <td>MMM</td>\n",
       "      <td>1.961487</td>\n",
       "      <td>15.504836</td>\n",
       "      <td>1.127209</td>\n",
       "      <td>11.354593</td>\n",
       "      <td>0.316272</td>\n",
       "      <td>-8.120568</td>\n",
       "      <td>48.611609</td>\n",
       "      <td>...</td>\n",
       "      <td>14.836058</td>\n",
       "      <td>13.065263</td>\n",
       "      <td>5.997151</td>\n",
       "      <td>8.117223</td>\n",
       "      <td>52.335098</td>\n",
       "      <td>0.09</td>\n",
       "      <td>-18.181818</td>\n",
       "      <td>3.42</td>\n",
       "      <td>34.645669</td>\n",
       "      <td>2.0</td>\n",
       "    </tr>\n",
       "    <tr>\n",
       "      <th>3</th>\n",
       "      <td>2015</td>\n",
       "      <td>Conglomerates</td>\n",
       "      <td>MMM</td>\n",
       "      <td>1.543411</td>\n",
       "      <td>-21.314241</td>\n",
       "      <td>0.852768</td>\n",
       "      <td>-24.346986</td>\n",
       "      <td>0.252599</td>\n",
       "      <td>-20.132363</td>\n",
       "      <td>50.082909</td>\n",
       "      <td>...</td>\n",
       "      <td>30.819267</td>\n",
       "      <td>12.318266</td>\n",
       "      <td>-5.717433</td>\n",
       "      <td>8.022507</td>\n",
       "      <td>-1.166858</td>\n",
       "      <td>0.13</td>\n",
       "      <td>44.444444</td>\n",
       "      <td>4.10</td>\n",
       "      <td>19.883041</td>\n",
       "      <td>2.0</td>\n",
       "    </tr>\n",
       "    <tr>\n",
       "      <th>4</th>\n",
       "      <td>2016</td>\n",
       "      <td>Conglomerates</td>\n",
       "      <td>MMM</td>\n",
       "      <td>1.885512</td>\n",
       "      <td>22.165260</td>\n",
       "      <td>1.136839</td>\n",
       "      <td>33.311664</td>\n",
       "      <td>0.385593</td>\n",
       "      <td>52.650039</td>\n",
       "      <td>53.242552</td>\n",
       "      <td>...</td>\n",
       "      <td>-8.738086</td>\n",
       "      <td>13.479738</td>\n",
       "      <td>9.428861</td>\n",
       "      <td>10.440035</td>\n",
       "      <td>30.134325</td>\n",
       "      <td>0.40</td>\n",
       "      <td>207.692308</td>\n",
       "      <td>4.44</td>\n",
       "      <td>8.292683</td>\n",
       "      <td>2.0</td>\n",
       "    </tr>\n",
       "  </tbody>\n",
       "</table>\n",
       "<p>5 rows × 116 columns</p>\n",
       "</div>"
      ],
      "text/plain": [
       "   year       industry symbol  currentRatio  currentRatio_percentage_change  \\\n",
       "0  2012  Conglomerates    MMM      2.198387                       -2.275946   \n",
       "1  2013  Conglomerates    MMM      1.698186                      -22.753086   \n",
       "2  2014  Conglomerates    MMM      1.961487                       15.504836   \n",
       "3  2015  Conglomerates    MMM      1.543411                      -21.314241   \n",
       "4  2016  Conglomerates    MMM      1.885512                       22.165260   \n",
       "\n",
       "   quickRatio  quickRatio_percentage_change  cashRatio  \\\n",
       "0    1.385806                     -0.090461   0.465000   \n",
       "1    1.012270                    -26.954450   0.344225   \n",
       "2    1.127209                     11.354593   0.316272   \n",
       "3    0.852768                    -24.346986   0.252599   \n",
       "4    1.136839                     33.311664   0.385593   \n",
       "\n",
       "   cashRatio_percentage_change  daysOfSalesOutstanding  ...  \\\n",
       "0                    14.018251               49.567449  ...   \n",
       "1                   -25.973091               50.284895  ...   \n",
       "2                    -8.120568               48.611609  ...   \n",
       "3                   -20.132363               50.082909  ...   \n",
       "4                    52.650039               53.242552  ...   \n",
       "\n",
       "   dividendYield_percentage_change  enterpriseValueMultiple  \\\n",
       "0                        -5.500411                 8.692139   \n",
       "1                       -28.717392                12.326051   \n",
       "2                        14.836058                13.065263   \n",
       "3                        30.819267                12.318266   \n",
       "4                        -8.738086                13.479738   \n",
       "\n",
       "   enterpriseValueMultiple_percentage_change  priceFairValue  \\\n",
       "0                                   5.900833        3.571431   \n",
       "1                                  41.806877        5.328531   \n",
       "2                                   5.997151        8.117223   \n",
       "3                                  -5.717433        8.022507   \n",
       "4                                   9.428861       10.440035   \n",
       "\n",
       "   priceFairValue_percentage_change  interestRate  \\\n",
       "0                         -2.168468          0.14   \n",
       "1                         49.198768          0.11   \n",
       "2                         52.335098          0.09   \n",
       "3                         -1.166858          0.13   \n",
       "4                         30.134325          0.40   \n",
       "\n",
       "   interestRate_percentage_change  adjDividend  dps_growth  \\\n",
       "0                       40.000000         2.36    7.272727   \n",
       "1                      -21.428571         2.54    7.627119   \n",
       "2                      -18.181818         3.42   34.645669   \n",
       "3                       44.444444         4.10   19.883041   \n",
       "4                      207.692308         4.44    8.292683   \n",
       "\n",
       "   dps_change_next_year  \n",
       "0                   2.0  \n",
       "1                   2.0  \n",
       "2                   2.0  \n",
       "3                   2.0  \n",
       "4                   2.0  \n",
       "\n",
       "[5 rows x 116 columns]"
      ]
     },
     "execution_count": 2,
     "metadata": {},
     "output_type": "execute_result"
    }
   ],
   "source": [
    "root_dir = utils.get_proj_root()\n",
    "raw_data =  pd.read_csv(root_dir.joinpath('data/raw/Stock_data.csv'))\n",
    "raw_data.head()"
   ]
  },
  {
   "cell_type": "code",
   "execution_count": 3,
   "metadata": {},
   "outputs": [
    {
     "data": {
      "text/html": [
       "<div>\n",
       "<style scoped>\n",
       "    .dataframe tbody tr th:only-of-type {\n",
       "        vertical-align: middle;\n",
       "    }\n",
       "\n",
       "    .dataframe tbody tr th {\n",
       "        vertical-align: top;\n",
       "    }\n",
       "\n",
       "    .dataframe thead th {\n",
       "        text-align: right;\n",
       "    }\n",
       "</style>\n",
       "<table border=\"1\" class=\"dataframe\">\n",
       "  <thead>\n",
       "    <tr style=\"text-align: right;\">\n",
       "      <th></th>\n",
       "      <th>year</th>\n",
       "      <th>currentRatio</th>\n",
       "      <th>currentRatio_percentage_change</th>\n",
       "      <th>quickRatio</th>\n",
       "      <th>quickRatio_percentage_change</th>\n",
       "      <th>cashRatio</th>\n",
       "      <th>cashRatio_percentage_change</th>\n",
       "      <th>daysOfSalesOutstanding</th>\n",
       "      <th>daysOfSalesOutstanding_percentage_change</th>\n",
       "      <th>daysOfInventoryOutstanding</th>\n",
       "      <th>...</th>\n",
       "      <th>dividendYield_percentage_change</th>\n",
       "      <th>enterpriseValueMultiple</th>\n",
       "      <th>enterpriseValueMultiple_percentage_change</th>\n",
       "      <th>priceFairValue</th>\n",
       "      <th>priceFairValue_percentage_change</th>\n",
       "      <th>interestRate</th>\n",
       "      <th>interestRate_percentage_change</th>\n",
       "      <th>adjDividend</th>\n",
       "      <th>dps_growth</th>\n",
       "      <th>dps_change_next_year</th>\n",
       "    </tr>\n",
       "  </thead>\n",
       "  <tbody>\n",
       "    <tr>\n",
       "      <th>count</th>\n",
       "      <td>4790.000000</td>\n",
       "      <td>4790.000000</td>\n",
       "      <td>4.790000e+03</td>\n",
       "      <td>4790.000000</td>\n",
       "      <td>4.790000e+03</td>\n",
       "      <td>4790.000000</td>\n",
       "      <td>4.790000e+03</td>\n",
       "      <td>4790.000000</td>\n",
       "      <td>4790.000000</td>\n",
       "      <td>4790.000000</td>\n",
       "      <td>...</td>\n",
       "      <td>4790.000000</td>\n",
       "      <td>4790.000000</td>\n",
       "      <td>4790.000000</td>\n",
       "      <td>4790.000000</td>\n",
       "      <td>4790.000000</td>\n",
       "      <td>4790.00000</td>\n",
       "      <td>4790.000000</td>\n",
       "      <td>4625.000000</td>\n",
       "      <td>4567.000000</td>\n",
       "      <td>4625.000000</td>\n",
       "    </tr>\n",
       "    <tr>\n",
       "      <th>mean</th>\n",
       "      <td>2016.500000</td>\n",
       "      <td>115.975409</td>\n",
       "      <td>1.203382e+04</td>\n",
       "      <td>47.013960</td>\n",
       "      <td>4.761163e+02</td>\n",
       "      <td>20.834161</td>\n",
       "      <td>5.842458e+02</td>\n",
       "      <td>82.152941</td>\n",
       "      <td>11.846910</td>\n",
       "      <td>19.926891</td>\n",
       "      <td>...</td>\n",
       "      <td>115.454267</td>\n",
       "      <td>16.115372</td>\n",
       "      <td>12.808659</td>\n",
       "      <td>4.049913</td>\n",
       "      <td>15.130181</td>\n",
       "      <td>0.63200</td>\n",
       "      <td>34.220437</td>\n",
       "      <td>1.507595</td>\n",
       "      <td>22.613096</td>\n",
       "      <td>1.414486</td>\n",
       "    </tr>\n",
       "    <tr>\n",
       "      <th>std</th>\n",
       "      <td>2.872581</td>\n",
       "      <td>4015.352605</td>\n",
       "      <td>6.211128e+05</td>\n",
       "      <td>1271.940109</td>\n",
       "      <td>1.905813e+04</td>\n",
       "      <td>670.792298</td>\n",
       "      <td>1.954470e+04</td>\n",
       "      <td>197.655285</td>\n",
       "      <td>187.975607</td>\n",
       "      <td>8663.814781</td>\n",
       "      <td>...</td>\n",
       "      <td>2637.442157</td>\n",
       "      <td>236.081319</td>\n",
       "      <td>1104.111410</td>\n",
       "      <td>62.434934</td>\n",
       "      <td>805.823460</td>\n",
       "      <td>0.73409</td>\n",
       "      <td>88.625633</td>\n",
       "      <td>2.486802</td>\n",
       "      <td>191.156100</td>\n",
       "      <td>0.877244</td>\n",
       "    </tr>\n",
       "    <tr>\n",
       "      <th>min</th>\n",
       "      <td>2012.000000</td>\n",
       "      <td>0.000000</td>\n",
       "      <td>-1.000000e+02</td>\n",
       "      <td>-1.480985</td>\n",
       "      <td>-6.944514e+02</td>\n",
       "      <td>0.000000</td>\n",
       "      <td>-1.000000e+02</td>\n",
       "      <td>-79.409628</td>\n",
       "      <td>-424.232944</td>\n",
       "      <td>-584907.567568</td>\n",
       "      <td>...</td>\n",
       "      <td>-100.000000</td>\n",
       "      <td>-8607.583336</td>\n",
       "      <td>-63039.175197</td>\n",
       "      <td>-1698.564205</td>\n",
       "      <td>-31192.181942</td>\n",
       "      <td>0.08000</td>\n",
       "      <td>-82.407407</td>\n",
       "      <td>0.000000</td>\n",
       "      <td>-100.000000</td>\n",
       "      <td>0.000000</td>\n",
       "    </tr>\n",
       "    <tr>\n",
       "      <th>25%</th>\n",
       "      <td>2014.000000</td>\n",
       "      <td>0.995836</td>\n",
       "      <td>-1.373288e+01</td>\n",
       "      <td>0.584890</td>\n",
       "      <td>-1.736940e+01</td>\n",
       "      <td>0.129800</td>\n",
       "      <td>-2.938055e+01</td>\n",
       "      <td>33.489167</td>\n",
       "      <td>-6.904695</td>\n",
       "      <td>3.152653</td>\n",
       "      <td>...</td>\n",
       "      <td>-14.721281</td>\n",
       "      <td>9.266166</td>\n",
       "      <td>-11.395042</td>\n",
       "      <td>1.761681</td>\n",
       "      <td>-10.050483</td>\n",
       "      <td>0.11000</td>\n",
       "      <td>-21.428571</td>\n",
       "      <td>0.260000</td>\n",
       "      <td>0.000000</td>\n",
       "      <td>0.000000</td>\n",
       "    </tr>\n",
       "    <tr>\n",
       "      <th>50%</th>\n",
       "      <td>2016.500000</td>\n",
       "      <td>1.449722</td>\n",
       "      <td>-9.821253e-01</td>\n",
       "      <td>0.997410</td>\n",
       "      <td>-1.349011e+00</td>\n",
       "      <td>0.341109</td>\n",
       "      <td>-6.881043e-01</td>\n",
       "      <td>53.137646</td>\n",
       "      <td>0.397062</td>\n",
       "      <td>40.316103</td>\n",
       "      <td>...</td>\n",
       "      <td>0.000000</td>\n",
       "      <td>12.954092</td>\n",
       "      <td>4.433934</td>\n",
       "      <td>3.163905</td>\n",
       "      <td>7.590405</td>\n",
       "      <td>0.26000</td>\n",
       "      <td>29.016393</td>\n",
       "      <td>1.080000</td>\n",
       "      <td>6.361323</td>\n",
       "      <td>2.000000</td>\n",
       "    </tr>\n",
       "    <tr>\n",
       "      <th>75%</th>\n",
       "      <td>2019.000000</td>\n",
       "      <td>2.331802</td>\n",
       "      <td>1.364322e+01</td>\n",
       "      <td>1.682155</td>\n",
       "      <td>1.709117e+01</td>\n",
       "      <td>0.757941</td>\n",
       "      <td>3.631823e+01</td>\n",
       "      <td>72.332846</td>\n",
       "      <td>8.991844</td>\n",
       "      <td>83.114873</td>\n",
       "      <td>...</td>\n",
       "      <td>14.658464</td>\n",
       "      <td>18.301095</td>\n",
       "      <td>22.565907</td>\n",
       "      <td>5.942402</td>\n",
       "      <td>25.866923</td>\n",
       "      <td>1.00000</td>\n",
       "      <td>83.000000</td>\n",
       "      <td>2.050000</td>\n",
       "      <td>14.641914</td>\n",
       "      <td>2.000000</td>\n",
       "    </tr>\n",
       "    <tr>\n",
       "      <th>max</th>\n",
       "      <td>2021.000000</td>\n",
       "      <td>207015.259574</td>\n",
       "      <td>4.246034e+07</td>\n",
       "      <td>63793.868085</td>\n",
       "      <td>1.257160e+06</td>\n",
       "      <td>33633.564748</td>\n",
       "      <td>1.257160e+06</td>\n",
       "      <td>5417.763945</td>\n",
       "      <td>11106.159855</td>\n",
       "      <td>68880.951016</td>\n",
       "      <td>...</td>\n",
       "      <td>136183.666595</td>\n",
       "      <td>10737.077141</td>\n",
       "      <td>31215.695305</td>\n",
       "      <td>1300.629474</td>\n",
       "      <td>44949.670649</td>\n",
       "      <td>2.16000</td>\n",
       "      <td>207.692308</td>\n",
       "      <td>104.480000</td>\n",
       "      <td>9900.000000</td>\n",
       "      <td>2.000000</td>\n",
       "    </tr>\n",
       "  </tbody>\n",
       "</table>\n",
       "<p>8 rows × 114 columns</p>\n",
       "</div>"
      ],
      "text/plain": [
       "              year   currentRatio  currentRatio_percentage_change  \\\n",
       "count  4790.000000    4790.000000                    4.790000e+03   \n",
       "mean   2016.500000     115.975409                    1.203382e+04   \n",
       "std       2.872581    4015.352605                    6.211128e+05   \n",
       "min    2012.000000       0.000000                   -1.000000e+02   \n",
       "25%    2014.000000       0.995836                   -1.373288e+01   \n",
       "50%    2016.500000       1.449722                   -9.821253e-01   \n",
       "75%    2019.000000       2.331802                    1.364322e+01   \n",
       "max    2021.000000  207015.259574                    4.246034e+07   \n",
       "\n",
       "         quickRatio  quickRatio_percentage_change     cashRatio  \\\n",
       "count   4790.000000                  4.790000e+03   4790.000000   \n",
       "mean      47.013960                  4.761163e+02     20.834161   \n",
       "std     1271.940109                  1.905813e+04    670.792298   \n",
       "min       -1.480985                 -6.944514e+02      0.000000   \n",
       "25%        0.584890                 -1.736940e+01      0.129800   \n",
       "50%        0.997410                 -1.349011e+00      0.341109   \n",
       "75%        1.682155                  1.709117e+01      0.757941   \n",
       "max    63793.868085                  1.257160e+06  33633.564748   \n",
       "\n",
       "       cashRatio_percentage_change  daysOfSalesOutstanding  \\\n",
       "count                 4.790000e+03             4790.000000   \n",
       "mean                  5.842458e+02               82.152941   \n",
       "std                   1.954470e+04              197.655285   \n",
       "min                  -1.000000e+02              -79.409628   \n",
       "25%                  -2.938055e+01               33.489167   \n",
       "50%                  -6.881043e-01               53.137646   \n",
       "75%                   3.631823e+01               72.332846   \n",
       "max                   1.257160e+06             5417.763945   \n",
       "\n",
       "       daysOfSalesOutstanding_percentage_change  daysOfInventoryOutstanding  \\\n",
       "count                               4790.000000                 4790.000000   \n",
       "mean                                  11.846910                   19.926891   \n",
       "std                                  187.975607                 8663.814781   \n",
       "min                                 -424.232944              -584907.567568   \n",
       "25%                                   -6.904695                    3.152653   \n",
       "50%                                    0.397062                   40.316103   \n",
       "75%                                    8.991844                   83.114873   \n",
       "max                                11106.159855                68880.951016   \n",
       "\n",
       "       ...  dividendYield_percentage_change  enterpriseValueMultiple  \\\n",
       "count  ...                      4790.000000              4790.000000   \n",
       "mean   ...                       115.454267                16.115372   \n",
       "std    ...                      2637.442157               236.081319   \n",
       "min    ...                      -100.000000             -8607.583336   \n",
       "25%    ...                       -14.721281                 9.266166   \n",
       "50%    ...                         0.000000                12.954092   \n",
       "75%    ...                        14.658464                18.301095   \n",
       "max    ...                    136183.666595             10737.077141   \n",
       "\n",
       "       enterpriseValueMultiple_percentage_change  priceFairValue  \\\n",
       "count                                4790.000000     4790.000000   \n",
       "mean                                   12.808659        4.049913   \n",
       "std                                  1104.111410       62.434934   \n",
       "min                                -63039.175197    -1698.564205   \n",
       "25%                                   -11.395042        1.761681   \n",
       "50%                                     4.433934        3.163905   \n",
       "75%                                    22.565907        5.942402   \n",
       "max                                 31215.695305     1300.629474   \n",
       "\n",
       "       priceFairValue_percentage_change  interestRate  \\\n",
       "count                       4790.000000    4790.00000   \n",
       "mean                          15.130181       0.63200   \n",
       "std                          805.823460       0.73409   \n",
       "min                       -31192.181942       0.08000   \n",
       "25%                          -10.050483       0.11000   \n",
       "50%                            7.590405       0.26000   \n",
       "75%                           25.866923       1.00000   \n",
       "max                        44949.670649       2.16000   \n",
       "\n",
       "       interestRate_percentage_change  adjDividend   dps_growth  \\\n",
       "count                     4790.000000  4625.000000  4567.000000   \n",
       "mean                        34.220437     1.507595    22.613096   \n",
       "std                         88.625633     2.486802   191.156100   \n",
       "min                        -82.407407     0.000000  -100.000000   \n",
       "25%                        -21.428571     0.260000     0.000000   \n",
       "50%                         29.016393     1.080000     6.361323   \n",
       "75%                         83.000000     2.050000    14.641914   \n",
       "max                        207.692308   104.480000  9900.000000   \n",
       "\n",
       "       dps_change_next_year  \n",
       "count           4625.000000  \n",
       "mean               1.414486  \n",
       "std                0.877244  \n",
       "min                0.000000  \n",
       "25%                0.000000  \n",
       "50%                2.000000  \n",
       "75%                2.000000  \n",
       "max                2.000000  \n",
       "\n",
       "[8 rows x 114 columns]"
      ]
     },
     "execution_count": 3,
     "metadata": {},
     "output_type": "execute_result"
    }
   ],
   "source": [
    "raw_data.describe()"
   ]
  },
  {
   "cell_type": "markdown",
   "metadata": {},
   "source": [
    "# Initial Cleaning"
   ]
  },
  {
   "cell_type": "code",
   "execution_count": 4,
   "metadata": {},
   "outputs": [
    {
     "data": {
      "text/plain": [
       "year                                0\n",
       "industry                            0\n",
       "symbol                              0\n",
       "currentRatio                        0\n",
       "currentRatio_percentage_change      0\n",
       "                                 ... \n",
       "interestRate                        0\n",
       "interestRate_percentage_change      0\n",
       "adjDividend                       165\n",
       "dps_growth                        223\n",
       "dps_change_next_year              165\n",
       "Length: 116, dtype: int64"
      ]
     },
     "execution_count": 4,
     "metadata": {},
     "output_type": "execute_result"
    }
   ],
   "source": [
    "raw_data.isna().sum()"
   ]
  },
  {
   "cell_type": "markdown",
   "metadata": {},
   "source": [
    "## steps\n",
    "- remove rows with NA in label columns\n",
    "- remove higly orrelated variables\n",
    "- "
   ]
  },
  {
   "cell_type": "code",
   "execution_count": 9,
   "metadata": {},
   "outputs": [
    {
     "name": "stderr",
     "output_type": "stream",
     "text": [
      "2023-10-27 18:04:15,778 - INFO - NARoWRemover  - dropped 165 rows with NA in columns: dps_change_next_year\n"
     ]
    },
    {
     "name": "stderr",
     "output_type": "stream",
     "text": [
      "2023-10-27 18:04:15,912 - INFO - CollinearColsRemover  - dropped 26 cols\n",
      "2023-10-27 18:04:15,920 - INFO - NARoWRemover  - dropped 165 rows with NA in columns: dps_change_next_year\n",
      "2023-10-27 18:04:15,922 - INFO - CollinearColsRemover  - dropped 26 cols\n",
      "2023-10-27 18:04:15,930 - INFO - ColumnsOrdinalEncoder  - transformed categorical colums:['industry', 'symbol']\n",
      "2023-10-27 18:04:15,932 - INFO - BinarizeCol  - bianrized dps_change_next_year\n"
     ]
    }
   ],
   "source": [
    "log_fmt = '%(asctime)s - %(levelname)s - %(name)s  - %(message)s'\n",
    "logging.basicConfig(level=logging.INFO, format=log_fmt)\n",
    "\n",
    "label_col_name = 'dps_change_next_year'\n",
    "collinear_thresh = 0.98\n",
    "categorical_features = ['industry', 'symbol']\n",
    "\n",
    "transform_pipeline = Pipeline([\n",
    "    ('drop_rows_with_NA_in_label', prep.NARoWRemover(cols_to_check=label_col_name)),\n",
    "    ('drop_collinear_columns', prep.CollinearColsRemover(thresh=collinear_thresh, label_col=label_col_name)),\n",
    "    ('cat_to_ordinal_cols', prep.ColumnsOrdinalEncoder(col_names=categorical_features, convert_to_int=True)),\n",
    "    ('binarize label column', prep.BinarizeCol(col_name=label_col_name, true_val=1))\n",
    "])\n",
    "\n",
    "transform_pipeline.fit(raw_data)\n",
    "result = transform_pipeline.transform(raw_data)\n",
    "# print(result.shape), print(raw_data.shape)\n",
    "# result.head()"
   ]
  },
  {
   "cell_type": "code",
   "execution_count": 12,
   "metadata": {},
   "outputs": [
    {
     "data": {
      "text/html": [
       "<style>#sk-container-id-1 {color: black;}#sk-container-id-1 pre{padding: 0;}#sk-container-id-1 div.sk-toggleable {background-color: white;}#sk-container-id-1 label.sk-toggleable__label {cursor: pointer;display: block;width: 100%;margin-bottom: 0;padding: 0.3em;box-sizing: border-box;text-align: center;}#sk-container-id-1 label.sk-toggleable__label-arrow:before {content: \"▸\";float: left;margin-right: 0.25em;color: #696969;}#sk-container-id-1 label.sk-toggleable__label-arrow:hover:before {color: black;}#sk-container-id-1 div.sk-estimator:hover label.sk-toggleable__label-arrow:before {color: black;}#sk-container-id-1 div.sk-toggleable__content {max-height: 0;max-width: 0;overflow: hidden;text-align: left;background-color: #f0f8ff;}#sk-container-id-1 div.sk-toggleable__content pre {margin: 0.2em;color: black;border-radius: 0.25em;background-color: #f0f8ff;}#sk-container-id-1 input.sk-toggleable__control:checked~div.sk-toggleable__content {max-height: 200px;max-width: 100%;overflow: auto;}#sk-container-id-1 input.sk-toggleable__control:checked~label.sk-toggleable__label-arrow:before {content: \"▾\";}#sk-container-id-1 div.sk-estimator input.sk-toggleable__control:checked~label.sk-toggleable__label {background-color: #d4ebff;}#sk-container-id-1 div.sk-label input.sk-toggleable__control:checked~label.sk-toggleable__label {background-color: #d4ebff;}#sk-container-id-1 input.sk-hidden--visually {border: 0;clip: rect(1px 1px 1px 1px);clip: rect(1px, 1px, 1px, 1px);height: 1px;margin: -1px;overflow: hidden;padding: 0;position: absolute;width: 1px;}#sk-container-id-1 div.sk-estimator {font-family: monospace;background-color: #f0f8ff;border: 1px dotted black;border-radius: 0.25em;box-sizing: border-box;margin-bottom: 0.5em;}#sk-container-id-1 div.sk-estimator:hover {background-color: #d4ebff;}#sk-container-id-1 div.sk-parallel-item::after {content: \"\";width: 100%;border-bottom: 1px solid gray;flex-grow: 1;}#sk-container-id-1 div.sk-label:hover label.sk-toggleable__label {background-color: #d4ebff;}#sk-container-id-1 div.sk-serial::before {content: \"\";position: absolute;border-left: 1px solid gray;box-sizing: border-box;top: 0;bottom: 0;left: 50%;z-index: 0;}#sk-container-id-1 div.sk-serial {display: flex;flex-direction: column;align-items: center;background-color: white;padding-right: 0.2em;padding-left: 0.2em;position: relative;}#sk-container-id-1 div.sk-item {position: relative;z-index: 1;}#sk-container-id-1 div.sk-parallel {display: flex;align-items: stretch;justify-content: center;background-color: white;position: relative;}#sk-container-id-1 div.sk-item::before, #sk-container-id-1 div.sk-parallel-item::before {content: \"\";position: absolute;border-left: 1px solid gray;box-sizing: border-box;top: 0;bottom: 0;left: 50%;z-index: -1;}#sk-container-id-1 div.sk-parallel-item {display: flex;flex-direction: column;z-index: 1;position: relative;background-color: white;}#sk-container-id-1 div.sk-parallel-item:first-child::after {align-self: flex-end;width: 50%;}#sk-container-id-1 div.sk-parallel-item:last-child::after {align-self: flex-start;width: 50%;}#sk-container-id-1 div.sk-parallel-item:only-child::after {width: 0;}#sk-container-id-1 div.sk-dashed-wrapped {border: 1px dashed gray;margin: 0 0.4em 0.5em 0.4em;box-sizing: border-box;padding-bottom: 0.4em;background-color: white;}#sk-container-id-1 div.sk-label label {font-family: monospace;font-weight: bold;display: inline-block;line-height: 1.2em;}#sk-container-id-1 div.sk-label-container {text-align: center;}#sk-container-id-1 div.sk-container {/* jupyter's `normalize.less` sets `[hidden] { display: none; }` but bootstrap.min.css set `[hidden] { display: none !important; }` so we also need the `!important` here to be able to override the default hidden behavior on the sphinx rendered scikit-learn.org. See: https://github.com/scikit-learn/scikit-learn/issues/21755 */display: inline-block !important;position: relative;}#sk-container-id-1 div.sk-text-repr-fallback {display: none;}</style><div id=\"sk-container-id-1\" class=\"sk-top-container\"><div class=\"sk-text-repr-fallback\"><pre>Pipeline(steps=[(&#x27;drop_rows_with_NA_in_label&#x27;,\n",
       "                 NARoWRemover(cols_to_check=&#x27;dps_change_next_year&#x27;, how=&#x27;all&#x27;)),\n",
       "                (&#x27;drop_collinear_columns&#x27;,\n",
       "                 CollinearColsRemover(label_col=&#x27;dps_change_next_year&#x27;,\n",
       "                                      thresh=0.98)),\n",
       "                (&#x27;cat_to_ordinal_cols&#x27;,\n",
       "                 ColumnsOrdinalEncoder(col_names=[&#x27;industry&#x27;, &#x27;symbol&#x27;])),\n",
       "                (&#x27;binarize label column&#x27;,\n",
       "                 BinarizeCol(col_name=&#x27;dps_change_next_year&#x27;, true_val=1))])</pre><b>In a Jupyter environment, please rerun this cell to show the HTML representation or trust the notebook. <br />On GitHub, the HTML representation is unable to render, please try loading this page with nbviewer.org.</b></div><div class=\"sk-container\" hidden><div class=\"sk-item sk-dashed-wrapped\"><div class=\"sk-label-container\"><div class=\"sk-label sk-toggleable\"><input class=\"sk-toggleable__control sk-hidden--visually\" id=\"sk-estimator-id-1\" type=\"checkbox\" ><label for=\"sk-estimator-id-1\" class=\"sk-toggleable__label sk-toggleable__label-arrow\">Pipeline</label><div class=\"sk-toggleable__content\"><pre>Pipeline(steps=[(&#x27;drop_rows_with_NA_in_label&#x27;,\n",
       "                 NARoWRemover(cols_to_check=&#x27;dps_change_next_year&#x27;, how=&#x27;all&#x27;)),\n",
       "                (&#x27;drop_collinear_columns&#x27;,\n",
       "                 CollinearColsRemover(label_col=&#x27;dps_change_next_year&#x27;,\n",
       "                                      thresh=0.98)),\n",
       "                (&#x27;cat_to_ordinal_cols&#x27;,\n",
       "                 ColumnsOrdinalEncoder(col_names=[&#x27;industry&#x27;, &#x27;symbol&#x27;])),\n",
       "                (&#x27;binarize label column&#x27;,\n",
       "                 BinarizeCol(col_name=&#x27;dps_change_next_year&#x27;, true_val=1))])</pre></div></div></div><div class=\"sk-serial\"><div class=\"sk-item\"><div class=\"sk-estimator sk-toggleable\"><input class=\"sk-toggleable__control sk-hidden--visually\" id=\"sk-estimator-id-2\" type=\"checkbox\" ><label for=\"sk-estimator-id-2\" class=\"sk-toggleable__label sk-toggleable__label-arrow\">NARoWRemover</label><div class=\"sk-toggleable__content\"><pre>NARoWRemover(cols_to_check=&#x27;dps_change_next_year&#x27;, how=&#x27;all&#x27;)</pre></div></div></div><div class=\"sk-item\"><div class=\"sk-estimator sk-toggleable\"><input class=\"sk-toggleable__control sk-hidden--visually\" id=\"sk-estimator-id-3\" type=\"checkbox\" ><label for=\"sk-estimator-id-3\" class=\"sk-toggleable__label sk-toggleable__label-arrow\">CollinearColsRemover</label><div class=\"sk-toggleable__content\"><pre>CollinearColsRemover(label_col=&#x27;dps_change_next_year&#x27;, thresh=0.98)</pre></div></div></div><div class=\"sk-item sk-dashed-wrapped\"><div class=\"sk-label-container\"><div class=\"sk-label sk-toggleable\"><input class=\"sk-toggleable__control sk-hidden--visually\" id=\"sk-estimator-id-4\" type=\"checkbox\" ><label for=\"sk-estimator-id-4\" class=\"sk-toggleable__label sk-toggleable__label-arrow\">cat_to_ordinal_cols: ColumnsOrdinalEncoder</label><div class=\"sk-toggleable__content\"><pre>ColumnsOrdinalEncoder(col_names=[&#x27;industry&#x27;, &#x27;symbol&#x27;])</pre></div></div></div><div class=\"sk-parallel\"><div class=\"sk-parallel-item\"><div class=\"sk-item\"><div class=\"sk-label-container\"><div class=\"sk-label sk-toggleable\"><input class=\"sk-toggleable__control sk-hidden--visually\" id=\"sk-estimator-id-5\" type=\"checkbox\" ><label for=\"sk-estimator-id-5\" class=\"sk-toggleable__label sk-toggleable__label-arrow\">categorical_encoding</label><div class=\"sk-toggleable__content\"><pre>[&#x27;industry&#x27;, &#x27;symbol&#x27;]</pre></div></div></div><div class=\"sk-serial\"><div class=\"sk-item\"><div class=\"sk-estimator sk-toggleable\"><input class=\"sk-toggleable__control sk-hidden--visually\" id=\"sk-estimator-id-6\" type=\"checkbox\" ><label for=\"sk-estimator-id-6\" class=\"sk-toggleable__label sk-toggleable__label-arrow\">OrdinalEncoder</label><div class=\"sk-toggleable__content\"><pre>OrdinalEncoder(handle_unknown=&#x27;use_encoded_value&#x27;, unknown_value=-1)</pre></div></div></div></div></div></div><div class=\"sk-parallel-item\"><div class=\"sk-item\"><div class=\"sk-label-container\"><div class=\"sk-label sk-toggleable\"><input class=\"sk-toggleable__control sk-hidden--visually\" id=\"sk-estimator-id-7\" type=\"checkbox\" ><label for=\"sk-estimator-id-7\" class=\"sk-toggleable__label sk-toggleable__label-arrow\">remainder</label><div class=\"sk-toggleable__content\"><pre>[&#x27;year&#x27;, &#x27;currentRatio&#x27;, &#x27;currentRatio_percentage_change&#x27;, &#x27;quickRatio&#x27;, &#x27;quickRatio_percentage_change&#x27;, &#x27;daysOfSalesOutstanding&#x27;, &#x27;daysOfSalesOutstanding_percentage_change&#x27;, &#x27;daysOfInventoryOutstanding&#x27;, &#x27;daysOfInventoryOutstanding_percentage_change&#x27;, &#x27;operatingCycle_percentage_change&#x27;, &#x27;daysOfPayablesOutstanding&#x27;, &#x27;grossProfitMargin&#x27;, &#x27;grossProfitMargin_percentage_change&#x27;, &#x27;operatingProfitMargin&#x27;, &#x27;operatingProfitMargin_percentage_change&#x27;, &#x27;pretaxProfitMargin&#x27;, &#x27;pretaxProfitMargin_percentage_change&#x27;, &#x27;netProfitMargin&#x27;, &#x27;netProfitMargin_percentage_change&#x27;, &#x27;effectiveTaxRate&#x27;, &#x27;effectiveTaxRate_percentage_change&#x27;, &#x27;returnOnAssets&#x27;, &#x27;returnOnAssets_percentage_change&#x27;, &#x27;returnOnEquity&#x27;, &#x27;returnOnEquity_percentage_change&#x27;, &#x27;returnOnCapitalEmployed&#x27;, &#x27;netIncomePerEBT&#x27;, &#x27;netIncomePerEBT_percentage_change&#x27;, &#x27;ebtPerEbit&#x27;, &#x27;ebtPerEbit_percentage_change&#x27;, &#x27;debtRatio&#x27;, &#x27;debtRatio_percentage_change&#x27;, &#x27;debtEquityRatio&#x27;, &#x27;longTermDebtToCapitalization&#x27;, &#x27;longTermDebtToCapitalization_percentage_change&#x27;, &#x27;totalDebtToCapitalization&#x27;, &#x27;interestCoverage&#x27;, &#x27;interestCoverage_percentage_change&#x27;, &#x27;cashFlowToDebtRatio&#x27;, &#x27;companyEquityMultiplier&#x27;, &#x27;companyEquityMultiplier_percentage_change&#x27;, &#x27;receivablesTurnover&#x27;, &#x27;receivablesTurnover_percentage_change&#x27;, &#x27;payablesTurnover&#x27;, &#x27;payablesTurnover_percentage_change&#x27;, &#x27;inventoryTurnover&#x27;, &#x27;inventoryTurnover_percentage_change&#x27;, &#x27;fixedAssetTurnover&#x27;, &#x27;fixedAssetTurnover_percentage_change&#x27;, &#x27;assetTurnover&#x27;, &#x27;assetTurnover_percentage_change&#x27;, &#x27;operatingCashFlowPerShare&#x27;, &#x27;operatingCashFlowPerShare_percentage_change&#x27;, &#x27;freeCashFlowPerShare&#x27;, &#x27;freeCashFlowPerShare_percentage_change&#x27;, &#x27;cashPerShare&#x27;, &#x27;cashPerShare_percentage_change&#x27;, &#x27;payoutRatio&#x27;, &#x27;payoutRatio_percentage_change&#x27;, &#x27;operatingCashFlowSalesRatio&#x27;, &#x27;freeCashFlowOperatingCashFlowRatio&#x27;, &#x27;freeCashFlowOperatingCashFlowRatio_percentage_change&#x27;, &#x27;shortTermCoverageRatios&#x27;, &#x27;shortTermCoverageRatios_percentage_change&#x27;, &#x27;capitalExpenditureCoverageRatio&#x27;, &#x27;capitalExpenditureCoverageRatio_percentage_change&#x27;, &#x27;dividendPaidAndCapexCoverageRatio&#x27;, &#x27;dividendPaidAndCapexCoverageRatio_percentage_change&#x27;, &#x27;priceBookValueRatio&#x27;, &#x27;priceToSalesRatio&#x27;, &#x27;priceToSalesRatio_percentage_change&#x27;, &#x27;priceEarningsRatio&#x27;, &#x27;priceEarningsRatio_percentage_change&#x27;, &#x27;priceToFreeCashFlowsRatio&#x27;, &#x27;priceToFreeCashFlowsRatio_percentage_change&#x27;, &#x27;priceToOperatingCashFlowsRatio&#x27;, &#x27;priceToOperatingCashFlowsRatio_percentage_change&#x27;, &#x27;priceEarningsToGrowthRatio&#x27;, &#x27;priceEarningsToGrowthRatio_percentage_change&#x27;, &#x27;dividendYield&#x27;, &#x27;dividendYield_percentage_change&#x27;, &#x27;enterpriseValueMultiple&#x27;, &#x27;enterpriseValueMultiple_percentage_change&#x27;, &#x27;interestRate&#x27;, &#x27;interestRate_percentage_change&#x27;, &#x27;adjDividend&#x27;, &#x27;dps_growth&#x27;, &#x27;dps_change_next_year&#x27;]</pre></div></div></div><div class=\"sk-serial\"><div class=\"sk-item\"><div class=\"sk-estimator sk-toggleable\"><input class=\"sk-toggleable__control sk-hidden--visually\" id=\"sk-estimator-id-8\" type=\"checkbox\" ><label for=\"sk-estimator-id-8\" class=\"sk-toggleable__label sk-toggleable__label-arrow\">passthrough</label><div class=\"sk-toggleable__content\"><pre>passthrough</pre></div></div></div></div></div></div></div></div><div class=\"sk-item\"><div class=\"sk-estimator sk-toggleable\"><input class=\"sk-toggleable__control sk-hidden--visually\" id=\"sk-estimator-id-9\" type=\"checkbox\" ><label for=\"sk-estimator-id-9\" class=\"sk-toggleable__label sk-toggleable__label-arrow\">BinarizeCol</label><div class=\"sk-toggleable__content\"><pre>BinarizeCol(col_name=&#x27;dps_change_next_year&#x27;, true_val=1)</pre></div></div></div></div></div></div></div>"
      ],
      "text/plain": [
       "Pipeline(steps=[('drop_rows_with_NA_in_label',\n",
       "                 NARoWRemover(cols_to_check='dps_change_next_year', how='all')),\n",
       "                ('drop_collinear_columns',\n",
       "                 CollinearColsRemover(label_col='dps_change_next_year',\n",
       "                                      thresh=0.98)),\n",
       "                ('cat_to_ordinal_cols',\n",
       "                 ColumnsOrdinalEncoder(col_names=['industry', 'symbol'])),\n",
       "                ('binarize label column',\n",
       "                 BinarizeCol(col_name='dps_change_next_year', true_val=1))])"
      ]
     },
     "execution_count": 12,
     "metadata": {},
     "output_type": "execute_result"
    }
   ],
   "source": [
    "transform_pipeline"
   ]
  },
  {
   "cell_type": "markdown",
   "metadata": {},
   "source": [
    "## data set imbalance"
   ]
  },
  {
   "cell_type": "code",
   "execution_count": 17,
   "metadata": {},
   "outputs": [
    {
     "data": {
      "text/html": [
       "<div>\n",
       "<style scoped>\n",
       "    .dataframe tbody tr th:only-of-type {\n",
       "        vertical-align: middle;\n",
       "    }\n",
       "\n",
       "    .dataframe tbody tr th {\n",
       "        vertical-align: top;\n",
       "    }\n",
       "\n",
       "    .dataframe thead th {\n",
       "        text-align: right;\n",
       "    }\n",
       "</style>\n",
       "<table border=\"1\" class=\"dataframe\">\n",
       "  <thead>\n",
       "    <tr style=\"text-align: right;\">\n",
       "      <th></th>\n",
       "      <th>year</th>\n",
       "      <th>industry</th>\n",
       "      <th>symbol</th>\n",
       "      <th>currentRatio</th>\n",
       "      <th>currentRatio_percentage_change</th>\n",
       "      <th>quickRatio</th>\n",
       "      <th>quickRatio_percentage_change</th>\n",
       "      <th>daysOfSalesOutstanding</th>\n",
       "      <th>daysOfSalesOutstanding_percentage_change</th>\n",
       "      <th>daysOfInventoryOutstanding</th>\n",
       "      <th>...</th>\n",
       "      <th>priceEarningsToGrowthRatio_percentage_change</th>\n",
       "      <th>dividendYield</th>\n",
       "      <th>dividendYield_percentage_change</th>\n",
       "      <th>enterpriseValueMultiple</th>\n",
       "      <th>enterpriseValueMultiple_percentage_change</th>\n",
       "      <th>interestRate</th>\n",
       "      <th>interestRate_percentage_change</th>\n",
       "      <th>adjDividend</th>\n",
       "      <th>dps_growth</th>\n",
       "      <th>dps_change_next_year</th>\n",
       "    </tr>\n",
       "  </thead>\n",
       "  <tbody>\n",
       "    <tr>\n",
       "      <th>0</th>\n",
       "      <td>2012</td>\n",
       "      <td>Conglomerates</td>\n",
       "      <td>MMM</td>\n",
       "      <td>2.198387</td>\n",
       "      <td>-2.275946</td>\n",
       "      <td>1.385806</td>\n",
       "      <td>-0.090461</td>\n",
       "      <td>49.567449</td>\n",
       "      <td>3.987852</td>\n",
       "      <td>89.289449</td>\n",
       "      <td>...</td>\n",
       "      <td>6.939145</td>\n",
       "      <td>0.025377</td>\n",
       "      <td>-5.500411</td>\n",
       "      <td>8.692139</td>\n",
       "      <td>5.900833</td>\n",
       "      <td>0.14</td>\n",
       "      <td>40.000000</td>\n",
       "      <td>2.36</td>\n",
       "      <td>7.272727</td>\n",
       "      <td>2.0</td>\n",
       "    </tr>\n",
       "    <tr>\n",
       "      <th>1</th>\n",
       "      <td>2013</td>\n",
       "      <td>Conglomerates</td>\n",
       "      <td>MMM</td>\n",
       "      <td>1.698186</td>\n",
       "      <td>-22.753086</td>\n",
       "      <td>1.012270</td>\n",
       "      <td>-26.954450</td>\n",
       "      <td>50.284895</td>\n",
       "      <td>1.447414</td>\n",
       "      <td>87.567366</td>\n",
       "      <td>...</td>\n",
       "      <td>21.913077</td>\n",
       "      <td>0.018089</td>\n",
       "      <td>-28.717392</td>\n",
       "      <td>12.326051</td>\n",
       "      <td>41.806877</td>\n",
       "      <td>0.11</td>\n",
       "      <td>-21.428571</td>\n",
       "      <td>2.54</td>\n",
       "      <td>7.627119</td>\n",
       "      <td>2.0</td>\n",
       "    </tr>\n",
       "    <tr>\n",
       "      <th>2</th>\n",
       "      <td>2014</td>\n",
       "      <td>Conglomerates</td>\n",
       "      <td>MMM</td>\n",
       "      <td>1.961487</td>\n",
       "      <td>15.504836</td>\n",
       "      <td>1.127209</td>\n",
       "      <td>11.354593</td>\n",
       "      <td>48.611609</td>\n",
       "      <td>-3.327613</td>\n",
       "      <td>82.245394</td>\n",
       "      <td>...</td>\n",
       "      <td>-39.851336</td>\n",
       "      <td>0.020773</td>\n",
       "      <td>14.836058</td>\n",
       "      <td>13.065263</td>\n",
       "      <td>5.997151</td>\n",
       "      <td>0.09</td>\n",
       "      <td>-18.181818</td>\n",
       "      <td>3.42</td>\n",
       "      <td>34.645669</td>\n",
       "      <td>2.0</td>\n",
       "    </tr>\n",
       "    <tr>\n",
       "      <th>3</th>\n",
       "      <td>2015</td>\n",
       "      <td>Conglomerates</td>\n",
       "      <td>MMM</td>\n",
       "      <td>1.543411</td>\n",
       "      <td>-21.314241</td>\n",
       "      <td>0.852768</td>\n",
       "      <td>-24.346986</td>\n",
       "      <td>50.082909</td>\n",
       "      <td>3.026645</td>\n",
       "      <td>83.473315</td>\n",
       "      <td>...</td>\n",
       "      <td>799.567847</td>\n",
       "      <td>0.027175</td>\n",
       "      <td>30.819267</td>\n",
       "      <td>12.318266</td>\n",
       "      <td>-5.717433</td>\n",
       "      <td>0.13</td>\n",
       "      <td>44.444444</td>\n",
       "      <td>4.10</td>\n",
       "      <td>19.883041</td>\n",
       "      <td>2.0</td>\n",
       "    </tr>\n",
       "    <tr>\n",
       "      <th>4</th>\n",
       "      <td>2016</td>\n",
       "      <td>Conglomerates</td>\n",
       "      <td>MMM</td>\n",
       "      <td>1.885512</td>\n",
       "      <td>22.165260</td>\n",
       "      <td>1.136839</td>\n",
       "      <td>33.311664</td>\n",
       "      <td>53.242552</td>\n",
       "      <td>6.308824</td>\n",
       "      <td>82.149269</td>\n",
       "      <td>...</td>\n",
       "      <td>-84.149916</td>\n",
       "      <td>0.024801</td>\n",
       "      <td>-8.738086</td>\n",
       "      <td>13.479738</td>\n",
       "      <td>9.428861</td>\n",
       "      <td>0.40</td>\n",
       "      <td>207.692308</td>\n",
       "      <td>4.44</td>\n",
       "      <td>8.292683</td>\n",
       "      <td>2.0</td>\n",
       "    </tr>\n",
       "  </tbody>\n",
       "</table>\n",
       "<p>5 rows × 90 columns</p>\n",
       "</div>"
      ],
      "text/plain": [
       "   year       industry symbol  currentRatio  currentRatio_percentage_change  \\\n",
       "0  2012  Conglomerates    MMM      2.198387                       -2.275946   \n",
       "1  2013  Conglomerates    MMM      1.698186                      -22.753086   \n",
       "2  2014  Conglomerates    MMM      1.961487                       15.504836   \n",
       "3  2015  Conglomerates    MMM      1.543411                      -21.314241   \n",
       "4  2016  Conglomerates    MMM      1.885512                       22.165260   \n",
       "\n",
       "   quickRatio  quickRatio_percentage_change  daysOfSalesOutstanding  \\\n",
       "0    1.385806                     -0.090461               49.567449   \n",
       "1    1.012270                    -26.954450               50.284895   \n",
       "2    1.127209                     11.354593               48.611609   \n",
       "3    0.852768                    -24.346986               50.082909   \n",
       "4    1.136839                     33.311664               53.242552   \n",
       "\n",
       "   daysOfSalesOutstanding_percentage_change  daysOfInventoryOutstanding  ...  \\\n",
       "0                                  3.987852                   89.289449  ...   \n",
       "1                                  1.447414                   87.567366  ...   \n",
       "2                                 -3.327613                   82.245394  ...   \n",
       "3                                  3.026645                   83.473315  ...   \n",
       "4                                  6.308824                   82.149269  ...   \n",
       "\n",
       "   priceEarningsToGrowthRatio_percentage_change  dividendYield  \\\n",
       "0                                      6.939145       0.025377   \n",
       "1                                     21.913077       0.018089   \n",
       "2                                    -39.851336       0.020773   \n",
       "3                                    799.567847       0.027175   \n",
       "4                                    -84.149916       0.024801   \n",
       "\n",
       "   dividendYield_percentage_change  enterpriseValueMultiple  \\\n",
       "0                        -5.500411                 8.692139   \n",
       "1                       -28.717392                12.326051   \n",
       "2                        14.836058                13.065263   \n",
       "3                        30.819267                12.318266   \n",
       "4                        -8.738086                13.479738   \n",
       "\n",
       "   enterpriseValueMultiple_percentage_change  interestRate  \\\n",
       "0                                   5.900833          0.14   \n",
       "1                                  41.806877          0.11   \n",
       "2                                   5.997151          0.09   \n",
       "3                                  -5.717433          0.13   \n",
       "4                                   9.428861          0.40   \n",
       "\n",
       "   interestRate_percentage_change  adjDividend  dps_growth  \\\n",
       "0                       40.000000         2.36    7.272727   \n",
       "1                      -21.428571         2.54    7.627119   \n",
       "2                      -18.181818         3.42   34.645669   \n",
       "3                       44.444444         4.10   19.883041   \n",
       "4                      207.692308         4.44    8.292683   \n",
       "\n",
       "   dps_change_next_year  \n",
       "0                   2.0  \n",
       "1                   2.0  \n",
       "2                   2.0  \n",
       "3                   2.0  \n",
       "4                   2.0  \n",
       "\n",
       "[5 rows x 90 columns]"
      ]
     },
     "execution_count": 17,
     "metadata": {},
     "output_type": "execute_result"
    }
   ],
   "source": [
    "from imblearn.over_sampling import RandomOverSampler\n",
    "\n",
    "RandomOverSampler()"
   ]
  },
  {
   "cell_type": "markdown",
   "metadata": {},
   "source": [
    "## remove columns with NA in labels"
   ]
  },
  {
   "cell_type": "code",
   "execution_count": 200,
   "metadata": {},
   "outputs": [
    {
     "data": {
      "text/plain": [
       "((4311, 116), (479, 116))"
      ]
     },
     "execution_count": 200,
     "metadata": {},
     "output_type": "execute_result"
    }
   ],
   "source": [
    "# split data\n",
    "training_data = raw_data[~(raw_data['year']==2021)]\n",
    "test_data = raw_data[raw_data['year']==2021]\n",
    "training_data.shape, test_data.shape"
   ]
  },
  {
   "cell_type": "code",
   "execution_count": 201,
   "metadata": {},
   "outputs": [],
   "source": [
    "# X and y\n",
    "y = training_data[label_col_name]\n",
    "X = training_data.drop(labels=label_col_name, axis=1)"
   ]
  },
  {
   "cell_type": "code",
   "execution_count": null,
   "metadata": {},
   "outputs": [],
   "source": [
    "# imbalance correction\n",
    "# - oversampling, SMOTE"
   ]
  },
  {
   "cell_type": "markdown",
   "metadata": {},
   "source": [
    "# Data Exploration"
   ]
  },
  {
   "cell_type": "code",
   "execution_count": 165,
   "metadata": {},
   "outputs": [
    {
     "name": "stdout",
     "output_type": "stream",
     "text": [
      "[2.27914809e+19 4.04615997e+11 7.40401097e+10 1.23143814e+09\n",
      " 7.85997180e+08 3.79869466e+08 2.55405475e+08 7.82014967e+07\n",
      " 3.70466724e+07 2.71043122e+07 1.84617358e+07 1.89430309e+07\n",
      " 1.12879460e+07 1.12314560e+07 1.09057729e+07 1.02010252e+07\n",
      " 9.42366761e+06 4.63153147e+06 4.38270517e+06 2.69199037e+06\n",
      " 2.49164361e+06 2.23168617e+06 2.12650714e+06 1.40942911e+06\n",
      " 1.37411353e+06 1.28932307e+06 1.18822447e+06 9.78702002e+05\n",
      " 8.36929193e+05 5.45182724e+05 5.26231192e+05 3.93400990e+05\n",
      " 2.37591131e+05 1.44299839e+05 1.40228814e+05 1.29227599e+05\n",
      " 1.30739058e+05 8.73439759e+04 8.69835230e+04 8.31895434e+04\n",
      " 8.13617250e+04 6.20340403e+04 6.13203870e+04 4.42393935e+04\n",
      " 4.00239395e+04 3.80990964e+04 3.57976669e+04 3.20480616e+04\n",
      " 2.41121042e+04 2.57032146e+04 2.65017075e+04 1.22211398e+04\n",
      " 7.95341362e+03 4.69089863e+03 4.35247228e+03 4.17393802e+03\n",
      " 3.90167303e+03 1.62185183e+03 1.54716720e+03 1.03493536e+03\n",
      " 7.48877337e+02 3.98197883e+02 2.11400362e+02 1.82428136e+02\n",
      " 8.99510608e+01 6.32824260e+01 5.93136614e+01 5.09209285e+01\n",
      " 1.66844918e+01 1.16867402e+01 6.18623681e+00 5.21310007e+00\n",
      " 2.14498575e+00 8.46209383e-01 6.49291092e-01 4.91133339e-01\n",
      " 3.12865038e-01 1.11277315e-01 8.81234434e-02 2.90604980e-02\n",
      " 1.34991547e-02 1.14271282e-02 1.04504054e-02 8.33818214e-04\n",
      " 1.81737260e-03 5.32953756e-03 4.73662979e-03]\n"
     ]
    }
   ],
   "source": [
    "cov = np.cov(temp_df, rowvar=0)\n",
    "w, v = np.linalg.eig(cov)\n",
    "print(w)"
   ]
  },
  {
   "cell_type": "code",
   "execution_count": 163,
   "metadata": {},
   "outputs": [
    {
     "data": {
      "text/plain": [
       "(0.0008338182144696295,\n",
       " 2.2791480933771866e+19,\n",
       " 44239.39346558913,\n",
       " 2.2791481415342146e+19)"
      ]
     },
     "execution_count": 163,
     "metadata": {},
     "output_type": "execute_result"
    }
   ],
   "source": [
    "np.min(w), np.max(w), np.median(w), np.sum(w)"
   ]
  },
  {
   "cell_type": "code",
   "execution_count": 171,
   "metadata": {},
   "outputs": [
    {
     "data": {
      "text/plain": [
       "array([-7.61004381e-08,  1.16260797e-11,  5.08910700e-07, -2.26733643e-08,\n",
       "        3.30517793e-06,  3.81013813e-05, -2.86448935e-08, -2.24424615e-06,\n",
       "       -1.19744230e-06,  1.97605802e-14, -4.99516752e-03,  4.45305661e-05,\n",
       "       -1.18621563e-01, -4.83394904e-07, -6.13623796e-02, -1.75637513e-07,\n",
       "        2.50469942e-01, -8.70794637e-07, -2.25390898e-04,  1.00560400e-08,\n",
       "       -8.65973137e-01,  1.35355128e-06,  5.25228599e-04, -2.08413095e-07,\n",
       "        4.06074375e-01, -2.84300180e-05, -3.27917037e-07, -4.48863749e-06,\n",
       "        4.91229998e-07,  3.30123886e-02,  2.07958129e-07, -1.54319620e-05,\n",
       "       -2.89417859e-07,  5.34782109e-03,  2.73525586e-07, -4.85218915e-02,\n",
       "        3.95714770e-06,  4.20439656e-07,  1.91622770e-06, -6.01009539e-08,\n",
       "        7.47158896e-06, -9.54838283e-06, -5.85800083e-07, -6.47709612e-06,\n",
       "        2.99862518e-06, -6.17049736e-07,  3.33532049e-07,  1.55675486e-08,\n",
       "       -2.54981257e-08, -7.66777512e-03,  2.80330933e-05,  5.16873537e-04,\n",
       "       -8.45351816e-07, -1.55875526e-04,  3.42260314e-07, -3.84042273e-05,\n",
       "       -4.59457779e-07,  1.14445839e-06,  3.74081391e-07, -3.05433510e-02,\n",
       "        1.60714941e-05,  3.60875208e-07, -7.84740115e-07,  2.24878276e-08,\n",
       "        1.99118683e-06, -1.52370276e-08, -2.27434684e-06, -8.08828066e-08,\n",
       "       -1.82223564e-05,  8.88155079e-04, -1.66302659e-06, -1.78448859e-06,\n",
       "       -9.39646243e-07, -9.17200665e-07, -1.37298188e-07,  6.57397910e-07,\n",
       "       -8.54881700e-08,  6.84017482e-06, -8.96933288e-09,  1.10168457e-02,\n",
       "       -1.59072684e-07,  3.67891183e-06,  6.16644866e-07,  3.18601389e-03,\n",
       "       -2.45539784e-05, -3.86350575e-04,  1.91761794e-05])"
      ]
     },
     "execution_count": 171,
     "metadata": {},
     "output_type": "execute_result"
    }
   ],
   "source": [
    "v[:, np.argmin(w)]"
   ]
  },
  {
   "cell_type": "code",
   "execution_count": 150,
   "metadata": {},
   "outputs": [
    {
     "data": {
      "text/plain": [
       "'daysOfPayablesOutstanding'"
      ]
     },
     "execution_count": 150,
     "metadata": {},
     "output_type": "execute_result"
    }
   ],
   "source": [
    "temp_df.columns[9]"
   ]
  },
  {
   "cell_type": "code",
   "execution_count": 157,
   "metadata": {},
   "outputs": [
    {
     "data": {
      "text/plain": [
       "(70643446.76732217, 48.50593723348696, 322627794117.6471)"
      ]
     },
     "execution_count": 157,
     "metadata": {},
     "output_type": "execute_result"
    }
   ],
   "source": [
    "temp_df['daysOfPayablesOutstanding'].mean(), temp_df['daysOfPayablesOutstanding'].median(), \\\n",
    "temp_df['daysOfPayablesOutstanding'].max()"
   ]
  },
  {
   "cell_type": "code",
   "execution_count": 160,
   "metadata": {},
   "outputs": [
    {
     "data": {
      "text/plain": [
       "(array([4.562e+03, 1.000e+00, 0.000e+00, 1.000e+00, 1.000e+00, 0.000e+00,\n",
       "        0.000e+00, 0.000e+00, 0.000e+00, 0.000e+00, 0.000e+00, 0.000e+00,\n",
       "        0.000e+00, 0.000e+00, 0.000e+00, 0.000e+00, 0.000e+00, 1.000e+00,\n",
       "        0.000e+00, 1.000e+00]),\n",
       " array([     0.        ,  10350.76297872,  20701.52595745,  31052.28893617,\n",
       "         41403.05191489,  51753.81489362,  62104.57787234,  72455.34085106,\n",
       "         82806.10382979,  93156.86680851, 103507.62978723, 113858.39276596,\n",
       "        124209.15574468, 134559.9187234 , 144910.68170213, 155261.44468085,\n",
       "        165612.20765957, 175962.9706383 , 186313.73361702, 196664.49659574,\n",
       "        207015.25957447]),\n",
       " <BarContainer object of 20 artists>)"
      ]
     },
     "execution_count": 160,
     "metadata": {},
     "output_type": "execute_result"
    },
    {
     "data": {
      "image/png": "[encoded data removed]",
      "text/plain": [
       "<Figure size 640x480 with 1 Axes>"
      ]
     },
     "metadata": {},
     "output_type": "display_data"
    }
   ],
   "source": [
    "plt.hist(temp_df['currentRatio'], bins=20)"
   ]
  },
  {
   "cell_type": "code",
   "execution_count": 149,
   "metadata": {},
   "outputs": [
    {
     "data": {
      "text/plain": [
       "array([ 3.46133507e-10,  3.91569278e-08,  1.21986733e-10,  1.57323290e-09,\n",
       "       -8.67303193e-11,  1.75726333e-11,  1.04577768e-11,  7.14049491e-11,\n",
       "        2.19085329e-11, -1.00000000e+00, -1.57364748e-12, -2.00639708e-12,\n",
       "        2.56414772e-13,  1.37058867e-10,  1.80157123e-13,  3.37540535e-10,\n",
       "        1.34813134e-13,  1.25772619e-10, -7.85936333e-14, -5.36790664e-10,\n",
       "        5.20732489e-14,  1.30985441e-11,  4.47503573e-14,  9.44764611e-10,\n",
       "        1.98536824e-13,  1.98717938e-13,  1.03323948e-10,  1.76407162e-12,\n",
       "        1.31492116e-11,  7.45479935e-13,  1.46872301e-09,  1.34795470e-12,\n",
       "        1.45644164e-09,  8.12178665e-13,  4.01473237e-10,  8.55667520e-13,\n",
       "        4.15744075e-11,  1.87177141e-10,  9.18351098e-11, -3.07332922e-12,\n",
       "        3.08287742e-12,  3.76966850e-11,  5.16743843e-11,  2.79683902e-11,\n",
       "        3.51866488e-10,  5.73292506e-11,  8.22151291e-11, -1.00107697e-10,\n",
       "        8.90527037e-11,  1.07659164e-13,  5.98048868e-12, -1.84197430e-11,\n",
       "        7.27350574e-11, -2.57517040e-11, -6.38400512e-11, -1.71011804e-10,\n",
       "        2.84404672e-10, -8.56747466e-13, -3.58078666e-10,  1.50565445e-13,\n",
       "       -1.82961067e-12, -6.72001554e-11,  5.55474328e-10,  4.52427191e-09,\n",
       "        8.00369781e-11,  1.72338110e-10,  2.11860176e-12,  3.59855869e-11,\n",
       "        1.76537578e-12,  7.36287692e-12,  5.97861540e-11,  6.79801995e-11,\n",
       "        1.74139186e-11,  1.74917881e-11,  1.63584715e-10,  5.59564781e-11,\n",
       "        1.07125606e-10,  1.54020208e-12, -1.16132381e-08, -1.11343668e-13,\n",
       "       -1.60266973e-10,  5.97758902e-12, -1.56600036e-10,  1.75282895e-12,\n",
       "        3.50827081e-10, -1.51445698e-11, -3.68605172e-10])"
      ]
     },
     "execution_count": 149,
     "metadata": {},
     "output_type": "execute_result"
    }
   ],
   "source": [
    "v[:, 0]"
   ]
  },
  {
   "cell_type": "code",
   "execution_count": 147,
   "metadata": {},
   "outputs": [
    {
     "data": {
      "text/plain": [
       "[<matplotlib.lines.Line2D at 0x7fc241546830>]"
      ]
     },
     "execution_count": 147,
     "metadata": {},
     "output_type": "execute_result"
    },
    {
     "data": {
      "image/png": "[encoded data removed]",
      "text/plain": [
       "<Figure size 640x480 with 1 Axes>"
      ]
     },
     "metadata": {},
     "output_type": "display_data"
    }
   ],
   "source": [
    "plt.plot(v[:, 0])"
   ]
  },
  {
   "cell_type": "code",
   "execution_count": 141,
   "metadata": {},
   "outputs": [
    {
     "data": {
      "text/plain": [
       "(array([86.,  0.,  0.,  0.,  0.,  0.,  0.,  0.,  0.,  0.,  0.,  0.,  0.,\n",
       "         0.,  0.,  0.,  0.,  0.,  0.,  1.]),\n",
       " array([8.33818214e-04, 1.13957405e+18, 2.27914809e+18, 3.41872214e+18,\n",
       "        4.55829619e+18, 5.69787023e+18, 6.83744428e+18, 7.97701833e+18,\n",
       "        9.11659237e+18, 1.02561664e+19, 1.13957405e+19, 1.25353145e+19,\n",
       "        1.36748886e+19, 1.48144626e+19, 1.59540367e+19, 1.70936107e+19,\n",
       "        1.82331847e+19, 1.93727588e+19, 2.05123328e+19, 2.16519069e+19,\n",
       "        2.27914809e+19]),\n",
       " <BarContainer object of 20 artists>)"
      ]
     },
     "execution_count": 141,
     "metadata": {},
     "output_type": "execute_result"
    },
    {
     "data": {
      "image/png": "[encoded data removed]",
      "text/plain": [
       "<Figure size 640x480 with 1 Axes>"
      ]
     },
     "metadata": {},
     "output_type": "display_data"
    }
   ],
   "source": [
    "plt.hist(w, bins=20);"
   ]
  },
  {
   "cell_type": "code",
   "execution_count": 95,
   "metadata": {},
   "outputs": [
    {
     "name": "stdout",
     "output_type": "stream",
     "text": [
      "[ 2.95000720e+00 -2.58040117e-16  8.60020101e-01  1.07789338e+00]\n"
     ]
    }
   ],
   "source": [
    "x1 = np.random.randn(100, 1)\n",
    "x2 = np.random.randn(100, 1)\n",
    "\n",
    "x3 = (x1 + x2)\n",
    "x4 = np.random.randn(100, 1) \n",
    "\n",
    "xs = np.concatenate((x1, x2, x3, x4), axis=1)\n",
    "\n",
    "# xs = scaler.fit_transform(xs)\n",
    "\n",
    "# >>> corr = np.corrcoef(xs, rowvar=0)\n",
    "cov = np.cov(xs, rowvar=0)\n",
    "w, v = np.linalg.eig(cov)\n",
    "print(w)\n",
    "\n"
   ]
  },
  {
   "cell_type": "code",
   "execution_count": 96,
   "metadata": {},
   "outputs": [
    {
     "data": {
      "text/plain": [
       "array([-5.77350269e-01, -5.77350269e-01,  5.77350269e-01, -8.98710839e-17])"
      ]
     },
     "execution_count": 96,
     "metadata": {},
     "output_type": "execute_result"
    }
   ],
   "source": [
    "v[:, 1]"
   ]
  },
  {
   "cell_type": "code",
   "execution_count": null,
   "metadata": {},
   "outputs": [],
   "source": []
  }
 ],
 "metadata": {
  "kernelspec": {
   "display_name": ".env",
   "language": "python",
   "name": "python3"
  },
  "language_info": {
   "codemirror_mode": {
    "name": "ipython",
    "version": 3
   },
   "file_extension": ".py",
   "mimetype": "text/x-python",
   "name": "python",
   "nbconvert_exporter": "python",
   "pygments_lexer": "ipython3",
   "version": "3.10.13"
  },
  "orig_nbformat": 4
 },
 "nbformat": 4,
 "nbformat_minor": 2
}

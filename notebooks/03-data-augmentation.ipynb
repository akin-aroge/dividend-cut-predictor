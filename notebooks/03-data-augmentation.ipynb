{
 "cells": [
  {
   "cell_type": "markdown",
   "metadata": {},
   "source": [
    "# imports"
   ]
  },
  {
   "cell_type": "code",
   "execution_count": 3,
   "metadata": {},
   "outputs": [],
   "source": [
    "# imports\n",
    "import pandas as pd\n",
    "\n",
    "import numpy as np\n",
    "from sklearn.pipeline import Pipeline\n",
    "\n",
    "from src.utils import utils\n",
    "from src.data_processing import preprocessing as prep\n",
    "import logging\n",
    "\n",
    "%load_ext autoreload\n",
    "%autoreload 2"
   ]
  },
  {
   "cell_type": "markdown",
   "metadata": {},
   "source": [
    "# Read Data"
   ]
  },
  {
   "cell_type": "code",
   "execution_count": 4,
   "metadata": {},
   "outputs": [
    {
     "data": {
      "text/html": [
       "<div>\n",
       "<style scoped>\n",
       "    .dataframe tbody tr th:only-of-type {\n",
       "        vertical-align: middle;\n",
       "    }\n",
       "\n",
       "    .dataframe tbody tr th {\n",
       "        vertical-align: top;\n",
       "    }\n",
       "\n",
       "    .dataframe thead th {\n",
       "        text-align: right;\n",
       "    }\n",
       "</style>\n",
       "<table border=\"1\" class=\"dataframe\">\n",
       "  <thead>\n",
       "    <tr style=\"text-align: right;\">\n",
       "      <th></th>\n",
       "      <th>industry</th>\n",
       "      <th>symbol</th>\n",
       "      <th>year</th>\n",
       "      <th>currentRatio</th>\n",
       "      <th>currentRatio_percentage_change</th>\n",
       "      <th>quickRatio</th>\n",
       "      <th>quickRatio_percentage_change</th>\n",
       "      <th>daysOfSalesOutstanding</th>\n",
       "      <th>daysOfSalesOutstanding_percentage_change</th>\n",
       "      <th>daysOfInventoryOutstanding</th>\n",
       "      <th>...</th>\n",
       "      <th>priceEarningsToGrowthRatio_percentage_change</th>\n",
       "      <th>dividendYield</th>\n",
       "      <th>dividendYield_percentage_change</th>\n",
       "      <th>enterpriseValueMultiple</th>\n",
       "      <th>enterpriseValueMultiple_percentage_change</th>\n",
       "      <th>interestRate</th>\n",
       "      <th>interestRate_percentage_change</th>\n",
       "      <th>adjDividend</th>\n",
       "      <th>dps_growth</th>\n",
       "      <th>dps_change_next_year</th>\n",
       "    </tr>\n",
       "  </thead>\n",
       "  <tbody>\n",
       "    <tr>\n",
       "      <th>0</th>\n",
       "      <td>24</td>\n",
       "      <td>291</td>\n",
       "      <td>2012.0</td>\n",
       "      <td>2.198387</td>\n",
       "      <td>-2.275946</td>\n",
       "      <td>1.385806</td>\n",
       "      <td>-0.090461</td>\n",
       "      <td>49.567449</td>\n",
       "      <td>3.987852</td>\n",
       "      <td>89.289449</td>\n",
       "      <td>...</td>\n",
       "      <td>6.939145</td>\n",
       "      <td>0.025377</td>\n",
       "      <td>-5.500411</td>\n",
       "      <td>8.692139</td>\n",
       "      <td>5.900833</td>\n",
       "      <td>0.14</td>\n",
       "      <td>40.000000</td>\n",
       "      <td>2.36</td>\n",
       "      <td>7.272727</td>\n",
       "      <td>0</td>\n",
       "    </tr>\n",
       "    <tr>\n",
       "      <th>1</th>\n",
       "      <td>24</td>\n",
       "      <td>291</td>\n",
       "      <td>2013.0</td>\n",
       "      <td>1.698186</td>\n",
       "      <td>-22.753086</td>\n",
       "      <td>1.012270</td>\n",
       "      <td>-26.954450</td>\n",
       "      <td>50.284895</td>\n",
       "      <td>1.447414</td>\n",
       "      <td>87.567366</td>\n",
       "      <td>...</td>\n",
       "      <td>21.913077</td>\n",
       "      <td>0.018089</td>\n",
       "      <td>-28.717392</td>\n",
       "      <td>12.326051</td>\n",
       "      <td>41.806877</td>\n",
       "      <td>0.11</td>\n",
       "      <td>-21.428571</td>\n",
       "      <td>2.54</td>\n",
       "      <td>7.627119</td>\n",
       "      <td>0</td>\n",
       "    </tr>\n",
       "    <tr>\n",
       "      <th>2</th>\n",
       "      <td>24</td>\n",
       "      <td>291</td>\n",
       "      <td>2014.0</td>\n",
       "      <td>1.961487</td>\n",
       "      <td>15.504836</td>\n",
       "      <td>1.127209</td>\n",
       "      <td>11.354593</td>\n",
       "      <td>48.611609</td>\n",
       "      <td>-3.327613</td>\n",
       "      <td>82.245394</td>\n",
       "      <td>...</td>\n",
       "      <td>-39.851336</td>\n",
       "      <td>0.020773</td>\n",
       "      <td>14.836058</td>\n",
       "      <td>13.065263</td>\n",
       "      <td>5.997151</td>\n",
       "      <td>0.09</td>\n",
       "      <td>-18.181818</td>\n",
       "      <td>3.42</td>\n",
       "      <td>34.645669</td>\n",
       "      <td>0</td>\n",
       "    </tr>\n",
       "    <tr>\n",
       "      <th>3</th>\n",
       "      <td>24</td>\n",
       "      <td>291</td>\n",
       "      <td>2015.0</td>\n",
       "      <td>1.543411</td>\n",
       "      <td>-21.314241</td>\n",
       "      <td>0.852768</td>\n",
       "      <td>-24.346986</td>\n",
       "      <td>50.082909</td>\n",
       "      <td>3.026645</td>\n",
       "      <td>83.473315</td>\n",
       "      <td>...</td>\n",
       "      <td>799.567847</td>\n",
       "      <td>0.027175</td>\n",
       "      <td>30.819267</td>\n",
       "      <td>12.318266</td>\n",
       "      <td>-5.717433</td>\n",
       "      <td>0.13</td>\n",
       "      <td>44.444444</td>\n",
       "      <td>4.10</td>\n",
       "      <td>19.883041</td>\n",
       "      <td>0</td>\n",
       "    </tr>\n",
       "    <tr>\n",
       "      <th>4</th>\n",
       "      <td>24</td>\n",
       "      <td>291</td>\n",
       "      <td>2016.0</td>\n",
       "      <td>1.885512</td>\n",
       "      <td>22.165260</td>\n",
       "      <td>1.136839</td>\n",
       "      <td>33.311664</td>\n",
       "      <td>53.242552</td>\n",
       "      <td>6.308824</td>\n",
       "      <td>82.149269</td>\n",
       "      <td>...</td>\n",
       "      <td>-84.149916</td>\n",
       "      <td>0.024801</td>\n",
       "      <td>-8.738086</td>\n",
       "      <td>13.479738</td>\n",
       "      <td>9.428861</td>\n",
       "      <td>0.40</td>\n",
       "      <td>207.692308</td>\n",
       "      <td>4.44</td>\n",
       "      <td>8.292683</td>\n",
       "      <td>0</td>\n",
       "    </tr>\n",
       "  </tbody>\n",
       "</table>\n",
       "<p>5 rows × 89 columns</p>\n",
       "</div>"
      ],
      "text/plain": [
       "   industry  symbol    year  currentRatio  currentRatio_percentage_change  \\\n",
       "0        24     291  2012.0      2.198387                       -2.275946   \n",
       "1        24     291  2013.0      1.698186                      -22.753086   \n",
       "2        24     291  2014.0      1.961487                       15.504836   \n",
       "3        24     291  2015.0      1.543411                      -21.314241   \n",
       "4        24     291  2016.0      1.885512                       22.165260   \n",
       "\n",
       "   quickRatio  quickRatio_percentage_change  daysOfSalesOutstanding  \\\n",
       "0    1.385806                     -0.090461               49.567449   \n",
       "1    1.012270                    -26.954450               50.284895   \n",
       "2    1.127209                     11.354593               48.611609   \n",
       "3    0.852768                    -24.346986               50.082909   \n",
       "4    1.136839                     33.311664               53.242552   \n",
       "\n",
       "   daysOfSalesOutstanding_percentage_change  daysOfInventoryOutstanding  ...  \\\n",
       "0                                  3.987852                   89.289449  ...   \n",
       "1                                  1.447414                   87.567366  ...   \n",
       "2                                 -3.327613                   82.245394  ...   \n",
       "3                                  3.026645                   83.473315  ...   \n",
       "4                                  6.308824                   82.149269  ...   \n",
       "\n",
       "   priceEarningsToGrowthRatio_percentage_change  dividendYield  \\\n",
       "0                                      6.939145       0.025377   \n",
       "1                                     21.913077       0.018089   \n",
       "2                                    -39.851336       0.020773   \n",
       "3                                    799.567847       0.027175   \n",
       "4                                    -84.149916       0.024801   \n",
       "\n",
       "   dividendYield_percentage_change  enterpriseValueMultiple  \\\n",
       "0                        -5.500411                 8.692139   \n",
       "1                       -28.717392                12.326051   \n",
       "2                        14.836058                13.065263   \n",
       "3                        30.819267                12.318266   \n",
       "4                        -8.738086                13.479738   \n",
       "\n",
       "   enterpriseValueMultiple_percentage_change  interestRate  \\\n",
       "0                                   5.900833          0.14   \n",
       "1                                  41.806877          0.11   \n",
       "2                                   5.997151          0.09   \n",
       "3                                  -5.717433          0.13   \n",
       "4                                   9.428861          0.40   \n",
       "\n",
       "   interestRate_percentage_change  adjDividend  dps_growth  \\\n",
       "0                       40.000000         2.36    7.272727   \n",
       "1                      -21.428571         2.54    7.627119   \n",
       "2                      -18.181818         3.42   34.645669   \n",
       "3                       44.444444         4.10   19.883041   \n",
       "4                      207.692308         4.44    8.292683   \n",
       "\n",
       "   dps_change_next_year  \n",
       "0                     0  \n",
       "1                     0  \n",
       "2                     0  \n",
       "3                     0  \n",
       "4                     0  \n",
       "\n",
       "[5 rows x 89 columns]"
      ]
     },
     "execution_count": 4,
     "metadata": {},
     "output_type": "execute_result"
    }
   ],
   "source": [
    "root_dir = utils.get_proj_root()\n",
    "raw_data =  pd.read_csv(root_dir.joinpath('data/processed/preprocessed.csv'))\n",
    "raw_data.head()"
   ]
  },
  {
   "cell_type": "code",
   "execution_count": null,
   "metadata": {},
   "outputs": [],
   "source": []
  },
  {
   "cell_type": "markdown",
   "metadata": {},
   "source": [
    "# Data Augmentation"
   ]
  },
  {
   "cell_type": "markdown",
   "metadata": {},
   "source": []
  },
  {
   "cell_type": "markdown",
   "metadata": {},
   "source": [
    "## data imbalance"
   ]
  },
  {
   "cell_type": "code",
   "execution_count": 5,
   "metadata": {},
   "outputs": [
    {
     "data": {
      "text/plain": [
       "dps_change_next_year\n",
       "0    4303\n",
       "1     264\n",
       "Name: count, dtype: int64"
      ]
     },
     "execution_count": 5,
     "metadata": {},
     "output_type": "execute_result"
    }
   ],
   "source": [
    "df = raw_data.copy()\n",
    "\n",
    "# chekc data imbalance\n",
    "label_col_name = 'dps_change_next_year'\n",
    "df[label_col_name].value_counts()"
   ]
  },
  {
   "cell_type": "code",
   "execution_count": 6,
   "metadata": {},
   "outputs": [
    {
     "data": {
      "text/plain": [
       "industry                          0\n",
       "symbol                            0\n",
       "year                              0\n",
       "currentRatio                      0\n",
       "currentRatio_percentage_change    0\n",
       "                                 ..\n",
       "interestRate                      0\n",
       "interestRate_percentage_change    0\n",
       "adjDividend                       0\n",
       "dps_growth                        0\n",
       "dps_change_next_year              0\n",
       "Length: 89, dtype: int64"
      ]
     },
     "execution_count": 6,
     "metadata": {},
     "output_type": "execute_result"
    }
   ],
   "source": [
    "df.isna().sum()"
   ]
  },
  {
   "cell_type": "code",
   "execution_count": 7,
   "metadata": {},
   "outputs": [],
   "source": [
    "# \n",
    "\n",
    "\n",
    "training_data = df.loc[df['year'] != 2021]\n",
    "testing_data = df.loc[df['year'] == 2021]\n",
    "\n",
    "X_train = training_data.drop(label_col_name, axis=\"columns\")\n",
    "y_train = training_data[label_col_name]\n",
    "X_test = testing_data.drop(label_col_name, axis=\"columns\")\n",
    "y_test = testing_data[label_col_name]"
   ]
  },
  {
   "cell_type": "code",
   "execution_count": 8,
   "metadata": {},
   "outputs": [
    {
     "data": {
      "text/plain": [
       "{0: 3838, 1: 3838}"
      ]
     },
     "execution_count": 8,
     "metadata": {},
     "output_type": "execute_result"
    }
   ],
   "source": [
    "from imblearn.over_sampling import SMOTE\n",
    "\n",
    "def balance_data(X, y, random_state=None):\n",
    "\n",
    "    smote = SMOTE(random_state=random_state)\n",
    "    X_resample, y_resample = smote.fit_resample(X, y)\n",
    "\n",
    "\n",
    "    return X_resample, y_resample\n",
    "\n",
    "X_resample, y_resample = balance_data(X_train, y_train)\n",
    "y_train.value_counts().to_dict()\n",
    "y_resample.value_counts().to_dict()"
   ]
  },
  {
   "cell_type": "code",
   "execution_count": 14,
   "metadata": {},
   "outputs": [],
   "source": [
    "X_resample[label_col_name] = y_resample"
   ]
  },
  {
   "cell_type": "code",
   "execution_count": null,
   "metadata": {},
   "outputs": [],
   "source": []
  }
 ],
 "metadata": {
  "kernelspec": {
   "display_name": ".env",
   "language": "python",
   "name": "python3"
  },
  "language_info": {
   "codemirror_mode": {
    "name": "ipython",
    "version": 3
   },
   "file_extension": ".py",
   "mimetype": "text/x-python",
   "name": "python",
   "nbconvert_exporter": "python",
   "pygments_lexer": "ipython3",
   "version": "3.10.13"
  },
  "orig_nbformat": 4
 },
 "nbformat": 4,
 "nbformat_minor": 2
}
